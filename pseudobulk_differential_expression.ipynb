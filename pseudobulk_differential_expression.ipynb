{
 "cells": [
  {
   "cell_type": "code",
   "execution_count": null,
   "metadata": {},
   "outputs": [],
   "source": [
    "library(DESeq2)\n",
    "library(EnhancedVolcano)\n",
    "library(ggplot2)"
   ]
  },
  {
   "cell_type": "code",
   "execution_count": null,
   "metadata": {},
   "outputs": [],
   "source": []
  },
  {
   "cell_type": "code",
   "execution_count": null,
   "metadata": {},
   "outputs": [],
   "source": [
    "tnk_gene_exp <- read.csv(\"tnk_celltype_pooled_expression_by_sample.csv\",row.names=1)\n",
    "metadata <- read.csv(\"tnk_celltype_pooled_metadata.csv\", row.names=1)\n"
   ]
  },
  {
   "cell_type": "code",
   "execution_count": null,
   "metadata": {},
   "outputs": [],
   "source": [
    "# dropna\n",
    "tnk_gene_exp <- na.omit(tnk_gene_exp)\n",
    "tnk_gene_exp <- t(tnk_gene_exp)\n"
   ]
  },
  {
   "cell_type": "code",
   "execution_count": null,
   "metadata": {},
   "outputs": [],
   "source": [
    "metadata = metadata[colnames(tnk_gene_exp),]\n"
   ]
  },
  {
   "cell_type": "code",
   "execution_count": null,
   "metadata": {},
   "outputs": [],
   "source": [
    "\n",
    "\n",
    "# remove genes not expressed in > 20% of samples\n",
    "tnk_gene_exp<-tnk_gene_exp[rowCounts(tnk_gene_exp>0, value=TRUE) >= 0.2 * dim(tnk_gene_exp)[2],]\n",
    "\n",
    "# remove sample/celltypes with < 20 cells\n",
    "metadata <- metadata[metadata$Cell_Number > 10,]\n",
    "\n",
    "tnk_gene_exp = tnk_gene_exp[,rownames(metadata)]\n"
   ]
  },
  {
   "cell_type": "code",
   "execution_count": null,
   "metadata": {},
   "outputs": [],
   "source": [
    "metadata$M.Number <- factor(metadata$M.Number)"
   ]
  },
  {
   "cell_type": "code",
   "execution_count": null,
   "metadata": {},
   "outputs": [],
   "source": [
    "# to make the design matrix work\n",
    "metadata$monkey_condition_categories <- factor(metadata$monkey_condition_categories)"
   ]
  },
  {
   "cell_type": "code",
   "execution_count": null,
   "metadata": {},
   "outputs": [],
   "source": [
    "# to get celltype vs celltype differential expression\n",
    "dds <- DESeqDataSetFromMatrix(countData = tnk_gene_exp, colData = metadata, design = ~ factor(M.Number)+celltype)\n"
   ]
  },
  {
   "cell_type": "code",
   "execution_count": null,
   "metadata": {},
   "outputs": [],
   "source": [
    "metadata$is.T1T17 <- metadata$NK.T.clusters==\"T1T17\" # this is to get T1T17 marker genes"
   ]
  },
  {
   "cell_type": "code",
   "execution_count": null,
   "metadata": {},
   "outputs": [],
   "source": [
    "# getting T1T17 differences between treatments\n",
    "# interaction gives the difference between condition effects here, that is not really what we want\n",
    "# we want the condition effect that is specific to the T1T17 cells\n",
    "# well maybe that is what we want, we want genes that change between treatments in T1T17 cells but not necessarily in all cells\n",
    "dds <- DESeqDataSetFromMatrix(countData = tnk_gene_exp, colData = metadata, design = ~ factor(monkey_condition_categories)+treatment+is.T1T17+treatment:is.T1T17)\n",
    "dds$treatment <- relevel(dds$treatment, ref = \"IgG\")\n",
    "dds_wald <- DESeq(dds,test=\"Wald\")\n",
    "#dds_lrt <- DESeq(dds, test=\"LRT\", reduced = ~ factor(monkey_condition_categories))#+treatment+is.T1T17\n"
   ]
  },
  {
   "cell_type": "code",
   "execution_count": null,
   "metadata": {},
   "outputs": [],
   "source": [
    "resultsNames(dds_wald)\n"
   ]
  },
  {
   "cell_type": "code",
   "execution_count": null,
   "metadata": {},
   "outputs": [],
   "source": [
    "res<-results(dds_wald,name='treatmentCD8a.is.T1T17TRUE')\n",
    "ressub <-subset(res,res$padj < 0.05)\n",
    "head(ressub[order(ressub$log2FoldChange,decreasing = TRUE),],20)"
   ]
  },
  {
   "cell_type": "code",
   "execution_count": null,
   "metadata": {},
   "outputs": [],
   "source": [
    "res<-results(dds_wald,name='treatmentCD8b.is.T1T17TRUE')\n",
    "ressub <-subset(res,res$padj < 0.05)\n",
    "head(ressub[order(ressub$log2FoldChange,decreasing = TRUE),],20)"
   ]
  },
  {
   "cell_type": "code",
   "execution_count": null,
   "metadata": {},
   "outputs": [],
   "source": [
    "#make a group for condition+isT1T17 and directly contrast those instead of doing interaction terms\n",
    "dds$group <- factor(paste0(dds$treatment, dds$is.T1T17))\n",
    "design(dds) <- ~ factor(monkey_condition_categories)+group\n",
    "dds_wald_2 <- DESeq(dds, test=\"Wald\")"
   ]
  },
  {
   "cell_type": "code",
   "execution_count": null,
   "metadata": {},
   "outputs": [],
   "source": [
    "unique(dds$group)"
   ]
  },
  {
   "cell_type": "code",
   "execution_count": null,
   "metadata": {},
   "outputs": [],
   "source": [
    "resultsNames(dds_wald_2)"
   ]
  },
  {
   "cell_type": "code",
   "execution_count": null,
   "metadata": {},
   "outputs": [],
   "source": [
    "res<-results(dds_wald_2,contrast=c(\"group\",\"CD8bTRUE\",\"IgGTRUE\"))"
   ]
  },
  {
   "cell_type": "code",
   "execution_count": null,
   "metadata": {},
   "outputs": [],
   "source": [
    "# results for making a group instead of interaction terms\n",
    "ressub <-subset(res,res$padj < 0.05) \n",
    "ressub <-subset(ressub,ressub$baseMean > 20)\n",
    "head(ressub[order(ressub$log2FoldChange,decreasing = TRUE),],20)"
   ]
  },
  {
   "cell_type": "code",
   "execution_count": null,
   "metadata": {},
   "outputs": [],
   "source": [
    "# results for making a group instead of interaction terms\n",
    "res<-results(dds_wald_2,contrast=c(\"group\",\"CD8aTRUE\",\"IgGTRUE\"))\n",
    "ressub <-subset(res,res$padj < 0.05) \n",
    "#ressub <-subset(ressub,ressub$baseMean > 20)\n",
    "head(ressub[order(ressub$log2FoldChange,decreasing = FALSE),],20)"
   ]
  },
  {
   "cell_type": "code",
   "execution_count": null,
   "metadata": {},
   "outputs": [],
   "source": [
    "# looking at just the T1T17 cluster to do differential expression between conditions instead of dealing with interaction terms\n",
    "\n",
    "dds_t1t17 <- DESeqDataSetFromMatrix(countData = tnk_gene_exp[,rownames(metadata[metadata$is.T1T17,])], colData = metadata[metadata$is.T1T17,], design = ~ factor(monkey_condition_categories)+treatment)\n"
   ]
  },
  {
   "cell_type": "code",
   "execution_count": null,
   "metadata": {},
   "outputs": [],
   "source": [
    "resultsNames(dds_t1t17_lrt)"
   ]
  },
  {
   "cell_type": "code",
   "execution_count": null,
   "metadata": {},
   "outputs": [],
   "source": [
    "res<-results(dds_t1t17_lrt,contrast=c('treatment','IgG','CD8b'))"
   ]
  },
  {
   "cell_type": "code",
   "execution_count": null,
   "metadata": {},
   "outputs": [],
   "source": [
    "ressub <-subset(res,res$padj < 0.05)\n",
    "ressub <-subset(ressub,ressub$baseMean > 20)\n",
    "head(ressub[order(ressub$log2FoldChange,decreasing = TRUE),],15)"
   ]
  },
  {
   "cell_type": "code",
   "execution_count": null,
   "metadata": {},
   "outputs": [],
   "source": [
    "tail(ressub[order(ressub$log2FoldChange,decreasing = TRUE),],10)"
   ]
  },
  {
   "cell_type": "code",
   "execution_count": null,
   "metadata": {},
   "outputs": [],
   "source": [
    "# what if monkey is not included in the design formula?\n",
    "dds_t1t17 <- DESeqDataSetFromMatrix(countData = tnk_gene_exp[,rownames(metadata[metadata$is.T1T17,])], colData = metadata[metadata$is.T1T17,], design = ~ treatment)\n",
    "dds_t1t17_lrt <- DESeq(dds_t1t17, test=\"LRT\", reduced = ~ 1)"
   ]
  },
  {
   "cell_type": "code",
   "execution_count": null,
   "metadata": {},
   "outputs": [],
   "source": [
    "res<-results(dds_t1t17_lrt,contrast=c('treatment','IgG','CD8b'))"
   ]
  },
  {
   "cell_type": "code",
   "execution_count": null,
   "metadata": {},
   "outputs": [],
   "source": [
    "ressub <-subset(res,res$padj < 0.05)\n",
    "ressub <-subset(ressub,ressub$baseMean > 20)\n",
    "head(ressub[order(ressub$log2FoldChange,decreasing = TRUE),],15)"
   ]
  },
  {
   "cell_type": "code",
   "execution_count": null,
   "metadata": {},
   "outputs": [],
   "source": [
    "dds_t1t17 <- DESeqDataSetFromMatrix(countData = tnk_gene_exp[,rownames(metadata[metadata$is.T1T17,])], colData = metadata[metadata$is.T1T17,], design = ~factor(monkey_condition_categories)+ treatment)\n",
    "dds_t1t17_wald <- DESeq(dds_t1t17, test=\"Wald\")"
   ]
  },
  {
   "cell_type": "code",
   "execution_count": null,
   "metadata": {},
   "outputs": [],
   "source": [
    "res<-results(dds_t1t17_wald,contrast=c('treatment','CD8a','IgG'))\n",
    "ressub <-subset(res,res$padj < 0.05)\n",
    "ressub <-subset(ressub,ressub$baseMean > 20)\n",
    "head(ressub[order(ressub$log2FoldChange,decreasing = TRUE),],15)\n",
    "write.csv(res, \"T1T17_CD8avsIgG.csv\",quote=FALSE)\n",
    "options(repr.plot.width = 10, repr.plot.height = 15, repr.plot.res = 100)\n",
    "\n",
    "EnhancedVolcano(res,\n",
    "    lab = rownames(res),\n",
    "    x = 'log2FoldChange',\n",
    "    y = 'pvalue',\n",
    "    title = 'T1T17 CD8a vs IgG',\n",
    "    #pCutoff = 10e-32,\n",
    "    FCcutoff = 1.3,\n",
    "    pointSize = 3.0,\n",
    "    labSize = 6.0,\n",
    "               xlim=c(-10,8))"
   ]
  },
  {
   "cell_type": "code",
   "execution_count": null,
   "metadata": {},
   "outputs": [],
   "source": [
    "res<-results(dds_t1t17_wald,contrast=c('treatment','CD8b','IgG'))\n",
    "ressub <-subset(res,res$padj < 0.05)\n",
    "ressub <-subset(ressub,ressub$baseMean > 20)\n",
    "head(ressub[order(ressub$log2FoldChange,decreasing = TRUE),],15)\n",
    "write.csv(res, \"T1T17_CD8bvsIgG.csv\",quote=FALSE)\n",
    "EnhancedVolcano(res,\n",
    "    lab = rownames(res),\n",
    "    x = 'log2FoldChange',\n",
    "    y = 'pvalue',\n",
    "    title = 'T1T17 CD8b vs IgG',\n",
    "    #pCutoff = 10e-32,\n",
    "    FCcutoff = 1.3,\n",
    "    pointSize = 3.0,\n",
    "    labSize = 6.0,\n",
    "               xlim=c(-10,8))"
   ]
  },
  {
   "cell_type": "code",
   "execution_count": null,
   "metadata": {},
   "outputs": [],
   "source": [
    "# pca on the cytotoxic subsets"
   ]
  },
  {
   "cell_type": "code",
   "execution_count": null,
   "metadata": {},
   "outputs": [],
   "source": [
    "dds_cytotoxic_subclusts <- DESeqDataSetFromMatrix(countData = tnk_gene_exp[,rownames(metadata[metadata$NK.T.clusters == \"Cytotoxic T/NK\",])], colData = metadata[metadata$NK.T.clusters == \"Cytotoxic T/NK\",], design = ~ factor(monkey_condition_categories)+treatment)\n"
   ]
  },
  {
   "cell_type": "code",
   "execution_count": null,
   "metadata": {},
   "outputs": [],
   "source": [
    "vst_cytotoxic_subclusts <- vst(dds_cytotoxic_subclusts, blind=FALSE)"
   ]
  },
  {
   "cell_type": "code",
   "execution_count": null,
   "metadata": {},
   "outputs": [],
   "source": [
    "plotPCA(vst_cytotoxic_subclusts, intgroup=\"NK.T.Subclusters\")\n"
   ]
  },
  {
   "cell_type": "code",
   "execution_count": null,
   "metadata": {},
   "outputs": [],
   "source": [
    "plotPCA(vst_cytotoxic_subclusts, intgroup=\"treatment\")\n"
   ]
  },
  {
   "cell_type": "code",
   "execution_count": null,
   "metadata": {},
   "outputs": [],
   "source": [
    "plotPCA(vst_cytotoxic_subclusts, intgroup=\"M.Number\")\n"
   ]
  },
  {
   "cell_type": "code",
   "execution_count": null,
   "metadata": {},
   "outputs": [],
   "source": [
    "colData(vst_cytotoxic_subclusts)$GZMB<-assay(vst_cytotoxic_subclusts[\"GZMB\",])\n",
    "pcaData <- plotPCA(vst_cytotoxic_subclusts, intgroup=\"GZMB\", returnData=TRUE)\n",
    "percentVar <- round(100 * attr(pcaData, \"percentVar\"))\n",
    "ggplot(pcaData, aes(PC1, PC2, color=GZMB)) +\n",
    "  geom_point(size=3) +\n",
    "  xlab(paste0(\"PC1: \",percentVar[1],\"% variance\")) +\n",
    "  ylab(paste0(\"PC2: \",percentVar[2],\"% variance\")) +  theme_classic()+\n",
    "  coord_fixed() +scale_colour_gradient(low = \"gold\", high = \"red2\")"
   ]
  },
  {
   "cell_type": "code",
   "execution_count": null,
   "metadata": {},
   "outputs": [],
   "source": [
    "colData(vst_cytotoxic_subclusts)$CD4<-assay(vst_cytotoxic_subclusts[\"CD4\",])\n",
    "pcaData <- plotPCA(vst_cytotoxic_subclusts, intgroup=\"CD4\", returnData=TRUE)\n",
    "percentVar <- round(100 * attr(pcaData, \"percentVar\"))\n",
    "ggplot(pcaData, aes(PC1, PC2, color=CD4)) +\n",
    "  geom_point(size=3) +\n",
    "  xlab(paste0(\"PC1: \",percentVar[1],\"% variance\")) +\n",
    "  ylab(paste0(\"PC2: \",percentVar[2],\"% variance\")) +  theme_classic()+\n",
    "  coord_fixed() +scale_colour_gradient(low = \"gold\", high = \"red2\")"
   ]
  },
  {
   "cell_type": "code",
   "execution_count": null,
   "metadata": {},
   "outputs": [],
   "source": []
  },
  {
   "cell_type": "code",
   "execution_count": null,
   "metadata": {},
   "outputs": [],
   "source": [
    "colData(vst_cytotoxic_subclusts)$CD8A<-assay(vst_cytotoxic_subclusts[\"CD8A\",])\n",
    "pcaData <- plotPCA(vst_cytotoxic_subclusts, intgroup=\"CD8A\", returnData=TRUE)\n",
    "percentVar <- round(100 * attr(pcaData, \"percentVar\"))\n",
    "ggplot(pcaData, aes(PC1, PC2, color=CD8A)) +\n",
    "  geom_point(size=3) +\n",
    "  xlab(paste0(\"PC1: \",percentVar[1],\"% variance\")) +\n",
    "  ylab(paste0(\"PC2: \",percentVar[2],\"% variance\")) +  theme_classic()+\n",
    "  coord_fixed() +scale_colour_gradient(low = \"gold\", high = \"red2\")"
   ]
  },
  {
   "cell_type": "code",
   "execution_count": null,
   "metadata": {},
   "outputs": [],
   "source": [
    "pca <- prcomp(t(assay(vst_cytotoxic_subclusts)))\n",
    "loadings <- as.data.frame(pca$rotation)"
   ]
  },
  {
   "cell_type": "code",
   "execution_count": null,
   "metadata": {},
   "outputs": [],
   "source": []
  },
  {
   "cell_type": "code",
   "execution_count": null,
   "metadata": {},
   "outputs": [],
   "source": [
    "loadings[order(loadings$PC1,decreasing=TRUE),]"
   ]
  },
  {
   "cell_type": "code",
   "execution_count": null,
   "metadata": {},
   "outputs": [],
   "source": [
    "loadings[order(loadings$PC1),]"
   ]
  },
  {
   "cell_type": "code",
   "execution_count": null,
   "metadata": {},
   "outputs": [],
   "source": [
    "pc$loadings"
   ]
  },
  {
   "cell_type": "code",
   "execution_count": null,
   "metadata": {},
   "outputs": [],
   "source": []
  },
  {
   "cell_type": "code",
   "execution_count": null,
   "metadata": {},
   "outputs": [],
   "source": [
    "colData(vst_cytotoxic_subclusts)$GZMK<-assay(vst_cytotoxic_subclusts[\"GZMK\",])\n",
    "pcaData <- plotPCA(vst_cytotoxic_subclusts, intgroup=\"GZMK\", returnData=TRUE)\n",
    "percentVar <- round(100 * attr(pcaData, \"percentVar\"))\n",
    "ggplot(pcaData, aes(PC1, PC2, color=GZMK)) +\n",
    "  geom_point(size=3) +\n",
    "  xlab(paste0(\"PC1: \",percentVar[1],\"% variance\")) +\n",
    "  ylab(paste0(\"PC2: \",percentVar[2],\"% variance\")) +  theme_classic()+\n",
    "  coord_fixed() +scale_colour_gradient(low = \"gold\", high = \"red2\")\n",
    "#+scale_color_manual(values=c(\"#FF00FF\",\"#4F97A3\",\"#5fe8ed\",\"#6593f5\",\"#fda89f\",\"#b97ffa\",\"#48260D\",\"#95c8d8\",\"#FF2400\",\"#0552f5\",\"#2e6669\",\"#b0ebc1\",\"#7f19e6\",\"#3f704d\",\"#Df5386\",\"#98FB98\",\"#88807B\"))\n",
    "\n"
   ]
  },
  {
   "cell_type": "code",
   "execution_count": null,
   "metadata": {},
   "outputs": [],
   "source": [
    "library(ggplot2)"
   ]
  },
  {
   "cell_type": "code",
   "execution_count": null,
   "metadata": {},
   "outputs": [],
   "source": []
  },
  {
   "cell_type": "code",
   "execution_count": null,
   "metadata": {},
   "outputs": [],
   "source": [
    "# one cluster, differential expression between conditions (Cytotoxic 4)\n",
    "\n",
    "metadata$is.innatelike <- metadata$NK.T.Subclusters==\"Cytotoxic 4\"#\"innate-like cytotoxic\"\n",
    "dds_innatelike <- DESeqDataSetFromMatrix(countData = tnk_gene_exp[,rownames(metadata[metadata$is.innatelike,])], colData = metadata[metadata$is.innatelike,], design = ~ factor(monkey_condition_categories)+treatment)\n",
    "vst_innatelike <- vst(dds_innatelike, blind=FALSE)\n",
    "\n",
    "pcaData <- plotPCA(vst_innatelike, intgroup=c(\"Gran.State\"), returnData=TRUE)\n",
    "percentVar <- round(100 * attr(pcaData, \"percentVar\"))\n",
    "ggplot(pcaData, aes(PC1, PC2, color=Gran.State)) +\n",
    "  geom_point(size=3) +\n",
    "  xlab(paste0(\"PC1: \",percentVar[1],\"% variance\")) +\n",
    "  ylab(paste0(\"PC2: \",percentVar[2],\"% variance\")) +  theme_classic()+\n",
    "  coord_fixed()\n",
    "\n",
    "\n",
    "pcaData <- plotPCA(vst_innatelike, intgroup=c(\"treatment\"), returnData=TRUE)\n",
    "percentVar <- round(100 * attr(pcaData, \"percentVar\"))\n",
    "ggplot(pcaData, aes(PC1, PC2, color=treatment)) +\n",
    "  geom_point(size=3) +\n",
    "  xlab(paste0(\"PC1: \",percentVar[1],\"% variance\")) +\n",
    "  ylab(paste0(\"PC2: \",percentVar[2],\"% variance\")) +  theme_classic()+\n",
    "  coord_fixed()\n",
    "\n",
    "\n",
    "dds_innatelike_wald <- DESeq(dds_innatelike,test=\"Wald\")\n",
    "\n",
    "res <- results(dds_innatelike_wald, contrast = c(\"treatment\",\"CD8a\",\"IgG\"))\n",
    "options(repr.plot.width = 10, repr.plot.height = 15, repr.plot.res = 100)\n",
    "\n",
    "EnhancedVolcano(res,\n",
    "    lab = rownames(res),\n",
    "    x = 'log2FoldChange',\n",
    "    y = 'pvalue',\n",
    "    title = 'Innate-like Cytotoxic aCD8a vs IgG',\n",
    "    #pCutoff = 10e-32,\n",
    "    FCcutoff = 1.3,\n",
    "    pointSize = 3.0,\n",
    "    labSize = 6.0,\n",
    "               xlim=c(-15,7))\n",
    "\n"
   ]
  },
  {
   "cell_type": "code",
   "execution_count": null,
   "metadata": {},
   "outputs": [],
   "source": [
    "ressub <-subset(res,res$padj < 0.05)\n",
    "#ressub <-subset(ressub,ressub$baseMean > 20)\n",
    "rownames(head(ressub[order(ressub$log2FoldChange,decreasing = TRUE),],20))"
   ]
  },
  {
   "cell_type": "code",
   "execution_count": null,
   "metadata": {},
   "outputs": [],
   "source": [
    "rownames(tail(ressub[order(ressub$log2FoldChange,decreasing = TRUE),],20))"
   ]
  },
  {
   "cell_type": "code",
   "execution_count": null,
   "metadata": {},
   "outputs": [],
   "source": [
    "# compare clusters between each other\n",
    "dds <- DESeqDataSetFromMatrix(countData = tnk_gene_exp, colData = metadata, design = ~ factor(M.Number)+NK.T.Subclusters)\n",
    "dds$treatment <- relevel(dds$treatment, ref = \"IgG\")\n",
    "dds_wald <- DESeq(dds, test=\"Wald\")"
   ]
  },
  {
   "cell_type": "code",
   "execution_count": null,
   "metadata": {},
   "outputs": [],
   "source": [
    "res_GZMK_subsets <- results(dds_wald, contrast=c(\"NK.T.Subclusters\",\"Cytotoxic 1\",\"Cytotoxic 2\"))\n",
    "ressub <-subset(res_GZMK_subsets,res$padj < 0.05)\n",
    "ressub <-subset(ressub,ressub$baseMean > 20)\n",
    "head(ressub[order(ressub$log2FoldChange,decreasing = TRUE),],10)\n",
    "write.csv(res_GZMK_subsets, \"GZMKCytotoxic_CD4_vs_CD8_subsets.csv\",quote=FALSE)"
   ]
  },
  {
   "cell_type": "code",
   "execution_count": null,
   "metadata": {},
   "outputs": [],
   "source": [
    "\n"
   ]
  },
  {
   "cell_type": "code",
   "execution_count": null,
   "metadata": {},
   "outputs": [],
   "source": [
    "options(repr.plot.width = 10, repr.plot.height = 15, repr.plot.res = 100)\n",
    "\n",
    "EnhancedVolcano(res_GZMK_subsets,\n",
    "    lab = rownames(res_GZMK_subsets),\n",
    "    x = 'log2FoldChange',\n",
    "    y = 'padj',\n",
    "    title = 'Cytotoxic 1 (GZMK CD8) versus Cytotoxic 2 (GZMK CD4)',\n",
    "    #pCutoff = 10e-32,\n",
    "    FCcutoff = 1.3,\n",
    "    pointSize = 3.0,\n",
    "    labSize = 6.0)\n",
    "###pdf( \"gzmk_cd8vcd4_volcano.pdf\", width = 6, height = 10 )\n"
   ]
  },
  {
   "cell_type": "code",
   "execution_count": null,
   "metadata": {},
   "outputs": [],
   "source": []
  }
 ],
 "metadata": {
  "kernelspec": {
   "display_name": "R",
   "language": "R",
   "name": "ir"
  },
  "language_info": {
   "codemirror_mode": "r",
   "file_extension": ".r",
   "mimetype": "text/x-r-source",
   "name": "R",
   "pygments_lexer": "r",
   "version": "4.2.1"
  }
 },
 "nbformat": 4,
 "nbformat_minor": 4
}
