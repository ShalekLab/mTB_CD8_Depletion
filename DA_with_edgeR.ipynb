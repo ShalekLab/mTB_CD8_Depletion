{
 "cells": [
  {
   "cell_type": "code",
   "execution_count": 1,
   "id": "9643fa74",
   "metadata": {},
   "outputs": [
    {
     "name": "stderr",
     "output_type": "stream",
     "text": [
      "Loading required package: limma\n",
      "\n"
     ]
    }
   ],
   "source": [
    "library(edgeR)"
   ]
  },
  {
   "cell_type": "code",
   "execution_count": 1,
   "id": "c8a6ca8b",
   "metadata": {},
   "outputs": [
    {
     "name": "stderr",
     "output_type": "stream",
     "text": [
      "Loading required package: limma\n",
      "\n"
     ]
    }
   ],
   "source": [
    "library(edgeR)"
   ]
  },
  {
   "cell_type": "code",
   "execution_count": null,
   "id": "abd345b5",
   "metadata": {},
   "outputs": [],
   "source": [
    "#following tutorial here https://bioconductor.org/books/release/OSCA/multi-sample-comparisons.html#differential-abundance"
   ]
  },
  {
   "cell_type": "code",
   "execution_count": 52,
   "id": "bd6b4605",
   "metadata": {},
   "outputs": [],
   "source": [
    "major_celltype_props <- read.csv(\"compositional_analysis/major_cell_cluster_counts_by_sample.csv\",row.names=1)\n",
    "metadata_2 <- read.csv(\"compositional_analysis/metadata_by_sample.csv\", row.names=1)\n",
    "metadata_2$M.Number <- factor(metadata_2$M.Number)\n",
    "metadata_2$monkey_condition_categories <- factor(metadata_2$monkey_condition_categories)\n",
    "major_celltype_props <- na.omit(major_celltype_props)\n",
    "major_celltype_props <- t(major_celltype_props)\n",
    "\n",
    "metadata_2$M.Number <- factor(metadata_2$M.Number)\n",
    "metadata_2$monkey_condition_categories <- factor(metadata_2$monkey_condition_categories)"
   ]
  },
  {
   "cell_type": "code",
   "execution_count": 107,
   "id": "835d8c54",
   "metadata": {},
   "outputs": [
    {
     "data": {
      "text/html": [
       "<style>\n",
       ".list-inline {list-style: none; margin:0; padding: 0}\n",
       ".list-inline>li {display: inline-block}\n",
       ".list-inline>li:not(:last-child)::after {content: \"\\00b7\"; padding: 0 .5ex}\n",
       "</style>\n",
       "<ol class=list-inline><li>'B.Cells'</li><li>'Endothelial'</li><li>'Fibroblasts'</li><li>'Macrophages.Monocytes'</li><li>'Mast'</li><li>'Neutrophils'</li><li>'Plasma.Cells'</li><li>'Secretory.Epithelial'</li><li>'T1P'</li><li>'T2P'</li><li>'T.NK'</li><li>'cDC'</li><li>'pDC'</li></ol>\n"
      ],
      "text/latex": [
       "\\begin{enumerate*}\n",
       "\\item 'B.Cells'\n",
       "\\item 'Endothelial'\n",
       "\\item 'Fibroblasts'\n",
       "\\item 'Macrophages.Monocytes'\n",
       "\\item 'Mast'\n",
       "\\item 'Neutrophils'\n",
       "\\item 'Plasma.Cells'\n",
       "\\item 'Secretory.Epithelial'\n",
       "\\item 'T1P'\n",
       "\\item 'T2P'\n",
       "\\item 'T.NK'\n",
       "\\item 'cDC'\n",
       "\\item 'pDC'\n",
       "\\end{enumerate*}\n"
      ],
      "text/markdown": [
       "1. 'B.Cells'\n",
       "2. 'Endothelial'\n",
       "3. 'Fibroblasts'\n",
       "4. 'Macrophages.Monocytes'\n",
       "5. 'Mast'\n",
       "6. 'Neutrophils'\n",
       "7. 'Plasma.Cells'\n",
       "8. 'Secretory.Epithelial'\n",
       "9. 'T1P'\n",
       "10. 'T2P'\n",
       "11. 'T.NK'\n",
       "12. 'cDC'\n",
       "13. 'pDC'\n",
       "\n",
       "\n"
      ],
      "text/plain": [
       " [1] \"B.Cells\"               \"Endothelial\"           \"Fibroblasts\"          \n",
       " [4] \"Macrophages.Monocytes\" \"Mast\"                  \"Neutrophils\"          \n",
       " [7] \"Plasma.Cells\"          \"Secretory.Epithelial\"  \"T1P\"                  \n",
       "[10] \"T2P\"                   \"T.NK\"                  \"cDC\"                  \n",
       "[13] \"pDC\"                  "
      ]
     },
     "metadata": {},
     "output_type": "display_data"
    }
   ],
   "source": [
    "rownames(major_celltype_props)"
   ]
  },
  {
   "cell_type": "code",
   "execution_count": 114,
   "id": "42cbd694",
   "metadata": {},
   "outputs": [],
   "source": [
    "props_no_tcells=major_celltype_props[!(row.names(major_celltype_props) %in% c(\"T.NK\")),]\n"
   ]
  },
  {
   "cell_type": "code",
   "execution_count": 53,
   "id": "299f2ff4",
   "metadata": {},
   "outputs": [],
   "source": [
    "\n",
    "y.ab <- DGEList(major_celltype_props, samples=metadata_2)\n"
   ]
  },
  {
   "cell_type": "code",
   "execution_count": 96,
   "id": "a5676509",
   "metadata": {},
   "outputs": [],
   "source": [
    "design <- model.matrix(~factor(monkey_condition_categories) + factor(treatment), y.ab$samples)"
   ]
  },
  {
   "cell_type": "code",
   "execution_count": 65,
   "id": "c92cf0e9",
   "metadata": {},
   "outputs": [],
   "source": [
    "design <- model.matrix(~1 + factor(treatment), y.ab$samples)"
   ]
  },
  {
   "cell_type": "code",
   "execution_count": 97,
   "id": "6bfab03e",
   "metadata": {},
   "outputs": [
    {
     "data": {
      "text/plain": [
       "   Min. 1st Qu.  Median    Mean 3rd Qu.    Max. \n",
       " 0.7882  0.7882  0.7882  0.7882  0.7882  0.7882 "
      ]
     },
     "metadata": {},
     "output_type": "display_data"
    }
   ],
   "source": [
    "y.ab <- estimateDisp(y.ab, design, trend=\"none\")\n",
    "summary(y.ab$common.dispersion)"
   ]
  },
  {
   "cell_type": "code",
   "execution_count": 99,
   "id": "c94f4c47",
   "metadata": {},
   "outputs": [
    {
     "data": {
      "text/plain": [
       "   Min. 1st Qu.  Median    Mean 3rd Qu.    Max. \n",
       " 0.8913  0.8913  0.8913  0.8913  0.8913  0.8913 "
      ]
     },
     "metadata": {},
     "output_type": "display_data"
    }
   ],
   "source": [
    "fit.ab <- glmQLFit(y.ab, design, robust=TRUE, abundance.trend=FALSE)\n",
    "summary(fit.ab$var.prior)"
   ]
  },
  {
   "cell_type": "code",
   "execution_count": 101,
   "id": "731aaf7f",
   "metadata": {},
   "outputs": [
    {
     "data": {
      "text/plain": [
       "       factor(treatment)IgG\n",
       "Down                      2\n",
       "NotSig                    7\n",
       "Up                        4"
      ]
     },
     "metadata": {},
     "output_type": "display_data"
    }
   ],
   "source": [
    "res <- glmQLFTest(fit.ab, coef=ncol(design))\n",
    "summary(decideTests(res))"
   ]
  },
  {
   "cell_type": "code",
   "execution_count": 102,
   "id": "ed91238d",
   "metadata": {},
   "outputs": [
    {
     "data": {
      "text/html": [
       "<dl>\n",
       "\t<dt>$table</dt>\n",
       "\t\t<dd><table class=\"dataframe\">\n",
       "<caption>A data.frame: 10 × 5</caption>\n",
       "<thead>\n",
       "\t<tr><th></th><th scope=col>logFC</th><th scope=col>logCPM</th><th scope=col>F</th><th scope=col>PValue</th><th scope=col>FDR</th></tr>\n",
       "\t<tr><th></th><th scope=col>&lt;dbl&gt;</th><th scope=col>&lt;dbl&gt;</th><th scope=col>&lt;dbl&gt;</th><th scope=col>&lt;dbl&gt;</th><th scope=col>&lt;dbl&gt;</th></tr>\n",
       "</thead>\n",
       "<tbody>\n",
       "\t<tr><th scope=row>pDC</th><td> 1.7491657</td><td>14.13874</td><td>11.043242</td><td>0.001905048</td><td>0.02077620</td></tr>\n",
       "\t<tr><th scope=row>Mast</th><td> 1.5025565</td><td>15.86520</td><td> 9.127676</td><td>0.004364525</td><td>0.02077620</td></tr>\n",
       "\t<tr><th scope=row>Plasma.Cells</th><td> 1.6719252</td><td>14.48735</td><td> 8.916743</td><td>0.004794509</td><td>0.02077620</td></tr>\n",
       "\t<tr><th scope=row>B.Cells</th><td> 1.6618831</td><td>15.16730</td><td> 7.595762</td><td>0.008752969</td><td>0.02844715</td></tr>\n",
       "\t<tr><th scope=row>Secretory.Epithelial</th><td>-3.4491599</td><td>11.20907</td><td> 8.345303</td><td>0.011132015</td><td>0.02894324</td></tr>\n",
       "\t<tr><th scope=row>T1P</th><td>-1.8365540</td><td>12.15945</td><td> 5.929951</td><td>0.019415701</td><td>0.04206735</td></tr>\n",
       "\t<tr><th scope=row>cDC</th><td> 0.6387783</td><td>15.14641</td><td> 4.763031</td><td>0.034924914</td><td>0.06486056</td></tr>\n",
       "\t<tr><th scope=row>Macrophages.Monocytes</th><td>-0.6483051</td><td>18.68741</td><td> 3.456048</td><td>0.070286425</td><td>0.11421544</td></tr>\n",
       "\t<tr><th scope=row>T2P</th><td>-1.1375268</td><td>14.31892</td><td> 2.018332</td><td>0.163121690</td><td>0.23562022</td></tr>\n",
       "\t<tr><th scope=row>Endothelial</th><td>-0.6213582</td><td>14.11567</td><td> 1.548642</td><td>0.220544211</td><td>0.28670747</td></tr>\n",
       "</tbody>\n",
       "</table>\n",
       "</dd>\n",
       "\t<dt>$adjust.method</dt>\n",
       "\t\t<dd>'BH'</dd>\n",
       "\t<dt>$comparison</dt>\n",
       "\t\t<dd>'factor(treatment)IgG'</dd>\n",
       "\t<dt>$test</dt>\n",
       "\t\t<dd>'glm'</dd>\n",
       "</dl>\n"
      ],
      "text/latex": [
       "\\begin{description}\n",
       "\\item[\\$table] A data.frame: 10 × 5\n",
       "\\begin{tabular}{r|lllll}\n",
       "  & logFC & logCPM & F & PValue & FDR\\\\\n",
       "  & <dbl> & <dbl> & <dbl> & <dbl> & <dbl>\\\\\n",
       "\\hline\n",
       "\tpDC &  1.7491657 & 14.13874 & 11.043242 & 0.001905048 & 0.02077620\\\\\n",
       "\tMast &  1.5025565 & 15.86520 &  9.127676 & 0.004364525 & 0.02077620\\\\\n",
       "\tPlasma.Cells &  1.6719252 & 14.48735 &  8.916743 & 0.004794509 & 0.02077620\\\\\n",
       "\tB.Cells &  1.6618831 & 15.16730 &  7.595762 & 0.008752969 & 0.02844715\\\\\n",
       "\tSecretory.Epithelial & -3.4491599 & 11.20907 &  8.345303 & 0.011132015 & 0.02894324\\\\\n",
       "\tT1P & -1.8365540 & 12.15945 &  5.929951 & 0.019415701 & 0.04206735\\\\\n",
       "\tcDC &  0.6387783 & 15.14641 &  4.763031 & 0.034924914 & 0.06486056\\\\\n",
       "\tMacrophages.Monocytes & -0.6483051 & 18.68741 &  3.456048 & 0.070286425 & 0.11421544\\\\\n",
       "\tT2P & -1.1375268 & 14.31892 &  2.018332 & 0.163121690 & 0.23562022\\\\\n",
       "\tEndothelial & -0.6213582 & 14.11567 &  1.548642 & 0.220544211 & 0.28670747\\\\\n",
       "\\end{tabular}\n",
       "\n",
       "\\item[\\$adjust.method] 'BH'\n",
       "\\item[\\$comparison] 'factor(treatment)IgG'\n",
       "\\item[\\$test] 'glm'\n",
       "\\end{description}\n"
      ],
      "text/markdown": [
       "$table\n",
       ":   \n",
       "A data.frame: 10 × 5\n",
       "\n",
       "| <!--/--> | logFC &lt;dbl&gt; | logCPM &lt;dbl&gt; | F &lt;dbl&gt; | PValue &lt;dbl&gt; | FDR &lt;dbl&gt; |\n",
       "|---|---|---|---|---|---|\n",
       "| pDC |  1.7491657 | 14.13874 | 11.043242 | 0.001905048 | 0.02077620 |\n",
       "| Mast |  1.5025565 | 15.86520 |  9.127676 | 0.004364525 | 0.02077620 |\n",
       "| Plasma.Cells |  1.6719252 | 14.48735 |  8.916743 | 0.004794509 | 0.02077620 |\n",
       "| B.Cells |  1.6618831 | 15.16730 |  7.595762 | 0.008752969 | 0.02844715 |\n",
       "| Secretory.Epithelial | -3.4491599 | 11.20907 |  8.345303 | 0.011132015 | 0.02894324 |\n",
       "| T1P | -1.8365540 | 12.15945 |  5.929951 | 0.019415701 | 0.04206735 |\n",
       "| cDC |  0.6387783 | 15.14641 |  4.763031 | 0.034924914 | 0.06486056 |\n",
       "| Macrophages.Monocytes | -0.6483051 | 18.68741 |  3.456048 | 0.070286425 | 0.11421544 |\n",
       "| T2P | -1.1375268 | 14.31892 |  2.018332 | 0.163121690 | 0.23562022 |\n",
       "| Endothelial | -0.6213582 | 14.11567 |  1.548642 | 0.220544211 | 0.28670747 |\n",
       "\n",
       "\n",
       "$adjust.method\n",
       ":   'BH'\n",
       "$comparison\n",
       ":   'factor(treatment)IgG'\n",
       "$test\n",
       ":   'glm'\n",
       "\n",
       "\n"
      ],
      "text/plain": [
       "Coefficient:  factor(treatment)IgG \n",
       "                           logFC   logCPM         F      PValue        FDR\n",
       "pDC                    1.7491657 14.13874 11.043242 0.001905048 0.02077620\n",
       "Mast                   1.5025565 15.86520  9.127676 0.004364525 0.02077620\n",
       "Plasma.Cells           1.6719252 14.48735  8.916743 0.004794509 0.02077620\n",
       "B.Cells                1.6618831 15.16730  7.595762 0.008752969 0.02844715\n",
       "Secretory.Epithelial  -3.4491599 11.20907  8.345303 0.011132015 0.02894324\n",
       "T1P                   -1.8365540 12.15945  5.929951 0.019415701 0.04206735\n",
       "cDC                    0.6387783 15.14641  4.763031 0.034924914 0.06486056\n",
       "Macrophages.Monocytes -0.6483051 18.68741  3.456048 0.070286425 0.11421544\n",
       "T2P                   -1.1375268 14.31892  2.018332 0.163121690 0.23562022\n",
       "Endothelial           -0.6213582 14.11567  1.548642 0.220544211 0.28670747"
      ]
     },
     "metadata": {},
     "output_type": "display_data"
    }
   ],
   "source": [
    "topTags(res)"
   ]
  },
  {
   "cell_type": "code",
   "execution_count": 103,
   "id": "a70bac28",
   "metadata": {},
   "outputs": [],
   "source": [
    "res <- glmQLFTest(fit.ab, coef = 5)"
   ]
  },
  {
   "cell_type": "code",
   "execution_count": 104,
   "id": "481a65ae",
   "metadata": {},
   "outputs": [
    {
     "data": {
      "text/plain": [
       "       factor(treatment)CD8b\n",
       "Down                       2\n",
       "NotSig                     9\n",
       "Up                         2"
      ]
     },
     "metadata": {},
     "output_type": "display_data"
    }
   ],
   "source": [
    "summary(decideTests(res)) # CD8b vs CD8a"
   ]
  },
  {
   "cell_type": "code",
   "execution_count": 105,
   "id": "887a0b33",
   "metadata": {},
   "outputs": [
    {
     "data": {
      "text/html": [
       "<dl>\n",
       "\t<dt>$table</dt>\n",
       "\t\t<dd><table class=\"dataframe\">\n",
       "<caption>A data.frame: 10 × 5</caption>\n",
       "<thead>\n",
       "\t<tr><th></th><th scope=col>logFC</th><th scope=col>logCPM</th><th scope=col>F</th><th scope=col>PValue</th><th scope=col>FDR</th></tr>\n",
       "\t<tr><th></th><th scope=col>&lt;dbl&gt;</th><th scope=col>&lt;dbl&gt;</th><th scope=col>&lt;dbl&gt;</th><th scope=col>&lt;dbl&gt;</th><th scope=col>&lt;dbl&gt;</th></tr>\n",
       "</thead>\n",
       "<tbody>\n",
       "\t<tr><th scope=row>pDC</th><td> 2.1741525</td><td>14.13874</td><td>13.963581</td><td>0.0005795507</td><td>0.00753416</td></tr>\n",
       "\t<tr><th scope=row>T1P</th><td>-2.2330899</td><td>12.15945</td><td> 9.036282</td><td>0.0045455672</td><td>0.02954619</td></tr>\n",
       "\t<tr><th scope=row>Secretory.Epithelial</th><td>-3.3179402</td><td>11.20907</td><td> 8.566345</td><td>0.0103022352</td><td>0.03863681</td></tr>\n",
       "\t<tr><th scope=row>cDC</th><td> 0.7774541</td><td>15.14641</td><td> 6.938284</td><td>0.0118882507</td><td>0.03863681</td></tr>\n",
       "\t<tr><th scope=row>Mast</th><td> 1.1209201</td><td>15.86520</td><td> 5.736693</td><td>0.0213627410</td><td>0.05554313</td></tr>\n",
       "\t<tr><th scope=row>Fibroblasts</th><td>-1.4230511</td><td>13.93294</td><td> 3.995464</td><td>0.0524169280</td><td>0.10929489</td></tr>\n",
       "\t<tr><th scope=row>B.Cells</th><td> 1.2844561</td><td>15.16730</td><td> 3.781250</td><td>0.0588510925</td><td>0.10929489</td></tr>\n",
       "\t<tr><th scope=row>Endothelial</th><td>-0.8102104</td><td>14.11567</td><td> 2.401419</td><td>0.1290644148</td><td>0.20972967</td></tr>\n",
       "\t<tr><th scope=row>T2P</th><td>-1.1132809</td><td>14.31892</td><td> 2.051946</td><td>0.1597439942</td><td>0.23074132</td></tr>\n",
       "\t<tr><th scope=row>Neutrophils</th><td>-1.0817010</td><td>12.84734</td><td> 1.247592</td><td>0.2706456441</td><td>0.35183934</td></tr>\n",
       "</tbody>\n",
       "</table>\n",
       "</dd>\n",
       "\t<dt>$adjust.method</dt>\n",
       "\t\t<dd>'BH'</dd>\n",
       "\t<dt>$comparison</dt>\n",
       "\t\t<dd>'factor(treatment)CD8b'</dd>\n",
       "\t<dt>$test</dt>\n",
       "\t\t<dd>'glm'</dd>\n",
       "</dl>\n"
      ],
      "text/latex": [
       "\\begin{description}\n",
       "\\item[\\$table] A data.frame: 10 × 5\n",
       "\\begin{tabular}{r|lllll}\n",
       "  & logFC & logCPM & F & PValue & FDR\\\\\n",
       "  & <dbl> & <dbl> & <dbl> & <dbl> & <dbl>\\\\\n",
       "\\hline\n",
       "\tpDC &  2.1741525 & 14.13874 & 13.963581 & 0.0005795507 & 0.00753416\\\\\n",
       "\tT1P & -2.2330899 & 12.15945 &  9.036282 & 0.0045455672 & 0.02954619\\\\\n",
       "\tSecretory.Epithelial & -3.3179402 & 11.20907 &  8.566345 & 0.0103022352 & 0.03863681\\\\\n",
       "\tcDC &  0.7774541 & 15.14641 &  6.938284 & 0.0118882507 & 0.03863681\\\\\n",
       "\tMast &  1.1209201 & 15.86520 &  5.736693 & 0.0213627410 & 0.05554313\\\\\n",
       "\tFibroblasts & -1.4230511 & 13.93294 &  3.995464 & 0.0524169280 & 0.10929489\\\\\n",
       "\tB.Cells &  1.2844561 & 15.16730 &  3.781250 & 0.0588510925 & 0.10929489\\\\\n",
       "\tEndothelial & -0.8102104 & 14.11567 &  2.401419 & 0.1290644148 & 0.20972967\\\\\n",
       "\tT2P & -1.1132809 & 14.31892 &  2.051946 & 0.1597439942 & 0.23074132\\\\\n",
       "\tNeutrophils & -1.0817010 & 12.84734 &  1.247592 & 0.2706456441 & 0.35183934\\\\\n",
       "\\end{tabular}\n",
       "\n",
       "\\item[\\$adjust.method] 'BH'\n",
       "\\item[\\$comparison] 'factor(treatment)CD8b'\n",
       "\\item[\\$test] 'glm'\n",
       "\\end{description}\n"
      ],
      "text/markdown": [
       "$table\n",
       ":   \n",
       "A data.frame: 10 × 5\n",
       "\n",
       "| <!--/--> | logFC &lt;dbl&gt; | logCPM &lt;dbl&gt; | F &lt;dbl&gt; | PValue &lt;dbl&gt; | FDR &lt;dbl&gt; |\n",
       "|---|---|---|---|---|---|\n",
       "| pDC |  2.1741525 | 14.13874 | 13.963581 | 0.0005795507 | 0.00753416 |\n",
       "| T1P | -2.2330899 | 12.15945 |  9.036282 | 0.0045455672 | 0.02954619 |\n",
       "| Secretory.Epithelial | -3.3179402 | 11.20907 |  8.566345 | 0.0103022352 | 0.03863681 |\n",
       "| cDC |  0.7774541 | 15.14641 |  6.938284 | 0.0118882507 | 0.03863681 |\n",
       "| Mast |  1.1209201 | 15.86520 |  5.736693 | 0.0213627410 | 0.05554313 |\n",
       "| Fibroblasts | -1.4230511 | 13.93294 |  3.995464 | 0.0524169280 | 0.10929489 |\n",
       "| B.Cells |  1.2844561 | 15.16730 |  3.781250 | 0.0588510925 | 0.10929489 |\n",
       "| Endothelial | -0.8102104 | 14.11567 |  2.401419 | 0.1290644148 | 0.20972967 |\n",
       "| T2P | -1.1132809 | 14.31892 |  2.051946 | 0.1597439942 | 0.23074132 |\n",
       "| Neutrophils | -1.0817010 | 12.84734 |  1.247592 | 0.2706456441 | 0.35183934 |\n",
       "\n",
       "\n",
       "$adjust.method\n",
       ":   'BH'\n",
       "$comparison\n",
       ":   'factor(treatment)CD8b'\n",
       "$test\n",
       ":   'glm'\n",
       "\n",
       "\n"
      ],
      "text/plain": [
       "Coefficient:  factor(treatment)CD8b \n",
       "                          logFC   logCPM         F       PValue        FDR\n",
       "pDC                   2.1741525 14.13874 13.963581 0.0005795507 0.00753416\n",
       "T1P                  -2.2330899 12.15945  9.036282 0.0045455672 0.02954619\n",
       "Secretory.Epithelial -3.3179402 11.20907  8.566345 0.0103022352 0.03863681\n",
       "cDC                   0.7774541 15.14641  6.938284 0.0118882507 0.03863681\n",
       "Mast                  1.1209201 15.86520  5.736693 0.0213627410 0.05554313\n",
       "Fibroblasts          -1.4230511 13.93294  3.995464 0.0524169280 0.10929489\n",
       "B.Cells               1.2844561 15.16730  3.781250 0.0588510925 0.10929489\n",
       "Endothelial          -0.8102104 14.11567  2.401419 0.1290644148 0.20972967\n",
       "T2P                  -1.1132809 14.31892  2.051946 0.1597439942 0.23074132\n",
       "Neutrophils          -1.0817010 12.84734  1.247592 0.2706456441 0.35183934"
      ]
     },
     "metadata": {},
     "output_type": "display_data"
    }
   ],
   "source": [
    "topTags(res)"
   ]
  },
  {
   "cell_type": "code",
   "execution_count": 108,
   "id": "78235a59",
   "metadata": {},
   "outputs": [],
   "source": [
    "res <- glmQLFTest(fit.ab, contrast = c(0,0,0,0,1,-1))"
   ]
  },
  {
   "cell_type": "code",
   "execution_count": 109,
   "id": "1a86a35c",
   "metadata": {},
   "outputs": [
    {
     "data": {
      "text/plain": [
       "       1*factor(treatment)CD8b -1*factor(treatment)IgG\n",
       "Down                                                 0\n",
       "NotSig                                              13\n",
       "Up                                                   0"
      ]
     },
     "metadata": {},
     "output_type": "display_data"
    }
   ],
   "source": [
    "summary(decideTests(res)) # CD8b vs IgG"
   ]
  },
  {
   "cell_type": "code",
   "execution_count": 110,
   "id": "1a5d0006",
   "metadata": {},
   "outputs": [],
   "source": [
    "res <- glmQLFTest(fit.ab, coef = 6)"
   ]
  },
  {
   "cell_type": "code",
   "execution_count": 105,
   "id": "0b1a6cc2",
   "metadata": {},
   "outputs": [
    {
     "data": {
      "text/plain": [
       "       factor(treatment)IgG\n",
       "Down                      2\n",
       "NotSig                    7\n",
       "Up                        4"
      ]
     },
     "metadata": {},
     "output_type": "display_data"
    }
   ],
   "source": [
    "summary(decideTests(res)) #IgG vs CD8a"
   ]
  },
  {
   "cell_type": "code",
   "execution_count": 106,
   "id": "51b931a2",
   "metadata": {
    "scrolled": true
   },
   "outputs": [
    {
     "data": {
      "text/html": [
       "<dl>\n",
       "\t<dt>$table</dt>\n",
       "\t\t<dd><table class=\"dataframe\">\n",
       "<caption>A data.frame: 10 × 5</caption>\n",
       "<thead>\n",
       "\t<tr><th></th><th scope=col>logFC</th><th scope=col>logCPM</th><th scope=col>F</th><th scope=col>PValue</th><th scope=col>FDR</th></tr>\n",
       "\t<tr><th></th><th scope=col>&lt;dbl&gt;</th><th scope=col>&lt;dbl&gt;</th><th scope=col>&lt;dbl&gt;</th><th scope=col>&lt;dbl&gt;</th><th scope=col>&lt;dbl&gt;</th></tr>\n",
       "</thead>\n",
       "<tbody>\n",
       "\t<tr><th scope=row>pDC</th><td> 1.7491657</td><td>14.13874</td><td>11.043242</td><td>0.001905048</td><td>0.02077620</td></tr>\n",
       "\t<tr><th scope=row>Mast</th><td> 1.5025565</td><td>15.86520</td><td> 9.127676</td><td>0.004364525</td><td>0.02077620</td></tr>\n",
       "\t<tr><th scope=row>Plasma.Cells</th><td> 1.6719252</td><td>14.48735</td><td> 8.916743</td><td>0.004794509</td><td>0.02077620</td></tr>\n",
       "\t<tr><th scope=row>B.Cells</th><td> 1.6618831</td><td>15.16730</td><td> 7.595762</td><td>0.008752969</td><td>0.02844715</td></tr>\n",
       "\t<tr><th scope=row>Secretory.Epithelial</th><td>-3.4491599</td><td>11.20907</td><td> 8.345303</td><td>0.011132015</td><td>0.02894324</td></tr>\n",
       "\t<tr><th scope=row>T1P</th><td>-1.8365540</td><td>12.15945</td><td> 5.929951</td><td>0.019415701</td><td>0.04206735</td></tr>\n",
       "\t<tr><th scope=row>cDC</th><td> 0.6387783</td><td>15.14641</td><td> 4.763031</td><td>0.034924914</td><td>0.06486056</td></tr>\n",
       "\t<tr><th scope=row>Macrophages.Monocytes</th><td>-0.6483051</td><td>18.68741</td><td> 3.456048</td><td>0.070286425</td><td>0.11421544</td></tr>\n",
       "\t<tr><th scope=row>T2P</th><td>-1.1375268</td><td>14.31892</td><td> 2.018332</td><td>0.163121690</td><td>0.23562022</td></tr>\n",
       "\t<tr><th scope=row>Endothelial</th><td>-0.6213582</td><td>14.11567</td><td> 1.548642</td><td>0.220544211</td><td>0.28670747</td></tr>\n",
       "</tbody>\n",
       "</table>\n",
       "</dd>\n",
       "\t<dt>$adjust.method</dt>\n",
       "\t\t<dd>'BH'</dd>\n",
       "\t<dt>$comparison</dt>\n",
       "\t\t<dd>'factor(treatment)IgG'</dd>\n",
       "\t<dt>$test</dt>\n",
       "\t\t<dd>'glm'</dd>\n",
       "</dl>\n"
      ],
      "text/latex": [
       "\\begin{description}\n",
       "\\item[\\$table] A data.frame: 10 × 5\n",
       "\\begin{tabular}{r|lllll}\n",
       "  & logFC & logCPM & F & PValue & FDR\\\\\n",
       "  & <dbl> & <dbl> & <dbl> & <dbl> & <dbl>\\\\\n",
       "\\hline\n",
       "\tpDC &  1.7491657 & 14.13874 & 11.043242 & 0.001905048 & 0.02077620\\\\\n",
       "\tMast &  1.5025565 & 15.86520 &  9.127676 & 0.004364525 & 0.02077620\\\\\n",
       "\tPlasma.Cells &  1.6719252 & 14.48735 &  8.916743 & 0.004794509 & 0.02077620\\\\\n",
       "\tB.Cells &  1.6618831 & 15.16730 &  7.595762 & 0.008752969 & 0.02844715\\\\\n",
       "\tSecretory.Epithelial & -3.4491599 & 11.20907 &  8.345303 & 0.011132015 & 0.02894324\\\\\n",
       "\tT1P & -1.8365540 & 12.15945 &  5.929951 & 0.019415701 & 0.04206735\\\\\n",
       "\tcDC &  0.6387783 & 15.14641 &  4.763031 & 0.034924914 & 0.06486056\\\\\n",
       "\tMacrophages.Monocytes & -0.6483051 & 18.68741 &  3.456048 & 0.070286425 & 0.11421544\\\\\n",
       "\tT2P & -1.1375268 & 14.31892 &  2.018332 & 0.163121690 & 0.23562022\\\\\n",
       "\tEndothelial & -0.6213582 & 14.11567 &  1.548642 & 0.220544211 & 0.28670747\\\\\n",
       "\\end{tabular}\n",
       "\n",
       "\\item[\\$adjust.method] 'BH'\n",
       "\\item[\\$comparison] 'factor(treatment)IgG'\n",
       "\\item[\\$test] 'glm'\n",
       "\\end{description}\n"
      ],
      "text/markdown": [
       "$table\n",
       ":   \n",
       "A data.frame: 10 × 5\n",
       "\n",
       "| <!--/--> | logFC &lt;dbl&gt; | logCPM &lt;dbl&gt; | F &lt;dbl&gt; | PValue &lt;dbl&gt; | FDR &lt;dbl&gt; |\n",
       "|---|---|---|---|---|---|\n",
       "| pDC |  1.7491657 | 14.13874 | 11.043242 | 0.001905048 | 0.02077620 |\n",
       "| Mast |  1.5025565 | 15.86520 |  9.127676 | 0.004364525 | 0.02077620 |\n",
       "| Plasma.Cells |  1.6719252 | 14.48735 |  8.916743 | 0.004794509 | 0.02077620 |\n",
       "| B.Cells |  1.6618831 | 15.16730 |  7.595762 | 0.008752969 | 0.02844715 |\n",
       "| Secretory.Epithelial | -3.4491599 | 11.20907 |  8.345303 | 0.011132015 | 0.02894324 |\n",
       "| T1P | -1.8365540 | 12.15945 |  5.929951 | 0.019415701 | 0.04206735 |\n",
       "| cDC |  0.6387783 | 15.14641 |  4.763031 | 0.034924914 | 0.06486056 |\n",
       "| Macrophages.Monocytes | -0.6483051 | 18.68741 |  3.456048 | 0.070286425 | 0.11421544 |\n",
       "| T2P | -1.1375268 | 14.31892 |  2.018332 | 0.163121690 | 0.23562022 |\n",
       "| Endothelial | -0.6213582 | 14.11567 |  1.548642 | 0.220544211 | 0.28670747 |\n",
       "\n",
       "\n",
       "$adjust.method\n",
       ":   'BH'\n",
       "$comparison\n",
       ":   'factor(treatment)IgG'\n",
       "$test\n",
       ":   'glm'\n",
       "\n",
       "\n"
      ],
      "text/plain": [
       "Coefficient:  factor(treatment)IgG \n",
       "                           logFC   logCPM         F      PValue        FDR\n",
       "pDC                    1.7491657 14.13874 11.043242 0.001905048 0.02077620\n",
       "Mast                   1.5025565 15.86520  9.127676 0.004364525 0.02077620\n",
       "Plasma.Cells           1.6719252 14.48735  8.916743 0.004794509 0.02077620\n",
       "B.Cells                1.6618831 15.16730  7.595762 0.008752969 0.02844715\n",
       "Secretory.Epithelial  -3.4491599 11.20907  8.345303 0.011132015 0.02894324\n",
       "T1P                   -1.8365540 12.15945  5.929951 0.019415701 0.04206735\n",
       "cDC                    0.6387783 15.14641  4.763031 0.034924914 0.06486056\n",
       "Macrophages.Monocytes -0.6483051 18.68741  3.456048 0.070286425 0.11421544\n",
       "T2P                   -1.1375268 14.31892  2.018332 0.163121690 0.23562022\n",
       "Endothelial           -0.6213582 14.11567  1.548642 0.220544211 0.28670747"
      ]
     },
     "metadata": {},
     "output_type": "display_data"
    }
   ],
   "source": [
    "topTags(res)"
   ]
  },
  {
   "cell_type": "code",
   "execution_count": null,
   "id": "3d948dc7",
   "metadata": {},
   "outputs": [],
   "source": []
  },
  {
   "cell_type": "markdown",
   "id": "fb03d29e",
   "metadata": {},
   "source": [
    "# remove t cells from proportions"
   ]
  },
  {
   "cell_type": "code",
   "execution_count": 115,
   "id": "50df1207",
   "metadata": {},
   "outputs": [],
   "source": [
    "\n",
    "y.ab <- DGEList(props_no_tcells, samples=metadata_2)\n"
   ]
  },
  {
   "cell_type": "code",
   "execution_count": 116,
   "id": "41b2a7fe",
   "metadata": {},
   "outputs": [
    {
     "data": {
      "text/html": [
       "<dl>\n",
       "\t<dt>$counts</dt>\n",
       "\t\t<dd><table class=\"dataframe\">\n",
       "<caption>A matrix: 12 × 41 of type int</caption>\n",
       "<thead>\n",
       "\t<tr><th></th><th scope=col>Array1_28918</th><th scope=col>Array1_29218</th><th scope=col>Array1_29318</th><th scope=col>Array1_29818</th><th scope=col>Array1_30518</th><th scope=col>Array2_28918</th><th scope=col>Array2_29218</th><th scope=col>Array2_29318</th><th scope=col>Array2_29818</th><th scope=col>Array2_30518</th><th scope=col>⋯</th><th scope=col>Array8_28818</th><th scope=col>Array8_29118</th><th scope=col>Array8_29618</th><th scope=col>Array8_30218</th><th scope=col>Array8_30418</th><th scope=col>Array9_28818</th><th scope=col>Array9_29118</th><th scope=col>Array9_29618</th><th scope=col>Array9_30218</th><th scope=col>Array9_30418</th></tr>\n",
       "</thead>\n",
       "<tbody>\n",
       "\t<tr><th scope=row>B.Cells</th><td> 10</td><td> 40</td><td> 36</td><td>  6</td><td> 36</td><td> 13</td><td> 20</td><td>  1</td><td> 65</td><td> 23</td><td>⋯</td><td> 14</td><td> 17</td><td>85</td><td>193</td><td> 18</td><td>  1</td><td> 12</td><td> 39</td><td>129</td><td> 26</td></tr>\n",
       "\t<tr><th scope=row>Endothelial</th><td> 46</td><td>  7</td><td> 31</td><td> 19</td><td>  1</td><td> 13</td><td>  9</td><td> 22</td><td> 16</td><td>  1</td><td>⋯</td><td>  8</td><td>  5</td><td> 6</td><td> 26</td><td>  8</td><td>  8</td><td> 11</td><td>  5</td><td> 12</td><td> 23</td></tr>\n",
       "\t<tr><th scope=row>Fibroblasts</th><td> 33</td><td>  3</td><td>  6</td><td> 57</td><td>  0</td><td>  1</td><td> 41</td><td> 17</td><td>  8</td><td>  5</td><td>⋯</td><td>  6</td><td> 14</td><td> 5</td><td>  9</td><td>  0</td><td>  9</td><td>  5</td><td>  8</td><td>  1</td><td>  9</td></tr>\n",
       "\t<tr><th scope=row>Macrophages.Monocytes</th><td>181</td><td>409</td><td>453</td><td>799</td><td>171</td><td>325</td><td>267</td><td>975</td><td>274</td><td>595</td><td>⋯</td><td>448</td><td>958</td><td>97</td><td>137</td><td>334</td><td>758</td><td>581</td><td>389</td><td>143</td><td>301</td></tr>\n",
       "\t<tr><th scope=row>Mast</th><td>  2</td><td> 23</td><td> 17</td><td> 57</td><td> 29</td><td> 20</td><td> 64</td><td> 16</td><td>181</td><td>114</td><td>⋯</td><td>140</td><td> 41</td><td>26</td><td> 54</td><td> 66</td><td>  7</td><td> 88</td><td> 37</td><td> 21</td><td> 20</td></tr>\n",
       "\t<tr><th scope=row>Neutrophils</th><td> 35</td><td>  0</td><td> 35</td><td>  1</td><td>  6</td><td>  0</td><td>  4</td><td>  0</td><td>  0</td><td>  0</td><td>⋯</td><td>  1</td><td>  1</td><td> 1</td><td>  2</td><td>  0</td><td>  0</td><td>  1</td><td>  1</td><td> 11</td><td>  1</td></tr>\n",
       "\t<tr><th scope=row>Plasma.Cells</th><td>  3</td><td> 16</td><td> 16</td><td> 24</td><td>  4</td><td>  3</td><td> 10</td><td> 19</td><td>120</td><td>  3</td><td>⋯</td><td>  4</td><td> 23</td><td> 9</td><td> 35</td><td>  4</td><td>  6</td><td> 11</td><td> 15</td><td>  9</td><td> 17</td></tr>\n",
       "\t<tr><th scope=row>Secretory.Epithelial</th><td>  2</td><td>  0</td><td>  1</td><td>  0</td><td>  0</td><td>  0</td><td>  0</td><td>  0</td><td>  0</td><td>  0</td><td>⋯</td><td>  0</td><td>  0</td><td> 0</td><td>  0</td><td>  0</td><td>  0</td><td>  0</td><td>  0</td><td>  0</td><td>  0</td></tr>\n",
       "\t<tr><th scope=row>T1P</th><td> 13</td><td>  0</td><td>  3</td><td>  0</td><td>  1</td><td>  4</td><td>  0</td><td> 13</td><td>  1</td><td>  2</td><td>⋯</td><td>  0</td><td>  0</td><td> 4</td><td>  2</td><td>  0</td><td>  0</td><td>  0</td><td>  5</td><td>  0</td><td>  1</td></tr>\n",
       "\t<tr><th scope=row>T2P</th><td>  0</td><td>  2</td><td> 26</td><td> 19</td><td>  5</td><td>  4</td><td>  2</td><td>267</td><td> 20</td><td> 18</td><td>⋯</td><td>  2</td><td> 20</td><td> 0</td><td> 16</td><td>  2</td><td> 30</td><td> 46</td><td>  1</td><td> 10</td><td>  6</td></tr>\n",
       "\t<tr><th scope=row>cDC</th><td> 13</td><td> 23</td><td> 30</td><td> 54</td><td> 19</td><td> 31</td><td> 15</td><td> 19</td><td> 57</td><td> 35</td><td>⋯</td><td> 29</td><td> 68</td><td>21</td><td> 45</td><td> 39</td><td> 10</td><td> 50</td><td> 51</td><td> 40</td><td> 28</td></tr>\n",
       "\t<tr><th scope=row>pDC</th><td>  0</td><td>  6</td><td>  3</td><td> 30</td><td>  6</td><td>  7</td><td>  2</td><td>  0</td><td> 60</td><td>  6</td><td>⋯</td><td> 10</td><td> 45</td><td> 7</td><td> 42</td><td> 14</td><td> 14</td><td> 14</td><td> 12</td><td> 21</td><td>  8</td></tr>\n",
       "</tbody>\n",
       "</table>\n",
       "</dd>\n",
       "\t<dt>$samples</dt>\n",
       "\t\t<dd><table class=\"dataframe\">\n",
       "<caption>A data.frame: 41 × 15</caption>\n",
       "<thead>\n",
       "\t<tr><th></th><th scope=col>group</th><th scope=col>lib.size</th><th scope=col>norm.factors</th><th scope=col>M.Number</th><th scope=col>treatment</th><th scope=col>infection.dose</th><th scope=col>Tissue.name</th><th scope=col>CFU.granuloma</th><th scope=col>total.thoracic.CFU</th><th scope=col>Array</th><th scope=col>lung.region</th><th scope=col>Gran.State</th><th scope=col>total_cells_elbow</th><th scope=col>monkey_condition_categories</th><th scope=col>tcell.count</th></tr>\n",
       "\t<tr><th></th><th scope=col>&lt;fct&gt;</th><th scope=col>&lt;dbl&gt;</th><th scope=col>&lt;dbl&gt;</th><th scope=col>&lt;fct&gt;</th><th scope=col>&lt;chr&gt;</th><th scope=col>&lt;int&gt;</th><th scope=col>&lt;chr&gt;</th><th scope=col>&lt;int&gt;</th><th scope=col>&lt;int&gt;</th><th scope=col>&lt;int&gt;</th><th scope=col>&lt;chr&gt;</th><th scope=col>&lt;chr&gt;</th><th scope=col>&lt;int&gt;</th><th scope=col>&lt;fct&gt;</th><th scope=col>&lt;int&gt;</th></tr>\n",
       "</thead>\n",
       "<tbody>\n",
       "\t<tr><th scope=row>Array1_28918</th><td>1</td><td> 338</td><td>1</td><td>28918</td><td>CD8a</td><td>19</td><td>RLL Gr 2      </td><td>    260</td><td> 5301080</td><td>1</td><td>RLL</td><td>New</td><td>1154</td><td>1</td><td>606</td></tr>\n",
       "\t<tr><th scope=row>Array1_29218</th><td>1</td><td> 529</td><td>1</td><td>29218</td><td>CD8a</td><td>23</td><td>LLL gr 3      </td><td>    390</td><td> 2960670</td><td>1</td><td>LLL</td><td>New</td><td>1219</td><td>2</td><td>611</td></tr>\n",
       "\t<tr><th scope=row>Array1_29318</th><td>1</td><td> 657</td><td>1</td><td>29318</td><td>CD8a</td><td>18</td><td>RUL C         </td><td>  59000</td><td>19228424</td><td>1</td><td>RUL</td><td>New</td><td>1390</td><td>3</td><td>550</td></tr>\n",
       "\t<tr><th scope=row>Array1_29818</th><td>1</td><td>1066</td><td>1</td><td>29818</td><td>IgG </td><td>23</td><td>ACC GR 1      </td><td> 610000</td><td> 4066743</td><td>1</td><td>ACC</td><td>Old</td><td>1583</td><td>1</td><td> 77</td></tr>\n",
       "\t<tr><th scope=row>Array1_30518</th><td>1</td><td> 278</td><td>1</td><td>30518</td><td>CD8b</td><td>18</td><td>RUL Gr 14     </td><td>   2025</td><td> 3895065</td><td>1</td><td>RUL</td><td>New</td><td>1284</td><td>1</td><td>705</td></tr>\n",
       "\t<tr><th scope=row>Array2_28918</th><td>1</td><td> 421</td><td>1</td><td>28918</td><td>CD8a</td><td>19</td><td>Acc Gr 1      </td><td>    580</td><td> 5301080</td><td>2</td><td>ACC</td><td>New</td><td>1073</td><td>1</td><td>506</td></tr>\n",
       "\t<tr><th scope=row>Array2_29218</th><td>1</td><td> 434</td><td>1</td><td>29218</td><td>CD8a</td><td>23</td><td>ACC gr 3      </td><td>    570</td><td> 2960670</td><td>2</td><td>ACC</td><td>New</td><td>1252</td><td>2</td><td>693</td></tr>\n",
       "\t<tr><th scope=row>Array2_29318</th><td>1</td><td>1349</td><td>1</td><td>29318</td><td>CD8a</td><td>18</td><td>LLL 5         </td><td>  65200</td><td>19228424</td><td>2</td><td>LLL</td><td>New</td><td>1503</td><td>3</td><td> 63</td></tr>\n",
       "\t<tr><th scope=row>Array2_29818</th><td>1</td><td> 802</td><td>1</td><td>29818</td><td>IgG </td><td>23</td><td>ACC GR 2      </td><td> 224000</td><td> 4066743</td><td>2</td><td>ACC</td><td>Old</td><td>1542</td><td>1</td><td>124</td></tr>\n",
       "\t<tr><th scope=row>Array2_30518</th><td>1</td><td> 802</td><td>1</td><td>30518</td><td>CD8b</td><td>18</td><td>RLL Gr 44     </td><td>  34800</td><td> 3895065</td><td>2</td><td>RLL</td><td>New</td><td>1212</td><td>1</td><td>323</td></tr>\n",
       "\t<tr><th scope=row>Array3_28918</th><td>1</td><td>1061</td><td>1</td><td>28918</td><td>CD8a</td><td>19</td><td>LUL GR 1      </td><td> 108000</td><td> 5301080</td><td>3</td><td>LUL</td><td>Old</td><td>1262</td><td>1</td><td> 87</td></tr>\n",
       "\t<tr><th scope=row>Array3_29218</th><td>1</td><td> 754</td><td>1</td><td>29218</td><td>CD8a</td><td>23</td><td>RLL 7 Cluster </td><td> 414000</td><td> 2960670</td><td>3</td><td>RLL</td><td>Old</td><td>1219</td><td>2</td><td>245</td></tr>\n",
       "\t<tr><th scope=row>Array3_29318</th><td>1</td><td> 844</td><td>1</td><td>29318</td><td>CD8a</td><td>18</td><td>LML B         </td><td>   4400</td><td>19228424</td><td>3</td><td>LML</td><td>New</td><td>1251</td><td>3</td><td>275</td></tr>\n",
       "\t<tr><th scope=row>Array3_29818</th><td>1</td><td> 463</td><td>1</td><td>29818</td><td>IgG </td><td>23</td><td>ACC GR 15     </td><td>   5680</td><td> 4066743</td><td>3</td><td>ACC</td><td>New</td><td>1136</td><td>1</td><td>358</td></tr>\n",
       "\t<tr><th scope=row>Array3_30518</th><td>1</td><td> 832</td><td>1</td><td>30518</td><td>CD8b</td><td>18</td><td>RLL Gr 38     </td><td> 151800</td><td> 3895065</td><td>3</td><td>RLL</td><td>New</td><td>1284</td><td>1</td><td>259</td></tr>\n",
       "\t<tr><th scope=row>Array4_28918</th><td>1</td><td> 783</td><td>1</td><td>28918</td><td>CD8a</td><td>19</td><td>LUL Gr 4      </td><td>  84000</td><td> 5301080</td><td>4</td><td>LUL</td><td>Old</td><td>1136</td><td>1</td><td>168</td></tr>\n",
       "\t<tr><th scope=row>Array4_29218</th><td>1</td><td> 549</td><td>1</td><td>29218</td><td>CD8a</td><td>23</td><td>RLL gr 17     </td><td>   1470</td><td> 2960670</td><td>4</td><td>RLL</td><td>Old</td><td>1184</td><td>2</td><td>425</td></tr>\n",
       "\t<tr><th scope=row>Array4_29318</th><td>1</td><td> 495</td><td>1</td><td>29318</td><td>CD8a</td><td>18</td><td>LLL 13        </td><td> 149600</td><td>19228424</td><td>4</td><td>LLL</td><td>New</td><td>1211</td><td>3</td><td>559</td></tr>\n",
       "\t<tr><th scope=row>Array4_29818</th><td>1</td><td> 117</td><td>1</td><td>29818</td><td>IgG </td><td>23</td><td>ACC GR 11     </td><td> 224000</td><td> 4066743</td><td>4</td><td>RLL</td><td>Old</td><td> 572</td><td>1</td><td> 63</td></tr>\n",
       "\t<tr><th scope=row>Array4_30518</th><td>1</td><td> 753</td><td>1</td><td>30518</td><td>CD8b</td><td>18</td><td>RLL Gr 35     </td><td> 106800</td><td> 3895065</td><td>4</td><td>RLL</td><td>Old</td><td>1320</td><td>1</td><td>451</td></tr>\n",
       "\t<tr><th scope=row>Array5_28918</th><td>1</td><td> 930</td><td>1</td><td>28918</td><td>CD8a</td><td>19</td><td>LLL Gr 20     </td><td>  17800</td><td> 5301080</td><td>5</td><td>LLL</td><td>New</td><td>1371</td><td>1</td><td> 36</td></tr>\n",
       "\t<tr><th scope=row>Array6_28818</th><td>1</td><td> 909</td><td>1</td><td>28818</td><td>CD8b</td><td>19</td><td>RUL Gr 3      </td><td>  37200</td><td>10562333</td><td>6</td><td>RUL</td><td>New</td><td>1463</td><td>2</td><td> 75</td></tr>\n",
       "\t<tr><th scope=row>Array6_29118</th><td>1</td><td>1100</td><td>1</td><td>29118</td><td>CD8a</td><td>23</td><td>LLL GR 12     </td><td> 184000</td><td> 6466750</td><td>6</td><td>LLL</td><td>Old</td><td>1537</td><td>4</td><td> 79</td></tr>\n",
       "\t<tr><th scope=row>Array6_29618</th><td>1</td><td> 262</td><td>1</td><td>29618</td><td>IgG </td><td>23</td><td>LML gr 1      </td><td> 642000</td><td> 4976735</td><td>6</td><td>LML</td><td>Old</td><td>1379</td><td>2</td><td>565</td></tr>\n",
       "\t<tr><th scope=row>Array6_30218</th><td>1</td><td> 720</td><td>1</td><td>30218</td><td>CD8b</td><td>23</td><td>RLL 25        </td><td>   6200</td><td> 1670412</td><td>6</td><td>RLL</td><td>New</td><td>1449</td><td>3</td><td>510</td></tr>\n",
       "\t<tr><th scope=row>Array6_30418</th><td>1</td><td> 591</td><td>1</td><td>30418</td><td>IgG </td><td>18</td><td>RLL Gr 13     </td><td>  34500</td><td>  633245</td><td>6</td><td>RLL</td><td>Old</td><td>1248</td><td>3</td><td>424</td></tr>\n",
       "\t<tr><th scope=row>Array7_28818</th><td>1</td><td> 313</td><td>1</td><td>28818</td><td>CD8b</td><td>19</td><td>RUL Gr 5      </td><td> 765000</td><td>10562333</td><td>7</td><td>RUL</td><td>Old</td><td> 665</td><td>2</td><td>218</td></tr>\n",
       "\t<tr><th scope=row>Array7_29118</th><td>1</td><td>1119</td><td>1</td><td>29118</td><td>CD8a</td><td>23</td><td>LLL GR 39     </td><td>  10500</td><td> 6466750</td><td>7</td><td>LLL</td><td>New</td><td>1532</td><td>4</td><td>175</td></tr>\n",
       "\t<tr><th scope=row>Array7_29618</th><td>1</td><td> 616</td><td>1</td><td>29618</td><td>IgG </td><td>23</td><td>LLL gr 4      </td><td>2340000</td><td> 4976735</td><td>7</td><td>LLL</td><td>Old</td><td>1210</td><td>2</td><td>391</td></tr>\n",
       "\t<tr><th scope=row>Array7_30218</th><td>1</td><td> 490</td><td>1</td><td>30218</td><td>CD8b</td><td>23</td><td>RLL 15        </td><td>  11200</td><td> 1670412</td><td>7</td><td>RLL</td><td>New</td><td>1499</td><td>3</td><td>742</td></tr>\n",
       "\t<tr><th scope=row>Array7_30418</th><td>1</td><td> 658</td><td>1</td><td>30418</td><td>IgG </td><td>18</td><td>RLL Gr 15     </td><td> 204000</td><td>  633245</td><td>7</td><td>RLL</td><td>Old</td><td>1155</td><td>3</td><td>362</td></tr>\n",
       "\t<tr><th scope=row>Array8_28818</th><td>1</td><td> 662</td><td>1</td><td>28818</td><td>CD8b</td><td>19</td><td>RLL Gr 3      </td><td>  62400</td><td>10562333</td><td>8</td><td>RLL</td><td>Old</td><td>1178</td><td>2</td><td>223</td></tr>\n",
       "\t<tr><th scope=row>Array8_29118</th><td>1</td><td>1192</td><td>1</td><td>29118</td><td>CD8a</td><td>23</td><td>LLL GR 41     </td><td>  56400</td><td> 6466750</td><td>8</td><td>LLL</td><td>Old</td><td>1573</td><td>4</td><td>110</td></tr>\n",
       "\t<tr><th scope=row>Array8_29618</th><td>1</td><td> 261</td><td>1</td><td>29618</td><td>IgG </td><td>23</td><td>LLL gr 9      </td><td> 216000</td><td> 4976735</td><td>8</td><td>LLL</td><td>Old</td><td>1214</td><td>2</td><td>748</td></tr>\n",
       "\t<tr><th scope=row>Array8_30218</th><td>1</td><td> 561</td><td>1</td><td>30218</td><td>CD8b</td><td>23</td><td>RLL 10        </td><td>  75600</td><td> 1670412</td><td>8</td><td>RLL</td><td>Old</td><td>1528</td><td>3</td><td>536</td></tr>\n",
       "\t<tr><th scope=row>Array8_30418</th><td>1</td><td> 485</td><td>1</td><td>30418</td><td>IgG </td><td>18</td><td>RLL Gr 7      </td><td>  17600</td><td>  633245</td><td>8</td><td>RLL</td><td>Old</td><td>1315</td><td>3</td><td>599</td></tr>\n",
       "\t<tr><th scope=row>Array9_28818</th><td>1</td><td> 843</td><td>1</td><td>28818</td><td>CD8b</td><td>19</td><td>RLL Gr 7      </td><td> 535000</td><td>10562333</td><td>9</td><td>RLL</td><td>Old</td><td>1275</td><td>2</td><td> 13</td></tr>\n",
       "\t<tr><th scope=row>Array9_29118</th><td>1</td><td> 819</td><td>1</td><td>29118</td><td>CD8a</td><td>23</td><td>LLL GR 48     </td><td> 588000</td><td> 6466750</td><td>9</td><td>LLL</td><td>Old</td><td>1324</td><td>4</td><td> 76</td></tr>\n",
       "\t<tr><th scope=row>Array9_29618</th><td>1</td><td> 563</td><td>1</td><td>29618</td><td>IgG </td><td>23</td><td>LLL gr 12     </td><td> 618000</td><td> 4976735</td><td>9</td><td>LLL</td><td>Old</td><td>1242</td><td>2</td><td>494</td></tr>\n",
       "\t<tr><th scope=row>Array9_30218</th><td>1</td><td> 397</td><td>1</td><td>30218</td><td>CD8b</td><td>23</td><td>RLL 18        </td><td>   5640</td><td> 1670412</td><td>9</td><td>RLL</td><td>New</td><td>1328</td><td>3</td><td>788</td></tr>\n",
       "\t<tr><th scope=row>Array9_30418</th><td>1</td><td> 440</td><td>1</td><td>30418</td><td>IgG </td><td>18</td><td>RLL Gr 6      </td><td>  11400</td><td>  633245</td><td>9</td><td>RLL</td><td>New</td><td>1291</td><td>3</td><td>406</td></tr>\n",
       "</tbody>\n",
       "</table>\n",
       "</dd>\n",
       "</dl>\n"
      ],
      "text/latex": [
       "\\begin{description}\n",
       "\\item[\\$counts] A matrix: 12 × 41 of type int\n",
       "\\begin{tabular}{r|lllllllllllllllllllll}\n",
       "  & Array1\\_28918 & Array1\\_29218 & Array1\\_29318 & Array1\\_29818 & Array1\\_30518 & Array2\\_28918 & Array2\\_29218 & Array2\\_29318 & Array2\\_29818 & Array2\\_30518 & ⋯ & Array8\\_28818 & Array8\\_29118 & Array8\\_29618 & Array8\\_30218 & Array8\\_30418 & Array9\\_28818 & Array9\\_29118 & Array9\\_29618 & Array9\\_30218 & Array9\\_30418\\\\\n",
       "\\hline\n",
       "\tB.Cells &  10 &  40 &  36 &   6 &  36 &  13 &  20 &   1 &  65 &  23 & ⋯ &  14 &  17 & 85 & 193 &  18 &   1 &  12 &  39 & 129 &  26\\\\\n",
       "\tEndothelial &  46 &   7 &  31 &  19 &   1 &  13 &   9 &  22 &  16 &   1 & ⋯ &   8 &   5 &  6 &  26 &   8 &   8 &  11 &   5 &  12 &  23\\\\\n",
       "\tFibroblasts &  33 &   3 &   6 &  57 &   0 &   1 &  41 &  17 &   8 &   5 & ⋯ &   6 &  14 &  5 &   9 &   0 &   9 &   5 &   8 &   1 &   9\\\\\n",
       "\tMacrophages.Monocytes & 181 & 409 & 453 & 799 & 171 & 325 & 267 & 975 & 274 & 595 & ⋯ & 448 & 958 & 97 & 137 & 334 & 758 & 581 & 389 & 143 & 301\\\\\n",
       "\tMast &   2 &  23 &  17 &  57 &  29 &  20 &  64 &  16 & 181 & 114 & ⋯ & 140 &  41 & 26 &  54 &  66 &   7 &  88 &  37 &  21 &  20\\\\\n",
       "\tNeutrophils &  35 &   0 &  35 &   1 &   6 &   0 &   4 &   0 &   0 &   0 & ⋯ &   1 &   1 &  1 &   2 &   0 &   0 &   1 &   1 &  11 &   1\\\\\n",
       "\tPlasma.Cells &   3 &  16 &  16 &  24 &   4 &   3 &  10 &  19 & 120 &   3 & ⋯ &   4 &  23 &  9 &  35 &   4 &   6 &  11 &  15 &   9 &  17\\\\\n",
       "\tSecretory.Epithelial &   2 &   0 &   1 &   0 &   0 &   0 &   0 &   0 &   0 &   0 & ⋯ &   0 &   0 &  0 &   0 &   0 &   0 &   0 &   0 &   0 &   0\\\\\n",
       "\tT1P &  13 &   0 &   3 &   0 &   1 &   4 &   0 &  13 &   1 &   2 & ⋯ &   0 &   0 &  4 &   2 &   0 &   0 &   0 &   5 &   0 &   1\\\\\n",
       "\tT2P &   0 &   2 &  26 &  19 &   5 &   4 &   2 & 267 &  20 &  18 & ⋯ &   2 &  20 &  0 &  16 &   2 &  30 &  46 &   1 &  10 &   6\\\\\n",
       "\tcDC &  13 &  23 &  30 &  54 &  19 &  31 &  15 &  19 &  57 &  35 & ⋯ &  29 &  68 & 21 &  45 &  39 &  10 &  50 &  51 &  40 &  28\\\\\n",
       "\tpDC &   0 &   6 &   3 &  30 &   6 &   7 &   2 &   0 &  60 &   6 & ⋯ &  10 &  45 &  7 &  42 &  14 &  14 &  14 &  12 &  21 &   8\\\\\n",
       "\\end{tabular}\n",
       "\n",
       "\\item[\\$samples] A data.frame: 41 × 15\n",
       "\\begin{tabular}{r|lllllllllllllll}\n",
       "  & group & lib.size & norm.factors & M.Number & treatment & infection.dose & Tissue.name & CFU.granuloma & total.thoracic.CFU & Array & lung.region & Gran.State & total\\_cells\\_elbow & monkey\\_condition\\_categories & tcell.count\\\\\n",
       "  & <fct> & <dbl> & <dbl> & <fct> & <chr> & <int> & <chr> & <int> & <int> & <int> & <chr> & <chr> & <int> & <fct> & <int>\\\\\n",
       "\\hline\n",
       "\tArray1\\_28918 & 1 &  338 & 1 & 28918 & CD8a & 19 & RLL Gr 2       &     260 &  5301080 & 1 & RLL & New & 1154 & 1 & 606\\\\\n",
       "\tArray1\\_29218 & 1 &  529 & 1 & 29218 & CD8a & 23 & LLL gr 3       &     390 &  2960670 & 1 & LLL & New & 1219 & 2 & 611\\\\\n",
       "\tArray1\\_29318 & 1 &  657 & 1 & 29318 & CD8a & 18 & RUL C          &   59000 & 19228424 & 1 & RUL & New & 1390 & 3 & 550\\\\\n",
       "\tArray1\\_29818 & 1 & 1066 & 1 & 29818 & IgG  & 23 & ACC GR 1       &  610000 &  4066743 & 1 & ACC & Old & 1583 & 1 &  77\\\\\n",
       "\tArray1\\_30518 & 1 &  278 & 1 & 30518 & CD8b & 18 & RUL Gr 14      &    2025 &  3895065 & 1 & RUL & New & 1284 & 1 & 705\\\\\n",
       "\tArray2\\_28918 & 1 &  421 & 1 & 28918 & CD8a & 19 & Acc Gr 1       &     580 &  5301080 & 2 & ACC & New & 1073 & 1 & 506\\\\\n",
       "\tArray2\\_29218 & 1 &  434 & 1 & 29218 & CD8a & 23 & ACC gr 3       &     570 &  2960670 & 2 & ACC & New & 1252 & 2 & 693\\\\\n",
       "\tArray2\\_29318 & 1 & 1349 & 1 & 29318 & CD8a & 18 & LLL 5          &   65200 & 19228424 & 2 & LLL & New & 1503 & 3 &  63\\\\\n",
       "\tArray2\\_29818 & 1 &  802 & 1 & 29818 & IgG  & 23 & ACC GR 2       &  224000 &  4066743 & 2 & ACC & Old & 1542 & 1 & 124\\\\\n",
       "\tArray2\\_30518 & 1 &  802 & 1 & 30518 & CD8b & 18 & RLL Gr 44      &   34800 &  3895065 & 2 & RLL & New & 1212 & 1 & 323\\\\\n",
       "\tArray3\\_28918 & 1 & 1061 & 1 & 28918 & CD8a & 19 & LUL GR 1       &  108000 &  5301080 & 3 & LUL & Old & 1262 & 1 &  87\\\\\n",
       "\tArray3\\_29218 & 1 &  754 & 1 & 29218 & CD8a & 23 & RLL 7 Cluster  &  414000 &  2960670 & 3 & RLL & Old & 1219 & 2 & 245\\\\\n",
       "\tArray3\\_29318 & 1 &  844 & 1 & 29318 & CD8a & 18 & LML B          &    4400 & 19228424 & 3 & LML & New & 1251 & 3 & 275\\\\\n",
       "\tArray3\\_29818 & 1 &  463 & 1 & 29818 & IgG  & 23 & ACC GR 15      &    5680 &  4066743 & 3 & ACC & New & 1136 & 1 & 358\\\\\n",
       "\tArray3\\_30518 & 1 &  832 & 1 & 30518 & CD8b & 18 & RLL Gr 38      &  151800 &  3895065 & 3 & RLL & New & 1284 & 1 & 259\\\\\n",
       "\tArray4\\_28918 & 1 &  783 & 1 & 28918 & CD8a & 19 & LUL Gr 4       &   84000 &  5301080 & 4 & LUL & Old & 1136 & 1 & 168\\\\\n",
       "\tArray4\\_29218 & 1 &  549 & 1 & 29218 & CD8a & 23 & RLL gr 17      &    1470 &  2960670 & 4 & RLL & Old & 1184 & 2 & 425\\\\\n",
       "\tArray4\\_29318 & 1 &  495 & 1 & 29318 & CD8a & 18 & LLL 13         &  149600 & 19228424 & 4 & LLL & New & 1211 & 3 & 559\\\\\n",
       "\tArray4\\_29818 & 1 &  117 & 1 & 29818 & IgG  & 23 & ACC GR 11      &  224000 &  4066743 & 4 & RLL & Old &  572 & 1 &  63\\\\\n",
       "\tArray4\\_30518 & 1 &  753 & 1 & 30518 & CD8b & 18 & RLL Gr 35      &  106800 &  3895065 & 4 & RLL & Old & 1320 & 1 & 451\\\\\n",
       "\tArray5\\_28918 & 1 &  930 & 1 & 28918 & CD8a & 19 & LLL Gr 20      &   17800 &  5301080 & 5 & LLL & New & 1371 & 1 &  36\\\\\n",
       "\tArray6\\_28818 & 1 &  909 & 1 & 28818 & CD8b & 19 & RUL Gr 3       &   37200 & 10562333 & 6 & RUL & New & 1463 & 2 &  75\\\\\n",
       "\tArray6\\_29118 & 1 & 1100 & 1 & 29118 & CD8a & 23 & LLL GR 12      &  184000 &  6466750 & 6 & LLL & Old & 1537 & 4 &  79\\\\\n",
       "\tArray6\\_29618 & 1 &  262 & 1 & 29618 & IgG  & 23 & LML gr 1       &  642000 &  4976735 & 6 & LML & Old & 1379 & 2 & 565\\\\\n",
       "\tArray6\\_30218 & 1 &  720 & 1 & 30218 & CD8b & 23 & RLL 25         &    6200 &  1670412 & 6 & RLL & New & 1449 & 3 & 510\\\\\n",
       "\tArray6\\_30418 & 1 &  591 & 1 & 30418 & IgG  & 18 & RLL Gr 13      &   34500 &   633245 & 6 & RLL & Old & 1248 & 3 & 424\\\\\n",
       "\tArray7\\_28818 & 1 &  313 & 1 & 28818 & CD8b & 19 & RUL Gr 5       &  765000 & 10562333 & 7 & RUL & Old &  665 & 2 & 218\\\\\n",
       "\tArray7\\_29118 & 1 & 1119 & 1 & 29118 & CD8a & 23 & LLL GR 39      &   10500 &  6466750 & 7 & LLL & New & 1532 & 4 & 175\\\\\n",
       "\tArray7\\_29618 & 1 &  616 & 1 & 29618 & IgG  & 23 & LLL gr 4       & 2340000 &  4976735 & 7 & LLL & Old & 1210 & 2 & 391\\\\\n",
       "\tArray7\\_30218 & 1 &  490 & 1 & 30218 & CD8b & 23 & RLL 15         &   11200 &  1670412 & 7 & RLL & New & 1499 & 3 & 742\\\\\n",
       "\tArray7\\_30418 & 1 &  658 & 1 & 30418 & IgG  & 18 & RLL Gr 15      &  204000 &   633245 & 7 & RLL & Old & 1155 & 3 & 362\\\\\n",
       "\tArray8\\_28818 & 1 &  662 & 1 & 28818 & CD8b & 19 & RLL Gr 3       &   62400 & 10562333 & 8 & RLL & Old & 1178 & 2 & 223\\\\\n",
       "\tArray8\\_29118 & 1 & 1192 & 1 & 29118 & CD8a & 23 & LLL GR 41      &   56400 &  6466750 & 8 & LLL & Old & 1573 & 4 & 110\\\\\n",
       "\tArray8\\_29618 & 1 &  261 & 1 & 29618 & IgG  & 23 & LLL gr 9       &  216000 &  4976735 & 8 & LLL & Old & 1214 & 2 & 748\\\\\n",
       "\tArray8\\_30218 & 1 &  561 & 1 & 30218 & CD8b & 23 & RLL 10         &   75600 &  1670412 & 8 & RLL & Old & 1528 & 3 & 536\\\\\n",
       "\tArray8\\_30418 & 1 &  485 & 1 & 30418 & IgG  & 18 & RLL Gr 7       &   17600 &   633245 & 8 & RLL & Old & 1315 & 3 & 599\\\\\n",
       "\tArray9\\_28818 & 1 &  843 & 1 & 28818 & CD8b & 19 & RLL Gr 7       &  535000 & 10562333 & 9 & RLL & Old & 1275 & 2 &  13\\\\\n",
       "\tArray9\\_29118 & 1 &  819 & 1 & 29118 & CD8a & 23 & LLL GR 48      &  588000 &  6466750 & 9 & LLL & Old & 1324 & 4 &  76\\\\\n",
       "\tArray9\\_29618 & 1 &  563 & 1 & 29618 & IgG  & 23 & LLL gr 12      &  618000 &  4976735 & 9 & LLL & Old & 1242 & 2 & 494\\\\\n",
       "\tArray9\\_30218 & 1 &  397 & 1 & 30218 & CD8b & 23 & RLL 18         &    5640 &  1670412 & 9 & RLL & New & 1328 & 3 & 788\\\\\n",
       "\tArray9\\_30418 & 1 &  440 & 1 & 30418 & IgG  & 18 & RLL Gr 6       &   11400 &   633245 & 9 & RLL & New & 1291 & 3 & 406\\\\\n",
       "\\end{tabular}\n",
       "\n",
       "\\end{description}\n"
      ],
      "text/markdown": [
       "$counts\n",
       ":   \n",
       "A matrix: 12 × 41 of type int\n",
       "\n",
       "| <!--/--> | Array1_28918 | Array1_29218 | Array1_29318 | Array1_29818 | Array1_30518 | Array2_28918 | Array2_29218 | Array2_29318 | Array2_29818 | Array2_30518 | ⋯ | Array8_28818 | Array8_29118 | Array8_29618 | Array8_30218 | Array8_30418 | Array9_28818 | Array9_29118 | Array9_29618 | Array9_30218 | Array9_30418 |\n",
       "|---|---|---|---|---|---|---|---|---|---|---|---|---|---|---|---|---|---|---|---|---|---|\n",
       "| B.Cells |  10 |  40 |  36 |   6 |  36 |  13 |  20 |   1 |  65 |  23 | ⋯ |  14 |  17 | 85 | 193 |  18 |   1 |  12 |  39 | 129 |  26 |\n",
       "| Endothelial |  46 |   7 |  31 |  19 |   1 |  13 |   9 |  22 |  16 |   1 | ⋯ |   8 |   5 |  6 |  26 |   8 |   8 |  11 |   5 |  12 |  23 |\n",
       "| Fibroblasts |  33 |   3 |   6 |  57 |   0 |   1 |  41 |  17 |   8 |   5 | ⋯ |   6 |  14 |  5 |   9 |   0 |   9 |   5 |   8 |   1 |   9 |\n",
       "| Macrophages.Monocytes | 181 | 409 | 453 | 799 | 171 | 325 | 267 | 975 | 274 | 595 | ⋯ | 448 | 958 | 97 | 137 | 334 | 758 | 581 | 389 | 143 | 301 |\n",
       "| Mast |   2 |  23 |  17 |  57 |  29 |  20 |  64 |  16 | 181 | 114 | ⋯ | 140 |  41 | 26 |  54 |  66 |   7 |  88 |  37 |  21 |  20 |\n",
       "| Neutrophils |  35 |   0 |  35 |   1 |   6 |   0 |   4 |   0 |   0 |   0 | ⋯ |   1 |   1 |  1 |   2 |   0 |   0 |   1 |   1 |  11 |   1 |\n",
       "| Plasma.Cells |   3 |  16 |  16 |  24 |   4 |   3 |  10 |  19 | 120 |   3 | ⋯ |   4 |  23 |  9 |  35 |   4 |   6 |  11 |  15 |   9 |  17 |\n",
       "| Secretory.Epithelial |   2 |   0 |   1 |   0 |   0 |   0 |   0 |   0 |   0 |   0 | ⋯ |   0 |   0 |  0 |   0 |   0 |   0 |   0 |   0 |   0 |   0 |\n",
       "| T1P |  13 |   0 |   3 |   0 |   1 |   4 |   0 |  13 |   1 |   2 | ⋯ |   0 |   0 |  4 |   2 |   0 |   0 |   0 |   5 |   0 |   1 |\n",
       "| T2P |   0 |   2 |  26 |  19 |   5 |   4 |   2 | 267 |  20 |  18 | ⋯ |   2 |  20 |  0 |  16 |   2 |  30 |  46 |   1 |  10 |   6 |\n",
       "| cDC |  13 |  23 |  30 |  54 |  19 |  31 |  15 |  19 |  57 |  35 | ⋯ |  29 |  68 | 21 |  45 |  39 |  10 |  50 |  51 |  40 |  28 |\n",
       "| pDC |   0 |   6 |   3 |  30 |   6 |   7 |   2 |   0 |  60 |   6 | ⋯ |  10 |  45 |  7 |  42 |  14 |  14 |  14 |  12 |  21 |   8 |\n",
       "\n",
       "\n",
       "$samples\n",
       ":   \n",
       "A data.frame: 41 × 15\n",
       "\n",
       "| <!--/--> | group &lt;fct&gt; | lib.size &lt;dbl&gt; | norm.factors &lt;dbl&gt; | M.Number &lt;fct&gt; | treatment &lt;chr&gt; | infection.dose &lt;int&gt; | Tissue.name &lt;chr&gt; | CFU.granuloma &lt;int&gt; | total.thoracic.CFU &lt;int&gt; | Array &lt;int&gt; | lung.region &lt;chr&gt; | Gran.State &lt;chr&gt; | total_cells_elbow &lt;int&gt; | monkey_condition_categories &lt;fct&gt; | tcell.count &lt;int&gt; |\n",
       "|---|---|---|---|---|---|---|---|---|---|---|---|---|---|---|---|\n",
       "| Array1_28918 | 1 |  338 | 1 | 28918 | CD8a | 19 | RLL Gr 2       |     260 |  5301080 | 1 | RLL | New | 1154 | 1 | 606 |\n",
       "| Array1_29218 | 1 |  529 | 1 | 29218 | CD8a | 23 | LLL gr 3       |     390 |  2960670 | 1 | LLL | New | 1219 | 2 | 611 |\n",
       "| Array1_29318 | 1 |  657 | 1 | 29318 | CD8a | 18 | RUL C          |   59000 | 19228424 | 1 | RUL | New | 1390 | 3 | 550 |\n",
       "| Array1_29818 | 1 | 1066 | 1 | 29818 | IgG  | 23 | ACC GR 1       |  610000 |  4066743 | 1 | ACC | Old | 1583 | 1 |  77 |\n",
       "| Array1_30518 | 1 |  278 | 1 | 30518 | CD8b | 18 | RUL Gr 14      |    2025 |  3895065 | 1 | RUL | New | 1284 | 1 | 705 |\n",
       "| Array2_28918 | 1 |  421 | 1 | 28918 | CD8a | 19 | Acc Gr 1       |     580 |  5301080 | 2 | ACC | New | 1073 | 1 | 506 |\n",
       "| Array2_29218 | 1 |  434 | 1 | 29218 | CD8a | 23 | ACC gr 3       |     570 |  2960670 | 2 | ACC | New | 1252 | 2 | 693 |\n",
       "| Array2_29318 | 1 | 1349 | 1 | 29318 | CD8a | 18 | LLL 5          |   65200 | 19228424 | 2 | LLL | New | 1503 | 3 |  63 |\n",
       "| Array2_29818 | 1 |  802 | 1 | 29818 | IgG  | 23 | ACC GR 2       |  224000 |  4066743 | 2 | ACC | Old | 1542 | 1 | 124 |\n",
       "| Array2_30518 | 1 |  802 | 1 | 30518 | CD8b | 18 | RLL Gr 44      |   34800 |  3895065 | 2 | RLL | New | 1212 | 1 | 323 |\n",
       "| Array3_28918 | 1 | 1061 | 1 | 28918 | CD8a | 19 | LUL GR 1       |  108000 |  5301080 | 3 | LUL | Old | 1262 | 1 |  87 |\n",
       "| Array3_29218 | 1 |  754 | 1 | 29218 | CD8a | 23 | RLL 7 Cluster  |  414000 |  2960670 | 3 | RLL | Old | 1219 | 2 | 245 |\n",
       "| Array3_29318 | 1 |  844 | 1 | 29318 | CD8a | 18 | LML B          |    4400 | 19228424 | 3 | LML | New | 1251 | 3 | 275 |\n",
       "| Array3_29818 | 1 |  463 | 1 | 29818 | IgG  | 23 | ACC GR 15      |    5680 |  4066743 | 3 | ACC | New | 1136 | 1 | 358 |\n",
       "| Array3_30518 | 1 |  832 | 1 | 30518 | CD8b | 18 | RLL Gr 38      |  151800 |  3895065 | 3 | RLL | New | 1284 | 1 | 259 |\n",
       "| Array4_28918 | 1 |  783 | 1 | 28918 | CD8a | 19 | LUL Gr 4       |   84000 |  5301080 | 4 | LUL | Old | 1136 | 1 | 168 |\n",
       "| Array4_29218 | 1 |  549 | 1 | 29218 | CD8a | 23 | RLL gr 17      |    1470 |  2960670 | 4 | RLL | Old | 1184 | 2 | 425 |\n",
       "| Array4_29318 | 1 |  495 | 1 | 29318 | CD8a | 18 | LLL 13         |  149600 | 19228424 | 4 | LLL | New | 1211 | 3 | 559 |\n",
       "| Array4_29818 | 1 |  117 | 1 | 29818 | IgG  | 23 | ACC GR 11      |  224000 |  4066743 | 4 | RLL | Old |  572 | 1 |  63 |\n",
       "| Array4_30518 | 1 |  753 | 1 | 30518 | CD8b | 18 | RLL Gr 35      |  106800 |  3895065 | 4 | RLL | Old | 1320 | 1 | 451 |\n",
       "| Array5_28918 | 1 |  930 | 1 | 28918 | CD8a | 19 | LLL Gr 20      |   17800 |  5301080 | 5 | LLL | New | 1371 | 1 |  36 |\n",
       "| Array6_28818 | 1 |  909 | 1 | 28818 | CD8b | 19 | RUL Gr 3       |   37200 | 10562333 | 6 | RUL | New | 1463 | 2 |  75 |\n",
       "| Array6_29118 | 1 | 1100 | 1 | 29118 | CD8a | 23 | LLL GR 12      |  184000 |  6466750 | 6 | LLL | Old | 1537 | 4 |  79 |\n",
       "| Array6_29618 | 1 |  262 | 1 | 29618 | IgG  | 23 | LML gr 1       |  642000 |  4976735 | 6 | LML | Old | 1379 | 2 | 565 |\n",
       "| Array6_30218 | 1 |  720 | 1 | 30218 | CD8b | 23 | RLL 25         |    6200 |  1670412 | 6 | RLL | New | 1449 | 3 | 510 |\n",
       "| Array6_30418 | 1 |  591 | 1 | 30418 | IgG  | 18 | RLL Gr 13      |   34500 |   633245 | 6 | RLL | Old | 1248 | 3 | 424 |\n",
       "| Array7_28818 | 1 |  313 | 1 | 28818 | CD8b | 19 | RUL Gr 5       |  765000 | 10562333 | 7 | RUL | Old |  665 | 2 | 218 |\n",
       "| Array7_29118 | 1 | 1119 | 1 | 29118 | CD8a | 23 | LLL GR 39      |   10500 |  6466750 | 7 | LLL | New | 1532 | 4 | 175 |\n",
       "| Array7_29618 | 1 |  616 | 1 | 29618 | IgG  | 23 | LLL gr 4       | 2340000 |  4976735 | 7 | LLL | Old | 1210 | 2 | 391 |\n",
       "| Array7_30218 | 1 |  490 | 1 | 30218 | CD8b | 23 | RLL 15         |   11200 |  1670412 | 7 | RLL | New | 1499 | 3 | 742 |\n",
       "| Array7_30418 | 1 |  658 | 1 | 30418 | IgG  | 18 | RLL Gr 15      |  204000 |   633245 | 7 | RLL | Old | 1155 | 3 | 362 |\n",
       "| Array8_28818 | 1 |  662 | 1 | 28818 | CD8b | 19 | RLL Gr 3       |   62400 | 10562333 | 8 | RLL | Old | 1178 | 2 | 223 |\n",
       "| Array8_29118 | 1 | 1192 | 1 | 29118 | CD8a | 23 | LLL GR 41      |   56400 |  6466750 | 8 | LLL | Old | 1573 | 4 | 110 |\n",
       "| Array8_29618 | 1 |  261 | 1 | 29618 | IgG  | 23 | LLL gr 9       |  216000 |  4976735 | 8 | LLL | Old | 1214 | 2 | 748 |\n",
       "| Array8_30218 | 1 |  561 | 1 | 30218 | CD8b | 23 | RLL 10         |   75600 |  1670412 | 8 | RLL | Old | 1528 | 3 | 536 |\n",
       "| Array8_30418 | 1 |  485 | 1 | 30418 | IgG  | 18 | RLL Gr 7       |   17600 |   633245 | 8 | RLL | Old | 1315 | 3 | 599 |\n",
       "| Array9_28818 | 1 |  843 | 1 | 28818 | CD8b | 19 | RLL Gr 7       |  535000 | 10562333 | 9 | RLL | Old | 1275 | 2 |  13 |\n",
       "| Array9_29118 | 1 |  819 | 1 | 29118 | CD8a | 23 | LLL GR 48      |  588000 |  6466750 | 9 | LLL | Old | 1324 | 4 |  76 |\n",
       "| Array9_29618 | 1 |  563 | 1 | 29618 | IgG  | 23 | LLL gr 12      |  618000 |  4976735 | 9 | LLL | Old | 1242 | 2 | 494 |\n",
       "| Array9_30218 | 1 |  397 | 1 | 30218 | CD8b | 23 | RLL 18         |    5640 |  1670412 | 9 | RLL | New | 1328 | 3 | 788 |\n",
       "| Array9_30418 | 1 |  440 | 1 | 30418 | IgG  | 18 | RLL Gr 6       |   11400 |   633245 | 9 | RLL | New | 1291 | 3 | 406 |\n",
       "\n",
       "\n",
       "\n",
       "\n"
      ],
      "text/plain": [
       "An object of class \"DGEList\"\n",
       "$counts\n",
       "                      Array1_28918 Array1_29218 Array1_29318 Array1_29818\n",
       "B.Cells                         10           40           36            6\n",
       "Endothelial                     46            7           31           19\n",
       "Fibroblasts                     33            3            6           57\n",
       "Macrophages.Monocytes          181          409          453          799\n",
       "Mast                             2           23           17           57\n",
       "                      Array1_30518 Array2_28918 Array2_29218 Array2_29318\n",
       "B.Cells                         36           13           20            1\n",
       "Endothelial                      1           13            9           22\n",
       "Fibroblasts                      0            1           41           17\n",
       "Macrophages.Monocytes          171          325          267          975\n",
       "Mast                            29           20           64           16\n",
       "                      Array2_29818 Array2_30518 Array3_28918 Array3_29218\n",
       "B.Cells                         65           23           11           16\n",
       "Endothelial                     16            1           37           60\n",
       "Fibroblasts                      8            5           64           42\n",
       "Macrophages.Monocytes          274          595          728          479\n",
       "Mast                           181          114           51           43\n",
       "                      Array3_29318 Array3_29818 Array3_30518 Array4_28918\n",
       "B.Cells                          6           78            6           19\n",
       "Endothelial                     21            9            3           13\n",
       "Fibroblasts                      4            7            7            9\n",
       "Macrophages.Monocytes          733          170          638          635\n",
       "Mast                             7          119           81           31\n",
       "                      Array4_29218 Array4_29318 Array4_29818 Array4_30518\n",
       "B.Cells                         44           12           27           17\n",
       "Endothelial                      8           11            1            7\n",
       "Fibroblasts                      0            4            0            5\n",
       "Macrophages.Monocytes          332          387           21          547\n",
       "Mast                           117           31           21           84\n",
       "                      Array5_28918 Array6_28818 Array6_29118 Array6_29618\n",
       "B.Cells                          0           10           19           18\n",
       "Endothelial                      5           54           21           33\n",
       "Fibroblasts                      3           16           42           25\n",
       "Macrophages.Monocytes          850          637          808           88\n",
       "Mast                            16           36           59           33\n",
       "                      Array6_30218 Array6_30418 Array7_28818 Array7_29118\n",
       "B.Cells                         83           28           15           22\n",
       "Endothelial                     20            4           16           10\n",
       "Fibroblasts                      5            1            3           13\n",
       "Macrophages.Monocytes          325          421          160          792\n",
       "Mast                            72           64           89           47\n",
       "                      Array7_29618 Array7_30218 Array7_30418 Array8_28818\n",
       "B.Cells                         54           98           19           14\n",
       "Endothelial                     26            8            6            8\n",
       "Fibroblasts                     99            1            0            6\n",
       "Macrophages.Monocytes          232          216          423          448\n",
       "Mast                            32           43          161          140\n",
       "                      Array8_29118 Array8_29618 Array8_30218 Array8_30418\n",
       "B.Cells                         17           85          193           18\n",
       "Endothelial                      5            6           26            8\n",
       "Fibroblasts                     14            5            9            0\n",
       "Macrophages.Monocytes          958           97          137          334\n",
       "Mast                            41           26           54           66\n",
       "                      Array9_28818 Array9_29118 Array9_29618 Array9_30218\n",
       "B.Cells                          1           12           39          129\n",
       "Endothelial                      8           11            5           12\n",
       "Fibroblasts                      9            5            8            1\n",
       "Macrophages.Monocytes          758          581          389          143\n",
       "Mast                             7           88           37           21\n",
       "                      Array9_30418\n",
       "B.Cells                         26\n",
       "Endothelial                     23\n",
       "Fibroblasts                      9\n",
       "Macrophages.Monocytes          301\n",
       "Mast                            20\n",
       "7 more rows ...\n",
       "\n",
       "$samples\n",
       "             group lib.size norm.factors M.Number treatment infection.dose\n",
       "Array1_28918     1      338            1    28918      CD8a             19\n",
       "Array1_29218     1      529            1    29218      CD8a             23\n",
       "Array1_29318     1      657            1    29318      CD8a             18\n",
       "Array1_29818     1     1066            1    29818       IgG             23\n",
       "Array1_30518     1      278            1    30518      CD8b             18\n",
       "             Tissue.name CFU.granuloma total.thoracic.CFU Array lung.region\n",
       "Array1_28918    RLL Gr 2           260            5301080     1         RLL\n",
       "Array1_29218    LLL gr 3           390            2960670     1         LLL\n",
       "Array1_29318       RUL C         59000           19228424     1         RUL\n",
       "Array1_29818    ACC GR 1        610000            4066743     1         ACC\n",
       "Array1_30518   RUL Gr 14          2025            3895065     1         RUL\n",
       "             Gran.State total_cells_elbow monkey_condition_categories\n",
       "Array1_28918        New              1154                           1\n",
       "Array1_29218        New              1219                           2\n",
       "Array1_29318        New              1390                           3\n",
       "Array1_29818        Old              1583                           1\n",
       "Array1_30518        New              1284                           1\n",
       "             tcell.count\n",
       "Array1_28918         606\n",
       "Array1_29218         611\n",
       "Array1_29318         550\n",
       "Array1_29818          77\n",
       "Array1_30518         705\n",
       "36 more rows ...\n"
      ]
     },
     "metadata": {},
     "output_type": "display_data"
    }
   ],
   "source": [
    "y.ab"
   ]
  },
  {
   "cell_type": "code",
   "execution_count": 91,
   "id": "ef68bf64",
   "metadata": {},
   "outputs": [],
   "source": [
    "#keep <- filterByExpr(y.ab, group=y.ab$samples$treatment)\n",
    "#y.ab <- y.ab[keep,]\n",
    "#summary(keep)"
   ]
  },
  {
   "cell_type": "code",
   "execution_count": 117,
   "id": "2dbc8a3b",
   "metadata": {},
   "outputs": [],
   "source": [
    "design <- model.matrix(~0+factor(monkey_condition_categories) + factor(treatment), y.ab$samples)"
   ]
  },
  {
   "cell_type": "code",
   "execution_count": 118,
   "id": "60a19ecd",
   "metadata": {},
   "outputs": [
    {
     "data": {
      "text/plain": [
       "   Min. 1st Qu.  Median    Mean 3rd Qu.    Max. \n",
       " 0.8128  0.8128  0.8128  0.8128  0.8128  0.8128 "
      ]
     },
     "metadata": {},
     "output_type": "display_data"
    }
   ],
   "source": [
    "y.ab <- estimateDisp(y.ab, design, trend=\"none\")\n",
    "summary(y.ab$common.dispersion)"
   ]
  },
  {
   "cell_type": "code",
   "execution_count": 119,
   "id": "935788ec",
   "metadata": {},
   "outputs": [
    {
     "data": {
      "image/png": "[encoded data removed]",
      "text/plain": [
       "plot without title"
      ]
     },
     "metadata": {
      "image/png": {
       "height": 420,
       "width": 420
      }
     },
     "output_type": "display_data"
    }
   ],
   "source": [
    "plotBCV(y.ab, cex=1)"
   ]
  },
  {
   "cell_type": "code",
   "execution_count": null,
   "id": "ada4f51c",
   "metadata": {},
   "outputs": [],
   "source": []
  },
  {
   "cell_type": "code",
   "execution_count": 120,
   "id": "b9d221a5",
   "metadata": {},
   "outputs": [
    {
     "data": {
      "text/plain": [
       "   Min. 1st Qu.  Median    Mean 3rd Qu.    Max. \n",
       " 0.7383  0.7383  0.7383  0.7383  0.7383  0.7383 "
      ]
     },
     "metadata": {},
     "output_type": "display_data"
    }
   ],
   "source": [
    "fit.ab <- glmQLFit(y.ab, design, robust=TRUE, abundance.trend=FALSE)\n",
    "summary(fit.ab$var.prior)"
   ]
  },
  {
   "cell_type": "code",
   "execution_count": 121,
   "id": "959cb8ba",
   "metadata": {},
   "outputs": [
    {
     "data": {
      "image/png": "[encoded data removed]",
      "text/plain": [
       "plot without title"
      ]
     },
     "metadata": {
      "image/png": {
       "height": 420,
       "width": 420
      }
     },
     "output_type": "display_data"
    }
   ],
   "source": [
    "plotQLDisp(fit.ab, cex=1)"
   ]
  },
  {
   "cell_type": "code",
   "execution_count": 122,
   "id": "5fb1f766",
   "metadata": {},
   "outputs": [
    {
     "data": {
      "text/plain": [
       "       factor(treatment)IgG\n",
       "Down                      1\n",
       "NotSig                    6\n",
       "Up                        5"
      ]
     },
     "metadata": {},
     "output_type": "display_data"
    }
   ],
   "source": [
    "res <- glmQLFTest(fit.ab, coef=ncol(design))\n",
    "summary(decideTests(res))"
   ]
  },
  {
   "cell_type": "code",
   "execution_count": 123,
   "id": "9f170b37",
   "metadata": {},
   "outputs": [
    {
     "data": {
      "text/html": [
       "<dl>\n",
       "\t<dt>$table</dt>\n",
       "\t\t<dd><table class=\"dataframe\">\n",
       "<caption>A data.frame: 10 × 5</caption>\n",
       "<thead>\n",
       "\t<tr><th></th><th scope=col>logFC</th><th scope=col>logCPM</th><th scope=col>F</th><th scope=col>PValue</th><th scope=col>FDR</th></tr>\n",
       "\t<tr><th></th><th scope=col>&lt;dbl&gt;</th><th scope=col>&lt;dbl&gt;</th><th scope=col>&lt;dbl&gt;</th><th scope=col>&lt;dbl&gt;</th><th scope=col>&lt;dbl&gt;</th></tr>\n",
       "</thead>\n",
       "<tbody>\n",
       "\t<tr><th scope=row>pDC</th><td> 1.8980108</td><td>14.78002</td><td>13.9122904</td><td>0.0006216318</td><td>0.007214854</td></tr>\n",
       "\t<tr><th scope=row>Plasma.Cells</th><td> 1.7830532</td><td>15.10785</td><td>12.2485818</td><td>0.0012024756</td><td>0.007214854</td></tr>\n",
       "\t<tr><th scope=row>Mast</th><td> 1.5148101</td><td>16.56676</td><td> 9.9822880</td><td>0.0030903297</td><td>0.012361319</td></tr>\n",
       "\t<tr><th scope=row>cDC</th><td> 0.7548637</td><td>15.85529</td><td> 6.9577808</td><td>0.0119741713</td><td>0.029320639</td></tr>\n",
       "\t<tr><th scope=row>B.Cells</th><td> 1.7892351</td><td>16.15946</td><td> 6.9221391</td><td>0.0122169330</td><td>0.029320639</td></tr>\n",
       "\t<tr><th scope=row>Secretory.Epithelial</th><td>-3.4917073</td><td>11.86088</td><td> 7.1241792</td><td>0.0191621937</td><td>0.038324387</td></tr>\n",
       "\t<tr><th scope=row>Macrophages.Monocytes</th><td>-0.4973358</td><td>19.25327</td><td> 4.8209616</td><td>0.0342083068</td><td>0.058642812</td></tr>\n",
       "\t<tr><th scope=row>T1P</th><td>-1.4561087</td><td>12.84958</td><td> 3.4036965</td><td>0.0728285109</td><td>0.109242766</td></tr>\n",
       "\t<tr><th scope=row>Endothelial</th><td>-0.5394923</td><td>14.87738</td><td> 1.0389039</td><td>0.3145004764</td><td>0.419333969</td></tr>\n",
       "\t<tr><th scope=row>Neutrophils</th><td>-0.8073751</td><td>13.74360</td><td> 0.5768519</td><td>0.4522192505</td><td>0.499019018</td></tr>\n",
       "</tbody>\n",
       "</table>\n",
       "</dd>\n",
       "\t<dt>$adjust.method</dt>\n",
       "\t\t<dd>'BH'</dd>\n",
       "\t<dt>$comparison</dt>\n",
       "\t\t<dd>'factor(treatment)IgG'</dd>\n",
       "\t<dt>$test</dt>\n",
       "\t\t<dd>'glm'</dd>\n",
       "</dl>\n"
      ],
      "text/latex": [
       "\\begin{description}\n",
       "\\item[\\$table] A data.frame: 10 × 5\n",
       "\\begin{tabular}{r|lllll}\n",
       "  & logFC & logCPM & F & PValue & FDR\\\\\n",
       "  & <dbl> & <dbl> & <dbl> & <dbl> & <dbl>\\\\\n",
       "\\hline\n",
       "\tpDC &  1.8980108 & 14.78002 & 13.9122904 & 0.0006216318 & 0.007214854\\\\\n",
       "\tPlasma.Cells &  1.7830532 & 15.10785 & 12.2485818 & 0.0012024756 & 0.007214854\\\\\n",
       "\tMast &  1.5148101 & 16.56676 &  9.9822880 & 0.0030903297 & 0.012361319\\\\\n",
       "\tcDC &  0.7548637 & 15.85529 &  6.9577808 & 0.0119741713 & 0.029320639\\\\\n",
       "\tB.Cells &  1.7892351 & 16.15946 &  6.9221391 & 0.0122169330 & 0.029320639\\\\\n",
       "\tSecretory.Epithelial & -3.4917073 & 11.86088 &  7.1241792 & 0.0191621937 & 0.038324387\\\\\n",
       "\tMacrophages.Monocytes & -0.4973358 & 19.25327 &  4.8209616 & 0.0342083068 & 0.058642812\\\\\n",
       "\tT1P & -1.4561087 & 12.84958 &  3.4036965 & 0.0728285109 & 0.109242766\\\\\n",
       "\tEndothelial & -0.5394923 & 14.87738 &  1.0389039 & 0.3145004764 & 0.419333969\\\\\n",
       "\tNeutrophils & -0.8073751 & 13.74360 &  0.5768519 & 0.4522192505 & 0.499019018\\\\\n",
       "\\end{tabular}\n",
       "\n",
       "\\item[\\$adjust.method] 'BH'\n",
       "\\item[\\$comparison] 'factor(treatment)IgG'\n",
       "\\item[\\$test] 'glm'\n",
       "\\end{description}\n"
      ],
      "text/markdown": [
       "$table\n",
       ":   \n",
       "A data.frame: 10 × 5\n",
       "\n",
       "| <!--/--> | logFC &lt;dbl&gt; | logCPM &lt;dbl&gt; | F &lt;dbl&gt; | PValue &lt;dbl&gt; | FDR &lt;dbl&gt; |\n",
       "|---|---|---|---|---|---|\n",
       "| pDC |  1.8980108 | 14.78002 | 13.9122904 | 0.0006216318 | 0.007214854 |\n",
       "| Plasma.Cells |  1.7830532 | 15.10785 | 12.2485818 | 0.0012024756 | 0.007214854 |\n",
       "| Mast |  1.5148101 | 16.56676 |  9.9822880 | 0.0030903297 | 0.012361319 |\n",
       "| cDC |  0.7548637 | 15.85529 |  6.9577808 | 0.0119741713 | 0.029320639 |\n",
       "| B.Cells |  1.7892351 | 16.15946 |  6.9221391 | 0.0122169330 | 0.029320639 |\n",
       "| Secretory.Epithelial | -3.4917073 | 11.86088 |  7.1241792 | 0.0191621937 | 0.038324387 |\n",
       "| Macrophages.Monocytes | -0.4973358 | 19.25327 |  4.8209616 | 0.0342083068 | 0.058642812 |\n",
       "| T1P | -1.4561087 | 12.84958 |  3.4036965 | 0.0728285109 | 0.109242766 |\n",
       "| Endothelial | -0.5394923 | 14.87738 |  1.0389039 | 0.3145004764 | 0.419333969 |\n",
       "| Neutrophils | -0.8073751 | 13.74360 |  0.5768519 | 0.4522192505 | 0.499019018 |\n",
       "\n",
       "\n",
       "$adjust.method\n",
       ":   'BH'\n",
       "$comparison\n",
       ":   'factor(treatment)IgG'\n",
       "$test\n",
       ":   'glm'\n",
       "\n",
       "\n"
      ],
      "text/plain": [
       "Coefficient:  factor(treatment)IgG \n",
       "                           logFC   logCPM          F       PValue         FDR\n",
       "pDC                    1.8980108 14.78002 13.9122904 0.0006216318 0.007214854\n",
       "Plasma.Cells           1.7830532 15.10785 12.2485818 0.0012024756 0.007214854\n",
       "Mast                   1.5148101 16.56676  9.9822880 0.0030903297 0.012361319\n",
       "cDC                    0.7548637 15.85529  6.9577808 0.0119741713 0.029320639\n",
       "B.Cells                1.7892351 16.15946  6.9221391 0.0122169330 0.029320639\n",
       "Secretory.Epithelial  -3.4917073 11.86088  7.1241792 0.0191621937 0.038324387\n",
       "Macrophages.Monocytes -0.4973358 19.25327  4.8209616 0.0342083068 0.058642812\n",
       "T1P                   -1.4561087 12.84958  3.4036965 0.0728285109 0.109242766\n",
       "Endothelial           -0.5394923 14.87738  1.0389039 0.3145004764 0.419333969\n",
       "Neutrophils           -0.8073751 13.74360  0.5768519 0.4522192505 0.499019018"
      ]
     },
     "metadata": {},
     "output_type": "display_data"
    }
   ],
   "source": [
    "topTags(res)"
   ]
  },
  {
   "cell_type": "code",
   "execution_count": 124,
   "id": "9ed05a78",
   "metadata": {},
   "outputs": [],
   "source": [
    "res <- glmQLFTest(fit.ab, coef = 5)"
   ]
  },
  {
   "cell_type": "code",
   "execution_count": 125,
   "id": "a47d6fb4",
   "metadata": {},
   "outputs": [
    {
     "data": {
      "text/plain": [
       "       factor(treatment)CD8b\n",
       "Down                       2\n",
       "NotSig                     7\n",
       "Up                         3"
      ]
     },
     "metadata": {},
     "output_type": "display_data"
    }
   ],
   "source": [
    "summary(decideTests(res)) # CD8b vs CD8a"
   ]
  },
  {
   "cell_type": "code",
   "execution_count": 126,
   "id": "a3f9a22b",
   "metadata": {},
   "outputs": [
    {
     "data": {
      "text/html": [
       "<dl>\n",
       "\t<dt>$table</dt>\n",
       "\t\t<dd><table class=\"dataframe\">\n",
       "<caption>A data.frame: 10 × 5</caption>\n",
       "<thead>\n",
       "\t<tr><th></th><th scope=col>logFC</th><th scope=col>logCPM</th><th scope=col>F</th><th scope=col>PValue</th><th scope=col>FDR</th></tr>\n",
       "\t<tr><th></th><th scope=col>&lt;dbl&gt;</th><th scope=col>&lt;dbl&gt;</th><th scope=col>&lt;dbl&gt;</th><th scope=col>&lt;dbl&gt;</th><th scope=col>&lt;dbl&gt;</th></tr>\n",
       "</thead>\n",
       "<tbody>\n",
       "\t<tr><th scope=row>pDC</th><td> 2.1286548</td><td>14.78002</td><td>14.209943</td><td>0.0005539053</td><td>0.006646864</td></tr>\n",
       "\t<tr><th scope=row>T1P</th><td>-2.2161524</td><td>12.84958</td><td> 7.893985</td><td>0.0077835820</td><td>0.032361162</td></tr>\n",
       "\t<tr><th scope=row>cDC</th><td> 0.8079923</td><td>15.85529</td><td> 7.800867</td><td>0.0080902906</td><td>0.032361162</td></tr>\n",
       "\t<tr><th scope=row>Secretory.Epithelial</th><td>-3.6499283</td><td>11.86088</td><td> 8.628877</td><td>0.0114429104</td><td>0.034328731</td></tr>\n",
       "\t<tr><th scope=row>Mast</th><td> 1.1429792</td><td>16.56676</td><td> 6.172193</td><td>0.0174835922</td><td>0.041960621</td></tr>\n",
       "\t<tr><th scope=row>Fibroblasts</th><td>-1.5343691</td><td>14.62188</td><td> 4.570779</td><td>0.0389919486</td><td>0.077983897</td></tr>\n",
       "\t<tr><th scope=row>B.Cells</th><td> 1.5849288</td><td>16.15946</td><td> 4.239670</td><td>0.0463674431</td><td>0.079487045</td></tr>\n",
       "\t<tr><th scope=row>Endothelial</th><td>-0.9431280</td><td>14.87738</td><td> 2.923312</td><td>0.0954359655</td><td>0.143153948</td></tr>\n",
       "\t<tr><th scope=row>Macrophages.Monocytes</th><td>-0.2796467</td><td>19.25327</td><td> 1.534798</td><td>0.2228910651</td><td>0.297188087</td></tr>\n",
       "\t<tr><th scope=row>T2P</th><td>-0.7363410</td><td>14.80014</td><td> 1.184544</td><td>0.2832645339</td><td>0.310659413</td></tr>\n",
       "</tbody>\n",
       "</table>\n",
       "</dd>\n",
       "\t<dt>$adjust.method</dt>\n",
       "\t\t<dd>'BH'</dd>\n",
       "\t<dt>$comparison</dt>\n",
       "\t\t<dd>'factor(treatment)CD8b'</dd>\n",
       "\t<dt>$test</dt>\n",
       "\t\t<dd>'glm'</dd>\n",
       "</dl>\n"
      ],
      "text/latex": [
       "\\begin{description}\n",
       "\\item[\\$table] A data.frame: 10 × 5\n",
       "\\begin{tabular}{r|lllll}\n",
       "  & logFC & logCPM & F & PValue & FDR\\\\\n",
       "  & <dbl> & <dbl> & <dbl> & <dbl> & <dbl>\\\\\n",
       "\\hline\n",
       "\tpDC &  2.1286548 & 14.78002 & 14.209943 & 0.0005539053 & 0.006646864\\\\\n",
       "\tT1P & -2.2161524 & 12.84958 &  7.893985 & 0.0077835820 & 0.032361162\\\\\n",
       "\tcDC &  0.8079923 & 15.85529 &  7.800867 & 0.0080902906 & 0.032361162\\\\\n",
       "\tSecretory.Epithelial & -3.6499283 & 11.86088 &  8.628877 & 0.0114429104 & 0.034328731\\\\\n",
       "\tMast &  1.1429792 & 16.56676 &  6.172193 & 0.0174835922 & 0.041960621\\\\\n",
       "\tFibroblasts & -1.5343691 & 14.62188 &  4.570779 & 0.0389919486 & 0.077983897\\\\\n",
       "\tB.Cells &  1.5849288 & 16.15946 &  4.239670 & 0.0463674431 & 0.079487045\\\\\n",
       "\tEndothelial & -0.9431280 & 14.87738 &  2.923312 & 0.0954359655 & 0.143153948\\\\\n",
       "\tMacrophages.Monocytes & -0.2796467 & 19.25327 &  1.534798 & 0.2228910651 & 0.297188087\\\\\n",
       "\tT2P & -0.7363410 & 14.80014 &  1.184544 & 0.2832645339 & 0.310659413\\\\\n",
       "\\end{tabular}\n",
       "\n",
       "\\item[\\$adjust.method] 'BH'\n",
       "\\item[\\$comparison] 'factor(treatment)CD8b'\n",
       "\\item[\\$test] 'glm'\n",
       "\\end{description}\n"
      ],
      "text/markdown": [
       "$table\n",
       ":   \n",
       "A data.frame: 10 × 5\n",
       "\n",
       "| <!--/--> | logFC &lt;dbl&gt; | logCPM &lt;dbl&gt; | F &lt;dbl&gt; | PValue &lt;dbl&gt; | FDR &lt;dbl&gt; |\n",
       "|---|---|---|---|---|---|\n",
       "| pDC |  2.1286548 | 14.78002 | 14.209943 | 0.0005539053 | 0.006646864 |\n",
       "| T1P | -2.2161524 | 12.84958 |  7.893985 | 0.0077835820 | 0.032361162 |\n",
       "| cDC |  0.8079923 | 15.85529 |  7.800867 | 0.0080902906 | 0.032361162 |\n",
       "| Secretory.Epithelial | -3.6499283 | 11.86088 |  8.628877 | 0.0114429104 | 0.034328731 |\n",
       "| Mast |  1.1429792 | 16.56676 |  6.172193 | 0.0174835922 | 0.041960621 |\n",
       "| Fibroblasts | -1.5343691 | 14.62188 |  4.570779 | 0.0389919486 | 0.077983897 |\n",
       "| B.Cells |  1.5849288 | 16.15946 |  4.239670 | 0.0463674431 | 0.079487045 |\n",
       "| Endothelial | -0.9431280 | 14.87738 |  2.923312 | 0.0954359655 | 0.143153948 |\n",
       "| Macrophages.Monocytes | -0.2796467 | 19.25327 |  1.534798 | 0.2228910651 | 0.297188087 |\n",
       "| T2P | -0.7363410 | 14.80014 |  1.184544 | 0.2832645339 | 0.310659413 |\n",
       "\n",
       "\n",
       "$adjust.method\n",
       ":   'BH'\n",
       "$comparison\n",
       ":   'factor(treatment)CD8b'\n",
       "$test\n",
       ":   'glm'\n",
       "\n",
       "\n"
      ],
      "text/plain": [
       "Coefficient:  factor(treatment)CD8b \n",
       "                           logFC   logCPM         F       PValue         FDR\n",
       "pDC                    2.1286548 14.78002 14.209943 0.0005539053 0.006646864\n",
       "T1P                   -2.2161524 12.84958  7.893985 0.0077835820 0.032361162\n",
       "cDC                    0.8079923 15.85529  7.800867 0.0080902906 0.032361162\n",
       "Secretory.Epithelial  -3.6499283 11.86088  8.628877 0.0114429104 0.034328731\n",
       "Mast                   1.1429792 16.56676  6.172193 0.0174835922 0.041960621\n",
       "Fibroblasts           -1.5343691 14.62188  4.570779 0.0389919486 0.077983897\n",
       "B.Cells                1.5849288 16.15946  4.239670 0.0463674431 0.079487045\n",
       "Endothelial           -0.9431280 14.87738  2.923312 0.0954359655 0.143153948\n",
       "Macrophages.Monocytes -0.2796467 19.25327  1.534798 0.2228910651 0.297188087\n",
       "T2P                   -0.7363410 14.80014  1.184544 0.2832645339 0.310659413"
      ]
     },
     "metadata": {},
     "output_type": "display_data"
    }
   ],
   "source": [
    "topTags(res)"
   ]
  },
  {
   "cell_type": "code",
   "execution_count": 127,
   "id": "201fc03c",
   "metadata": {},
   "outputs": [],
   "source": [
    "res <- glmQLFTest(fit.ab, contrast = c(0,0,0,0,1,-1))"
   ]
  },
  {
   "cell_type": "code",
   "execution_count": 128,
   "id": "af410ec0",
   "metadata": {},
   "outputs": [
    {
     "data": {
      "text/plain": [
       "       1*factor(treatment)CD8b -1*factor(treatment)IgG\n",
       "Down                                                 0\n",
       "NotSig                                              12\n",
       "Up                                                   0"
      ]
     },
     "metadata": {},
     "output_type": "display_data"
    }
   ],
   "source": [
    "summary(decideTests(res)) # CD8b vs IgG"
   ]
  },
  {
   "cell_type": "code",
   "execution_count": 20,
   "id": "75e4a664",
   "metadata": {},
   "outputs": [],
   "source": [
    "tnk_celltype_props <- read.csv(\"compositional_analysis/tcell_large_subcluster_counts_by_sample.csv\",row.names=1)\n",
    "metadata <- read.csv(\"compositional_analysis/metadata_by_sample.csv\", row.names=1)\n",
    "\n",
    "tnk_celltype_props <- na.omit(tnk_celltype_props)\n",
    "tnk_celltype_props <- t(tnk_celltype_props)\n",
    "metadata = metadata[colnames(tnk_celltype_props),]\n",
    "\n",
    "metadata$M.Number <- factor(metadata$M.Number)\n",
    "metadata$monkey_condition_categories <- factor(metadata$monkey_condition_categories)"
   ]
  },
  {
   "cell_type": "code",
   "execution_count": 21,
   "id": "b3ea29ab",
   "metadata": {},
   "outputs": [],
   "source": [
    "y.ab <- DGEList(tnk_celltype_props, samples=metadata)\n",
    "\n"
   ]
  },
  {
   "cell_type": "code",
   "execution_count": null,
   "id": "a630fd30",
   "metadata": {},
   "outputs": [],
   "source": []
  },
  {
   "cell_type": "code",
   "execution_count": 22,
   "id": "0373a113",
   "metadata": {},
   "outputs": [],
   "source": [
    "#keep <- filterByExpr(y.ab, group=y.ab$samples$treatment)\n",
    "#y.ab <- y.ab[keep,]\n",
    "#summary(keep)"
   ]
  },
  {
   "cell_type": "code",
   "execution_count": 23,
   "id": "52f66f52",
   "metadata": {},
   "outputs": [],
   "source": [
    "design <- model.matrix(~0+factor(monkey_condition_categories) + factor(treatment), y.ab$samples)"
   ]
  },
  {
   "cell_type": "code",
   "execution_count": 24,
   "id": "23c4f142",
   "metadata": {},
   "outputs": [
    {
     "data": {
      "text/plain": [
       "   Min. 1st Qu.  Median    Mean 3rd Qu.    Max. \n",
       " 0.2767  0.2767  0.2767  0.2767  0.2767  0.2767 "
      ]
     },
     "metadata": {},
     "output_type": "display_data"
    }
   ],
   "source": [
    "y.ab <- estimateDisp(y.ab, design, trend=\"none\")\n",
    "summary(y.ab$common.dispersion)"
   ]
  },
  {
   "cell_type": "code",
   "execution_count": 25,
   "id": "abeb3b80",
   "metadata": {},
   "outputs": [
    {
     "data": {
      "image/png": "[encoded data removed]",
      "text/plain": [
       "plot without title"
      ]
     },
     "metadata": {
      "image/png": {
       "height": 420,
       "width": 420
      }
     },
     "output_type": "display_data"
    }
   ],
   "source": [
    "plotBCV(y.ab, cex=1)"
   ]
  },
  {
   "cell_type": "code",
   "execution_count": null,
   "id": "5971144c",
   "metadata": {},
   "outputs": [],
   "source": []
  },
  {
   "cell_type": "code",
   "execution_count": 26,
   "id": "99fcebb8",
   "metadata": {},
   "outputs": [
    {
     "data": {
      "text/plain": [
       "   Min. 1st Qu.  Median    Mean 3rd Qu.    Max. \n",
       " 0.9397  0.9397  0.9397  0.9397  0.9397  0.9397 "
      ]
     },
     "metadata": {},
     "output_type": "display_data"
    }
   ],
   "source": [
    "fit.ab <- glmQLFit(y.ab, design, robust=TRUE, abundance.trend=FALSE)\n",
    "summary(fit.ab$var.prior)"
   ]
  },
  {
   "cell_type": "code",
   "execution_count": 27,
   "id": "cbe7d5dd",
   "metadata": {},
   "outputs": [
    {
     "data": {
      "image/png": "[encoded data removed]",
      "text/plain": [
       "plot without title"
      ]
     },
     "metadata": {
      "image/png": {
       "height": 420,
       "width": 420
      }
     },
     "output_type": "display_data"
    }
   ],
   "source": [
    "plotQLDisp(fit.ab, cex=1)"
   ]
  },
  {
   "cell_type": "code",
   "execution_count": 28,
   "id": "e3e4007d",
   "metadata": {},
   "outputs": [
    {
     "data": {
      "text/plain": [
       "       factor(treatment)IgG\n",
       "Down                      0\n",
       "NotSig                    4\n",
       "Up                        3"
      ]
     },
     "metadata": {},
     "output_type": "display_data"
    }
   ],
   "source": [
    "res <- glmQLFTest(fit.ab, coef=ncol(design))\n",
    "summary(decideTests(res))"
   ]
  },
  {
   "cell_type": "code",
   "execution_count": 29,
   "id": "201b187c",
   "metadata": {},
   "outputs": [
    {
     "data": {
      "text/html": [
       "<dl>\n",
       "\t<dt>$table</dt>\n",
       "\t\t<dd><table class=\"dataframe\">\n",
       "<caption>A data.frame: 7 × 5</caption>\n",
       "<thead>\n",
       "\t<tr><th></th><th scope=col>logFC</th><th scope=col>logCPM</th><th scope=col>F</th><th scope=col>PValue</th><th scope=col>FDR</th></tr>\n",
       "\t<tr><th></th><th scope=col>&lt;dbl&gt;</th><th scope=col>&lt;dbl&gt;</th><th scope=col>&lt;dbl&gt;</th><th scope=col>&lt;dbl&gt;</th><th scope=col>&lt;dbl&gt;</th></tr>\n",
       "</thead>\n",
       "<tbody>\n",
       "\t<tr><th scope=row>Non.cytotoxic.CD8</th><td> 3.6508329</td><td>14.64912</td><td>45.3358727</td><td>3.243809e-08</td><td>2.270667e-07</td></tr>\n",
       "\t<tr><th scope=row>Stem.like</th><td> 1.1318525</td><td>16.71542</td><td>11.8751368</td><td>1.289127e-03</td><td>4.511944e-03</td></tr>\n",
       "\t<tr><th scope=row>Interferon.responding</th><td> 1.8172521</td><td>14.03286</td><td> 8.2318540</td><td>6.375022e-03</td><td>1.487505e-02</td></tr>\n",
       "\t<tr><th scope=row>Proliferating.T.NK</th><td>-0.8946504</td><td>17.96495</td><td> 4.8650581</td><td>3.283974e-02</td><td>5.746955e-02</td></tr>\n",
       "\t<tr><th scope=row>Treg</th><td> 0.6120690</td><td>15.34737</td><td> 3.1847882</td><td>8.143383e-02</td><td>1.140074e-01</td></tr>\n",
       "\t<tr><th scope=row>Cytotoxic.T.NK</th><td>-0.3310238</td><td>18.27175</td><td> 2.3764899</td><td>1.305544e-01</td><td>1.523134e-01</td></tr>\n",
       "\t<tr><th scope=row>T1T17</th><td> 0.2092938</td><td>18.00529</td><td> 0.4691195</td><td>4.970945e-01</td><td>4.970945e-01</td></tr>\n",
       "</tbody>\n",
       "</table>\n",
       "</dd>\n",
       "\t<dt>$adjust.method</dt>\n",
       "\t\t<dd>'BH'</dd>\n",
       "\t<dt>$comparison</dt>\n",
       "\t\t<dd>'factor(treatment)IgG'</dd>\n",
       "\t<dt>$test</dt>\n",
       "\t\t<dd>'glm'</dd>\n",
       "</dl>\n"
      ],
      "text/latex": [
       "\\begin{description}\n",
       "\\item[\\$table] A data.frame: 7 × 5\n",
       "\\begin{tabular}{r|lllll}\n",
       "  & logFC & logCPM & F & PValue & FDR\\\\\n",
       "  & <dbl> & <dbl> & <dbl> & <dbl> & <dbl>\\\\\n",
       "\\hline\n",
       "\tNon.cytotoxic.CD8 &  3.6508329 & 14.64912 & 45.3358727 & 3.243809e-08 & 2.270667e-07\\\\\n",
       "\tStem.like &  1.1318525 & 16.71542 & 11.8751368 & 1.289127e-03 & 4.511944e-03\\\\\n",
       "\tInterferon.responding &  1.8172521 & 14.03286 &  8.2318540 & 6.375022e-03 & 1.487505e-02\\\\\n",
       "\tProliferating.T.NK & -0.8946504 & 17.96495 &  4.8650581 & 3.283974e-02 & 5.746955e-02\\\\\n",
       "\tTreg &  0.6120690 & 15.34737 &  3.1847882 & 8.143383e-02 & 1.140074e-01\\\\\n",
       "\tCytotoxic.T.NK & -0.3310238 & 18.27175 &  2.3764899 & 1.305544e-01 & 1.523134e-01\\\\\n",
       "\tT1T17 &  0.2092938 & 18.00529 &  0.4691195 & 4.970945e-01 & 4.970945e-01\\\\\n",
       "\\end{tabular}\n",
       "\n",
       "\\item[\\$adjust.method] 'BH'\n",
       "\\item[\\$comparison] 'factor(treatment)IgG'\n",
       "\\item[\\$test] 'glm'\n",
       "\\end{description}\n"
      ],
      "text/markdown": [
       "$table\n",
       ":   \n",
       "A data.frame: 7 × 5\n",
       "\n",
       "| <!--/--> | logFC &lt;dbl&gt; | logCPM &lt;dbl&gt; | F &lt;dbl&gt; | PValue &lt;dbl&gt; | FDR &lt;dbl&gt; |\n",
       "|---|---|---|---|---|---|\n",
       "| Non.cytotoxic.CD8 |  3.6508329 | 14.64912 | 45.3358727 | 3.243809e-08 | 2.270667e-07 |\n",
       "| Stem.like |  1.1318525 | 16.71542 | 11.8751368 | 1.289127e-03 | 4.511944e-03 |\n",
       "| Interferon.responding |  1.8172521 | 14.03286 |  8.2318540 | 6.375022e-03 | 1.487505e-02 |\n",
       "| Proliferating.T.NK | -0.8946504 | 17.96495 |  4.8650581 | 3.283974e-02 | 5.746955e-02 |\n",
       "| Treg |  0.6120690 | 15.34737 |  3.1847882 | 8.143383e-02 | 1.140074e-01 |\n",
       "| Cytotoxic.T.NK | -0.3310238 | 18.27175 |  2.3764899 | 1.305544e-01 | 1.523134e-01 |\n",
       "| T1T17 |  0.2092938 | 18.00529 |  0.4691195 | 4.970945e-01 | 4.970945e-01 |\n",
       "\n",
       "\n",
       "$adjust.method\n",
       ":   'BH'\n",
       "$comparison\n",
       ":   'factor(treatment)IgG'\n",
       "$test\n",
       ":   'glm'\n",
       "\n",
       "\n"
      ],
      "text/plain": [
       "Coefficient:  factor(treatment)IgG \n",
       "                           logFC   logCPM          F       PValue          FDR\n",
       "Non.cytotoxic.CD8      3.6508329 14.64912 45.3358727 3.243809e-08 2.270667e-07\n",
       "Stem.like              1.1318525 16.71542 11.8751368 1.289127e-03 4.511944e-03\n",
       "Interferon.responding  1.8172521 14.03286  8.2318540 6.375022e-03 1.487505e-02\n",
       "Proliferating.T.NK    -0.8946504 17.96495  4.8650581 3.283974e-02 5.746955e-02\n",
       "Treg                   0.6120690 15.34737  3.1847882 8.143383e-02 1.140074e-01\n",
       "Cytotoxic.T.NK        -0.3310238 18.27175  2.3764899 1.305544e-01 1.523134e-01\n",
       "T1T17                  0.2092938 18.00529  0.4691195 4.970945e-01 4.970945e-01"
      ]
     },
     "metadata": {},
     "output_type": "display_data"
    }
   ],
   "source": [
    "topTags(res,12)"
   ]
  },
  {
   "cell_type": "code",
   "execution_count": null,
   "id": "02e08db0",
   "metadata": {},
   "outputs": [],
   "source": []
  },
  {
   "cell_type": "code",
   "execution_count": 30,
   "id": "cc79adca",
   "metadata": {},
   "outputs": [],
   "source": [
    "res <- glmQLFTest(fit.ab, coef = 5)"
   ]
  },
  {
   "cell_type": "code",
   "execution_count": 31,
   "id": "a1e6688c",
   "metadata": {},
   "outputs": [
    {
     "data": {
      "text/plain": [
       "       factor(treatment)CD8b\n",
       "Down                       1\n",
       "NotSig                     3\n",
       "Up                         3"
      ]
     },
     "metadata": {},
     "output_type": "display_data"
    }
   ],
   "source": [
    "summary(decideTests(res)) # CD8b vs CD8a"
   ]
  },
  {
   "cell_type": "code",
   "execution_count": 32,
   "id": "066e7a5f",
   "metadata": {},
   "outputs": [
    {
     "data": {
      "text/html": [
       "<dl>\n",
       "\t<dt>$table</dt>\n",
       "\t\t<dd><table class=\"dataframe\">\n",
       "<caption>A data.frame: 7 × 5</caption>\n",
       "<thead>\n",
       "\t<tr><th></th><th scope=col>logFC</th><th scope=col>logCPM</th><th scope=col>F</th><th scope=col>PValue</th><th scope=col>FDR</th></tr>\n",
       "\t<tr><th></th><th scope=col>&lt;dbl&gt;</th><th scope=col>&lt;dbl&gt;</th><th scope=col>&lt;dbl&gt;</th><th scope=col>&lt;dbl&gt;</th><th scope=col>&lt;dbl&gt;</th></tr>\n",
       "</thead>\n",
       "<tbody>\n",
       "\t<tr><th scope=row>Treg</th><td> 1.4022967</td><td>15.34737</td><td>16.290037804</td><td>0.000221099</td><td>0.001547693</td></tr>\n",
       "\t<tr><th scope=row>Stem.like</th><td> 0.9835416</td><td>16.71542</td><td> 8.338434510</td><td>0.006070113</td><td>0.021245395</td></tr>\n",
       "\t<tr><th scope=row>Cytotoxic.T.NK</th><td>-0.5182300</td><td>18.27175</td><td> 5.723618765</td><td>0.021212447</td><td>0.037378253</td></tr>\n",
       "\t<tr><th scope=row>T1T17</th><td> 0.7350418</td><td>18.00529</td><td> 5.709862503</td><td>0.021359002</td><td>0.037378253</td></tr>\n",
       "\t<tr><th scope=row>Proliferating.T.NK</th><td>-0.7067484</td><td>17.96495</td><td> 2.858036995</td><td>0.098208016</td><td>0.137491223</td></tr>\n",
       "\t<tr><th scope=row>Non.cytotoxic.CD8</th><td> 0.9842635</td><td>14.64912</td><td> 2.392600407</td><td>0.129292200</td><td>0.150840900</td></tr>\n",
       "\t<tr><th scope=row>Interferon.responding</th><td> 0.0558757</td><td>14.03286</td><td> 0.005887857</td><td>0.939194927</td><td>0.939194927</td></tr>\n",
       "</tbody>\n",
       "</table>\n",
       "</dd>\n",
       "\t<dt>$adjust.method</dt>\n",
       "\t\t<dd>'BH'</dd>\n",
       "\t<dt>$comparison</dt>\n",
       "\t\t<dd>'factor(treatment)CD8b'</dd>\n",
       "\t<dt>$test</dt>\n",
       "\t\t<dd>'glm'</dd>\n",
       "</dl>\n"
      ],
      "text/latex": [
       "\\begin{description}\n",
       "\\item[\\$table] A data.frame: 7 × 5\n",
       "\\begin{tabular}{r|lllll}\n",
       "  & logFC & logCPM & F & PValue & FDR\\\\\n",
       "  & <dbl> & <dbl> & <dbl> & <dbl> & <dbl>\\\\\n",
       "\\hline\n",
       "\tTreg &  1.4022967 & 15.34737 & 16.290037804 & 0.000221099 & 0.001547693\\\\\n",
       "\tStem.like &  0.9835416 & 16.71542 &  8.338434510 & 0.006070113 & 0.021245395\\\\\n",
       "\tCytotoxic.T.NK & -0.5182300 & 18.27175 &  5.723618765 & 0.021212447 & 0.037378253\\\\\n",
       "\tT1T17 &  0.7350418 & 18.00529 &  5.709862503 & 0.021359002 & 0.037378253\\\\\n",
       "\tProliferating.T.NK & -0.7067484 & 17.96495 &  2.858036995 & 0.098208016 & 0.137491223\\\\\n",
       "\tNon.cytotoxic.CD8 &  0.9842635 & 14.64912 &  2.392600407 & 0.129292200 & 0.150840900\\\\\n",
       "\tInterferon.responding &  0.0558757 & 14.03286 &  0.005887857 & 0.939194927 & 0.939194927\\\\\n",
       "\\end{tabular}\n",
       "\n",
       "\\item[\\$adjust.method] 'BH'\n",
       "\\item[\\$comparison] 'factor(treatment)CD8b'\n",
       "\\item[\\$test] 'glm'\n",
       "\\end{description}\n"
      ],
      "text/markdown": [
       "$table\n",
       ":   \n",
       "A data.frame: 7 × 5\n",
       "\n",
       "| <!--/--> | logFC &lt;dbl&gt; | logCPM &lt;dbl&gt; | F &lt;dbl&gt; | PValue &lt;dbl&gt; | FDR &lt;dbl&gt; |\n",
       "|---|---|---|---|---|---|\n",
       "| Treg |  1.4022967 | 15.34737 | 16.290037804 | 0.000221099 | 0.001547693 |\n",
       "| Stem.like |  0.9835416 | 16.71542 |  8.338434510 | 0.006070113 | 0.021245395 |\n",
       "| Cytotoxic.T.NK | -0.5182300 | 18.27175 |  5.723618765 | 0.021212447 | 0.037378253 |\n",
       "| T1T17 |  0.7350418 | 18.00529 |  5.709862503 | 0.021359002 | 0.037378253 |\n",
       "| Proliferating.T.NK | -0.7067484 | 17.96495 |  2.858036995 | 0.098208016 | 0.137491223 |\n",
       "| Non.cytotoxic.CD8 |  0.9842635 | 14.64912 |  2.392600407 | 0.129292200 | 0.150840900 |\n",
       "| Interferon.responding |  0.0558757 | 14.03286 |  0.005887857 | 0.939194927 | 0.939194927 |\n",
       "\n",
       "\n",
       "$adjust.method\n",
       ":   'BH'\n",
       "$comparison\n",
       ":   'factor(treatment)CD8b'\n",
       "$test\n",
       ":   'glm'\n",
       "\n",
       "\n"
      ],
      "text/plain": [
       "Coefficient:  factor(treatment)CD8b \n",
       "                           logFC   logCPM            F      PValue         FDR\n",
       "Treg                   1.4022967 15.34737 16.290037804 0.000221099 0.001547693\n",
       "Stem.like              0.9835416 16.71542  8.338434510 0.006070113 0.021245395\n",
       "Cytotoxic.T.NK        -0.5182300 18.27175  5.723618765 0.021212447 0.037378253\n",
       "T1T17                  0.7350418 18.00529  5.709862503 0.021359002 0.037378253\n",
       "Proliferating.T.NK    -0.7067484 17.96495  2.858036995 0.098208016 0.137491223\n",
       "Non.cytotoxic.CD8      0.9842635 14.64912  2.392600407 0.129292200 0.150840900\n",
       "Interferon.responding  0.0558757 14.03286  0.005887857 0.939194927 0.939194927"
      ]
     },
     "metadata": {},
     "output_type": "display_data"
    }
   ],
   "source": [
    "topTags(res)"
   ]
  },
  {
   "cell_type": "code",
   "execution_count": 33,
   "id": "1c745041",
   "metadata": {},
   "outputs": [],
   "source": [
    "res <- glmQLFTest(fit.ab, contrast = c(0,0,0,0,1,-1))"
   ]
  },
  {
   "cell_type": "code",
   "execution_count": 34,
   "id": "b28eb7e6",
   "metadata": {},
   "outputs": [
    {
     "data": {
      "text/plain": [
       "       1*factor(treatment)CD8b -1*factor(treatment)IgG\n",
       "Down                                                 2\n",
       "NotSig                                               4\n",
       "Up                                                   1"
      ]
     },
     "metadata": {},
     "output_type": "display_data"
    }
   ],
   "source": [
    "summary(decideTests(res)) # CD8b vs IgG"
   ]
  },
  {
   "cell_type": "code",
   "execution_count": 35,
   "id": "510f4f46",
   "metadata": {
    "scrolled": true
   },
   "outputs": [
    {
     "data": {
      "text/html": [
       "<dl>\n",
       "\t<dt>$table</dt>\n",
       "\t\t<dd><table class=\"dataframe\">\n",
       "<caption>A data.frame: 7 × 5</caption>\n",
       "<thead>\n",
       "\t<tr><th></th><th scope=col>logFC</th><th scope=col>logCPM</th><th scope=col>F</th><th scope=col>PValue</th><th scope=col>FDR</th></tr>\n",
       "\t<tr><th></th><th scope=col>&lt;dbl&gt;</th><th scope=col>&lt;dbl&gt;</th><th scope=col>&lt;dbl&gt;</th><th scope=col>&lt;dbl&gt;</th><th scope=col>&lt;dbl&gt;</th></tr>\n",
       "</thead>\n",
       "<tbody>\n",
       "\t<tr><th scope=row>Non.cytotoxic.CD8</th><td>-2.6665694</td><td>14.64912</td><td>25.3656504</td><td>9.124524e-06</td><td>6.387167e-05</td></tr>\n",
       "\t<tr><th scope=row>Interferon.responding</th><td>-1.7613764</td><td>14.03286</td><td> 8.4934383</td><td>5.654031e-03</td><td>1.978911e-02</td></tr>\n",
       "\t<tr><th scope=row>Treg</th><td> 0.7902278</td><td>15.34737</td><td> 5.9245627</td><td>1.919062e-02</td><td>4.477812e-02</td></tr>\n",
       "\t<tr><th scope=row>T1T17</th><td> 0.5257480</td><td>18.00529</td><td> 2.7790128</td><td>1.028277e-01</td><td>1.799485e-01</td></tr>\n",
       "\t<tr><th scope=row>Cytotoxic.T.NK</th><td>-0.1872062</td><td>18.27175</td><td> 0.7355421</td><td>3.958818e-01</td><td>5.542345e-01</td></tr>\n",
       "\t<tr><th scope=row>Proliferating.T.NK</th><td> 0.1879021</td><td>17.96495</td><td> 0.1991039</td><td>6.577001e-01</td><td>6.684136e-01</td></tr>\n",
       "\t<tr><th scope=row>Stem.like</th><td>-0.1483109</td><td>16.71542</td><td> 0.1860278</td><td>6.684136e-01</td><td>6.684136e-01</td></tr>\n",
       "</tbody>\n",
       "</table>\n",
       "</dd>\n",
       "\t<dt>$adjust.method</dt>\n",
       "\t\t<dd>'BH'</dd>\n",
       "\t<dt>$comparison</dt>\n",
       "\t\t<dd>'1*factor(treatment)CD8b -1*factor(treatment)IgG'</dd>\n",
       "\t<dt>$test</dt>\n",
       "\t\t<dd>'glm'</dd>\n",
       "</dl>\n"
      ],
      "text/latex": [
       "\\begin{description}\n",
       "\\item[\\$table] A data.frame: 7 × 5\n",
       "\\begin{tabular}{r|lllll}\n",
       "  & logFC & logCPM & F & PValue & FDR\\\\\n",
       "  & <dbl> & <dbl> & <dbl> & <dbl> & <dbl>\\\\\n",
       "\\hline\n",
       "\tNon.cytotoxic.CD8 & -2.6665694 & 14.64912 & 25.3656504 & 9.124524e-06 & 6.387167e-05\\\\\n",
       "\tInterferon.responding & -1.7613764 & 14.03286 &  8.4934383 & 5.654031e-03 & 1.978911e-02\\\\\n",
       "\tTreg &  0.7902278 & 15.34737 &  5.9245627 & 1.919062e-02 & 4.477812e-02\\\\\n",
       "\tT1T17 &  0.5257480 & 18.00529 &  2.7790128 & 1.028277e-01 & 1.799485e-01\\\\\n",
       "\tCytotoxic.T.NK & -0.1872062 & 18.27175 &  0.7355421 & 3.958818e-01 & 5.542345e-01\\\\\n",
       "\tProliferating.T.NK &  0.1879021 & 17.96495 &  0.1991039 & 6.577001e-01 & 6.684136e-01\\\\\n",
       "\tStem.like & -0.1483109 & 16.71542 &  0.1860278 & 6.684136e-01 & 6.684136e-01\\\\\n",
       "\\end{tabular}\n",
       "\n",
       "\\item[\\$adjust.method] 'BH'\n",
       "\\item[\\$comparison] '1*factor(treatment)CD8b -1*factor(treatment)IgG'\n",
       "\\item[\\$test] 'glm'\n",
       "\\end{description}\n"
      ],
      "text/markdown": [
       "$table\n",
       ":   \n",
       "A data.frame: 7 × 5\n",
       "\n",
       "| <!--/--> | logFC &lt;dbl&gt; | logCPM &lt;dbl&gt; | F &lt;dbl&gt; | PValue &lt;dbl&gt; | FDR &lt;dbl&gt; |\n",
       "|---|---|---|---|---|---|\n",
       "| Non.cytotoxic.CD8 | -2.6665694 | 14.64912 | 25.3656504 | 9.124524e-06 | 6.387167e-05 |\n",
       "| Interferon.responding | -1.7613764 | 14.03286 |  8.4934383 | 5.654031e-03 | 1.978911e-02 |\n",
       "| Treg |  0.7902278 | 15.34737 |  5.9245627 | 1.919062e-02 | 4.477812e-02 |\n",
       "| T1T17 |  0.5257480 | 18.00529 |  2.7790128 | 1.028277e-01 | 1.799485e-01 |\n",
       "| Cytotoxic.T.NK | -0.1872062 | 18.27175 |  0.7355421 | 3.958818e-01 | 5.542345e-01 |\n",
       "| Proliferating.T.NK |  0.1879021 | 17.96495 |  0.1991039 | 6.577001e-01 | 6.684136e-01 |\n",
       "| Stem.like | -0.1483109 | 16.71542 |  0.1860278 | 6.684136e-01 | 6.684136e-01 |\n",
       "\n",
       "\n",
       "$adjust.method\n",
       ":   'BH'\n",
       "$comparison\n",
       ":   '1*factor(treatment)CD8b -1*factor(treatment)IgG'\n",
       "$test\n",
       ":   'glm'\n",
       "\n",
       "\n"
      ],
      "text/plain": [
       "Coefficient:  1*factor(treatment)CD8b -1*factor(treatment)IgG \n",
       "                           logFC   logCPM          F       PValue          FDR\n",
       "Non.cytotoxic.CD8     -2.6665694 14.64912 25.3656504 9.124524e-06 6.387167e-05\n",
       "Interferon.responding -1.7613764 14.03286  8.4934383 5.654031e-03 1.978911e-02\n",
       "Treg                   0.7902278 15.34737  5.9245627 1.919062e-02 4.477812e-02\n",
       "T1T17                  0.5257480 18.00529  2.7790128 1.028277e-01 1.799485e-01\n",
       "Cytotoxic.T.NK        -0.1872062 18.27175  0.7355421 3.958818e-01 5.542345e-01\n",
       "Proliferating.T.NK     0.1879021 17.96495  0.1991039 6.577001e-01 6.684136e-01\n",
       "Stem.like             -0.1483109 16.71542  0.1860278 6.684136e-01 6.684136e-01"
      ]
     },
     "metadata": {},
     "output_type": "display_data"
    }
   ],
   "source": [
    "topTags(res)"
   ]
  },
  {
   "cell_type": "code",
   "execution_count": null,
   "id": "0e5f6752",
   "metadata": {},
   "outputs": [],
   "source": []
  },
  {
   "cell_type": "code",
   "execution_count": 36,
   "id": "dbf1a575",
   "metadata": {},
   "outputs": [],
   "source": [
    "tnk_celltype_props <- read.csv(\"compositional_analysis/cytotoxic_subclusters.csv\",row.names=1)\n",
    "metadata <- read.csv(\"compositional_analysis/metadata_by_sample.csv\", row.names=1)\n",
    "\n",
    "tnk_celltype_props <- na.omit(tnk_celltype_props)\n",
    "tnk_celltype_props <- t(tnk_celltype_props)\n",
    "metadata = metadata[colnames(tnk_celltype_props),]\n",
    "\n",
    "metadata$M.Number <- factor(metadata$M.Number)\n",
    "metadata$monkey_condition_categories <- factor(metadata$monkey_condition_categories)"
   ]
  },
  {
   "cell_type": "code",
   "execution_count": 37,
   "id": "da631e89",
   "metadata": {},
   "outputs": [],
   "source": [
    "y.ab <- DGEList(tnk_celltype_props, samples=metadata)\n",
    "\n"
   ]
  },
  {
   "cell_type": "code",
   "execution_count": null,
   "id": "5bbbe858",
   "metadata": {},
   "outputs": [],
   "source": []
  },
  {
   "cell_type": "code",
   "execution_count": 38,
   "id": "688c09ba",
   "metadata": {},
   "outputs": [],
   "source": [
    "#keep <- filterByExpr(y.ab, group=y.ab$samples$treatment)\n",
    "#y.ab <- y.ab[keep,]\n",
    "#summary(keep)"
   ]
  },
  {
   "cell_type": "code",
   "execution_count": 39,
   "id": "cd803d73",
   "metadata": {},
   "outputs": [],
   "source": [
    "design <- model.matrix(~0+factor(monkey_condition_categories) + factor(treatment), y.ab$samples)"
   ]
  },
  {
   "cell_type": "code",
   "execution_count": 40,
   "id": "d8739c56",
   "metadata": {},
   "outputs": [
    {
     "data": {
      "text/plain": [
       "   Min. 1st Qu.  Median    Mean 3rd Qu.    Max. \n",
       " 0.3251  0.3251  0.3251  0.3251  0.3251  0.3251 "
      ]
     },
     "metadata": {},
     "output_type": "display_data"
    }
   ],
   "source": [
    "y.ab <- estimateDisp(y.ab, design, trend=\"none\")\n",
    "summary(y.ab$common.dispersion)"
   ]
  },
  {
   "cell_type": "code",
   "execution_count": 41,
   "id": "08f67084",
   "metadata": {},
   "outputs": [
    {
     "data": {
      "image/png": "[encoded data removed]",
      "text/plain": [
       "plot without title"
      ]
     },
     "metadata": {
      "image/png": {
       "height": 420,
       "width": 420
      }
     },
     "output_type": "display_data"
    }
   ],
   "source": [
    "plotBCV(y.ab, cex=1)"
   ]
  },
  {
   "cell_type": "code",
   "execution_count": null,
   "id": "c2cfe37e",
   "metadata": {},
   "outputs": [],
   "source": []
  },
  {
   "cell_type": "code",
   "execution_count": 42,
   "id": "55f1b3a2",
   "metadata": {},
   "outputs": [
    {
     "data": {
      "text/plain": [
       "   Min. 1st Qu.  Median    Mean 3rd Qu.    Max. \n",
       "  1.011   1.011   1.011   1.011   1.011   1.011 "
      ]
     },
     "metadata": {},
     "output_type": "display_data"
    }
   ],
   "source": [
    "fit.ab <- glmQLFit(y.ab, design, robust=TRUE, abundance.trend=FALSE)\n",
    "summary(fit.ab$var.prior)"
   ]
  },
  {
   "cell_type": "code",
   "execution_count": 43,
   "id": "917d0e5a",
   "metadata": {},
   "outputs": [
    {
     "data": {
      "image/png": "[encoded data removed]",
      "text/plain": [
       "plot without title"
      ]
     },
     "metadata": {
      "image/png": {
       "height": 420,
       "width": 420
      }
     },
     "output_type": "display_data"
    }
   ],
   "source": [
    "plotQLDisp(fit.ab, cex=1)"
   ]
  },
  {
   "cell_type": "code",
   "execution_count": 44,
   "id": "e444cf01",
   "metadata": {},
   "outputs": [
    {
     "data": {
      "text/plain": [
       "       factor(treatment)IgG\n",
       "Down                      3\n",
       "NotSig                    2\n",
       "Up                        3"
      ]
     },
     "metadata": {},
     "output_type": "display_data"
    }
   ],
   "source": [
    "res <- glmQLFTest(fit.ab, coef=ncol(design))\n",
    "summary(decideTests(res))"
   ]
  },
  {
   "cell_type": "code",
   "execution_count": 45,
   "id": "caa505b0",
   "metadata": {},
   "outputs": [
    {
     "data": {
      "text/html": [
       "<dl>\n",
       "\t<dt>$table</dt>\n",
       "\t\t<dd><table class=\"dataframe\">\n",
       "<caption>A data.frame: 8 × 5</caption>\n",
       "<thead>\n",
       "\t<tr><th></th><th scope=col>logFC</th><th scope=col>logCPM</th><th scope=col>F</th><th scope=col>PValue</th><th scope=col>FDR</th></tr>\n",
       "\t<tr><th></th><th scope=col>&lt;dbl&gt;</th><th scope=col>&lt;dbl&gt;</th><th scope=col>&lt;dbl&gt;</th><th scope=col>&lt;dbl&gt;</th><th scope=col>&lt;dbl&gt;</th></tr>\n",
       "</thead>\n",
       "<tbody>\n",
       "\t<tr><th scope=row>Cytotoxic.6</th><td> 4.3052612</td><td>15.26191</td><td>58.73352313</td><td>1.480407e-10</td><td>1.184325e-09</td></tr>\n",
       "\t<tr><th scope=row>Cytotoxic.3</th><td>-3.1276923</td><td>17.02351</td><td>49.01032543</td><td>1.698441e-09</td><td>6.793765e-09</td></tr>\n",
       "\t<tr><th scope=row>Cytotoxic.5</th><td>-3.3471303</td><td>16.88730</td><td>47.12008982</td><td>2.958232e-09</td><td>7.888618e-09</td></tr>\n",
       "\t<tr><th scope=row>T1T17.like.Cytotoxic.7</th><td>-2.7387398</td><td>16.33119</td><td>38.61460177</td><td>4.080353e-08</td><td>8.160706e-08</td></tr>\n",
       "\t<tr><th scope=row>Cytotoxic.1</th><td> 2.4183986</td><td>17.41599</td><td>32.15425444</td><td>3.503687e-07</td><td>5.605900e-07</td></tr>\n",
       "\t<tr><th scope=row>T1T17.like.Cytotoxic.8</th><td> 1.5003395</td><td>17.88463</td><td> 9.95494535</td><td>2.426561e-03</td><td>3.235415e-03</td></tr>\n",
       "\t<tr><th scope=row>Cytotoxic.4</th><td> 0.4546043</td><td>17.65244</td><td> 1.58840958</td><td>2.120413e-01</td><td>2.423329e-01</td></tr>\n",
       "\t<tr><th scope=row>Cytotoxic.2</th><td> 0.1041961</td><td>16.67812</td><td> 0.08308405</td><td>7.740742e-01</td><td>7.740742e-01</td></tr>\n",
       "</tbody>\n",
       "</table>\n",
       "</dd>\n",
       "\t<dt>$adjust.method</dt>\n",
       "\t\t<dd>'BH'</dd>\n",
       "\t<dt>$comparison</dt>\n",
       "\t\t<dd>'factor(treatment)IgG'</dd>\n",
       "\t<dt>$test</dt>\n",
       "\t\t<dd>'glm'</dd>\n",
       "</dl>\n"
      ],
      "text/latex": [
       "\\begin{description}\n",
       "\\item[\\$table] A data.frame: 8 × 5\n",
       "\\begin{tabular}{r|lllll}\n",
       "  & logFC & logCPM & F & PValue & FDR\\\\\n",
       "  & <dbl> & <dbl> & <dbl> & <dbl> & <dbl>\\\\\n",
       "\\hline\n",
       "\tCytotoxic.6 &  4.3052612 & 15.26191 & 58.73352313 & 1.480407e-10 & 1.184325e-09\\\\\n",
       "\tCytotoxic.3 & -3.1276923 & 17.02351 & 49.01032543 & 1.698441e-09 & 6.793765e-09\\\\\n",
       "\tCytotoxic.5 & -3.3471303 & 16.88730 & 47.12008982 & 2.958232e-09 & 7.888618e-09\\\\\n",
       "\tT1T17.like.Cytotoxic.7 & -2.7387398 & 16.33119 & 38.61460177 & 4.080353e-08 & 8.160706e-08\\\\\n",
       "\tCytotoxic.1 &  2.4183986 & 17.41599 & 32.15425444 & 3.503687e-07 & 5.605900e-07\\\\\n",
       "\tT1T17.like.Cytotoxic.8 &  1.5003395 & 17.88463 &  9.95494535 & 2.426561e-03 & 3.235415e-03\\\\\n",
       "\tCytotoxic.4 &  0.4546043 & 17.65244 &  1.58840958 & 2.120413e-01 & 2.423329e-01\\\\\n",
       "\tCytotoxic.2 &  0.1041961 & 16.67812 &  0.08308405 & 7.740742e-01 & 7.740742e-01\\\\\n",
       "\\end{tabular}\n",
       "\n",
       "\\item[\\$adjust.method] 'BH'\n",
       "\\item[\\$comparison] 'factor(treatment)IgG'\n",
       "\\item[\\$test] 'glm'\n",
       "\\end{description}\n"
      ],
      "text/markdown": [
       "$table\n",
       ":   \n",
       "A data.frame: 8 × 5\n",
       "\n",
       "| <!--/--> | logFC &lt;dbl&gt; | logCPM &lt;dbl&gt; | F &lt;dbl&gt; | PValue &lt;dbl&gt; | FDR &lt;dbl&gt; |\n",
       "|---|---|---|---|---|---|\n",
       "| Cytotoxic.6 |  4.3052612 | 15.26191 | 58.73352313 | 1.480407e-10 | 1.184325e-09 |\n",
       "| Cytotoxic.3 | -3.1276923 | 17.02351 | 49.01032543 | 1.698441e-09 | 6.793765e-09 |\n",
       "| Cytotoxic.5 | -3.3471303 | 16.88730 | 47.12008982 | 2.958232e-09 | 7.888618e-09 |\n",
       "| T1T17.like.Cytotoxic.7 | -2.7387398 | 16.33119 | 38.61460177 | 4.080353e-08 | 8.160706e-08 |\n",
       "| Cytotoxic.1 |  2.4183986 | 17.41599 | 32.15425444 | 3.503687e-07 | 5.605900e-07 |\n",
       "| T1T17.like.Cytotoxic.8 |  1.5003395 | 17.88463 |  9.95494535 | 2.426561e-03 | 3.235415e-03 |\n",
       "| Cytotoxic.4 |  0.4546043 | 17.65244 |  1.58840958 | 2.120413e-01 | 2.423329e-01 |\n",
       "| Cytotoxic.2 |  0.1041961 | 16.67812 |  0.08308405 | 7.740742e-01 | 7.740742e-01 |\n",
       "\n",
       "\n",
       "$adjust.method\n",
       ":   'BH'\n",
       "$comparison\n",
       ":   'factor(treatment)IgG'\n",
       "$test\n",
       ":   'glm'\n",
       "\n",
       "\n"
      ],
      "text/plain": [
       "Coefficient:  factor(treatment)IgG \n",
       "                            logFC   logCPM           F       PValue\n",
       "Cytotoxic.6             4.3052612 15.26191 58.73352313 1.480407e-10\n",
       "Cytotoxic.3            -3.1276923 17.02351 49.01032543 1.698441e-09\n",
       "Cytotoxic.5            -3.3471303 16.88730 47.12008982 2.958232e-09\n",
       "T1T17.like.Cytotoxic.7 -2.7387398 16.33119 38.61460177 4.080353e-08\n",
       "Cytotoxic.1             2.4183986 17.41599 32.15425444 3.503687e-07\n",
       "T1T17.like.Cytotoxic.8  1.5003395 17.88463  9.95494535 2.426561e-03\n",
       "Cytotoxic.4             0.4546043 17.65244  1.58840958 2.120413e-01\n",
       "Cytotoxic.2             0.1041961 16.67812  0.08308405 7.740742e-01\n",
       "                                FDR\n",
       "Cytotoxic.6            1.184325e-09\n",
       "Cytotoxic.3            6.793765e-09\n",
       "Cytotoxic.5            7.888618e-09\n",
       "T1T17.like.Cytotoxic.7 8.160706e-08\n",
       "Cytotoxic.1            5.605900e-07\n",
       "T1T17.like.Cytotoxic.8 3.235415e-03\n",
       "Cytotoxic.4            2.423329e-01\n",
       "Cytotoxic.2            7.740742e-01"
      ]
     },
     "metadata": {},
     "output_type": "display_data"
    }
   ],
   "source": [
    "topTags(res,12)"
   ]
  },
  {
   "cell_type": "code",
   "execution_count": null,
   "id": "d5e559e6",
   "metadata": {},
   "outputs": [],
   "source": []
  },
  {
   "cell_type": "code",
   "execution_count": 46,
   "id": "df1b35e8",
   "metadata": {},
   "outputs": [],
   "source": [
    "res <- glmQLFTest(fit.ab, coef = 5)"
   ]
  },
  {
   "cell_type": "code",
   "execution_count": 47,
   "id": "cc9ac587",
   "metadata": {},
   "outputs": [
    {
     "data": {
      "text/plain": [
       "       factor(treatment)CD8b\n",
       "Down                       3\n",
       "NotSig                     0\n",
       "Up                         5"
      ]
     },
     "metadata": {},
     "output_type": "display_data"
    }
   ],
   "source": [
    "summary(decideTests(res)) # CD8b vs CD8a"
   ]
  },
  {
   "cell_type": "code",
   "execution_count": 48,
   "id": "ddb5df4d",
   "metadata": {},
   "outputs": [
    {
     "data": {
      "text/html": [
       "<dl>\n",
       "\t<dt>$table</dt>\n",
       "\t\t<dd><table class=\"dataframe\">\n",
       "<caption>A data.frame: 8 × 5</caption>\n",
       "<thead>\n",
       "\t<tr><th></th><th scope=col>logFC</th><th scope=col>logCPM</th><th scope=col>F</th><th scope=col>PValue</th><th scope=col>FDR</th></tr>\n",
       "\t<tr><th></th><th scope=col>&lt;dbl&gt;</th><th scope=col>&lt;dbl&gt;</th><th scope=col>&lt;dbl&gt;</th><th scope=col>&lt;dbl&gt;</th><th scope=col>&lt;dbl&gt;</th></tr>\n",
       "</thead>\n",
       "<tbody>\n",
       "\t<tr><th scope=row>Cytotoxic.5</th><td>-2.3147865</td><td>16.88730</td><td>26.139093</td><td>2.994144e-06</td><td>1.681235e-05</td></tr>\n",
       "\t<tr><th scope=row>Cytotoxic.6</th><td> 3.0920327</td><td>15.26191</td><td>25.447203</td><td>4.203088e-06</td><td>1.681235e-05</td></tr>\n",
       "\t<tr><th scope=row>T1T17.like.Cytotoxic.7</th><td>-1.7368286</td><td>16.33119</td><td>17.522676</td><td>8.674163e-05</td><td>2.313110e-04</td></tr>\n",
       "\t<tr><th scope=row>Cytotoxic.2</th><td> 1.0628108</td><td>16.67812</td><td> 8.841757</td><td>4.121850e-03</td><td>6.718644e-03</td></tr>\n",
       "\t<tr><th scope=row>Cytotoxic.3</th><td>-1.1668541</td><td>17.02351</td><td> 8.803196</td><td>4.199153e-03</td><td>6.718644e-03</td></tr>\n",
       "\t<tr><th scope=row>T1T17.like.Cytotoxic.8</th><td> 1.3063038</td><td>17.88463</td><td> 7.235964</td><td>9.063379e-03</td><td>1.208450e-02</td></tr>\n",
       "\t<tr><th scope=row>Cytotoxic.1</th><td> 1.1337924</td><td>17.41599</td><td> 6.820173</td><td>1.117206e-02</td><td>1.276806e-02</td></tr>\n",
       "\t<tr><th scope=row>Cytotoxic.4</th><td> 0.8539668</td><td>17.65244</td><td> 5.308017</td><td>2.442076e-02</td><td>2.442076e-02</td></tr>\n",
       "</tbody>\n",
       "</table>\n",
       "</dd>\n",
       "\t<dt>$adjust.method</dt>\n",
       "\t\t<dd>'BH'</dd>\n",
       "\t<dt>$comparison</dt>\n",
       "\t\t<dd>'factor(treatment)CD8b'</dd>\n",
       "\t<dt>$test</dt>\n",
       "\t\t<dd>'glm'</dd>\n",
       "</dl>\n"
      ],
      "text/latex": [
       "\\begin{description}\n",
       "\\item[\\$table] A data.frame: 8 × 5\n",
       "\\begin{tabular}{r|lllll}\n",
       "  & logFC & logCPM & F & PValue & FDR\\\\\n",
       "  & <dbl> & <dbl> & <dbl> & <dbl> & <dbl>\\\\\n",
       "\\hline\n",
       "\tCytotoxic.5 & -2.3147865 & 16.88730 & 26.139093 & 2.994144e-06 & 1.681235e-05\\\\\n",
       "\tCytotoxic.6 &  3.0920327 & 15.26191 & 25.447203 & 4.203088e-06 & 1.681235e-05\\\\\n",
       "\tT1T17.like.Cytotoxic.7 & -1.7368286 & 16.33119 & 17.522676 & 8.674163e-05 & 2.313110e-04\\\\\n",
       "\tCytotoxic.2 &  1.0628108 & 16.67812 &  8.841757 & 4.121850e-03 & 6.718644e-03\\\\\n",
       "\tCytotoxic.3 & -1.1668541 & 17.02351 &  8.803196 & 4.199153e-03 & 6.718644e-03\\\\\n",
       "\tT1T17.like.Cytotoxic.8 &  1.3063038 & 17.88463 &  7.235964 & 9.063379e-03 & 1.208450e-02\\\\\n",
       "\tCytotoxic.1 &  1.1337924 & 17.41599 &  6.820173 & 1.117206e-02 & 1.276806e-02\\\\\n",
       "\tCytotoxic.4 &  0.8539668 & 17.65244 &  5.308017 & 2.442076e-02 & 2.442076e-02\\\\\n",
       "\\end{tabular}\n",
       "\n",
       "\\item[\\$adjust.method] 'BH'\n",
       "\\item[\\$comparison] 'factor(treatment)CD8b'\n",
       "\\item[\\$test] 'glm'\n",
       "\\end{description}\n"
      ],
      "text/markdown": [
       "$table\n",
       ":   \n",
       "A data.frame: 8 × 5\n",
       "\n",
       "| <!--/--> | logFC &lt;dbl&gt; | logCPM &lt;dbl&gt; | F &lt;dbl&gt; | PValue &lt;dbl&gt; | FDR &lt;dbl&gt; |\n",
       "|---|---|---|---|---|---|\n",
       "| Cytotoxic.5 | -2.3147865 | 16.88730 | 26.139093 | 2.994144e-06 | 1.681235e-05 |\n",
       "| Cytotoxic.6 |  3.0920327 | 15.26191 | 25.447203 | 4.203088e-06 | 1.681235e-05 |\n",
       "| T1T17.like.Cytotoxic.7 | -1.7368286 | 16.33119 | 17.522676 | 8.674163e-05 | 2.313110e-04 |\n",
       "| Cytotoxic.2 |  1.0628108 | 16.67812 |  8.841757 | 4.121850e-03 | 6.718644e-03 |\n",
       "| Cytotoxic.3 | -1.1668541 | 17.02351 |  8.803196 | 4.199153e-03 | 6.718644e-03 |\n",
       "| T1T17.like.Cytotoxic.8 |  1.3063038 | 17.88463 |  7.235964 | 9.063379e-03 | 1.208450e-02 |\n",
       "| Cytotoxic.1 |  1.1337924 | 17.41599 |  6.820173 | 1.117206e-02 | 1.276806e-02 |\n",
       "| Cytotoxic.4 |  0.8539668 | 17.65244 |  5.308017 | 2.442076e-02 | 2.442076e-02 |\n",
       "\n",
       "\n",
       "$adjust.method\n",
       ":   'BH'\n",
       "$comparison\n",
       ":   'factor(treatment)CD8b'\n",
       "$test\n",
       ":   'glm'\n",
       "\n",
       "\n"
      ],
      "text/plain": [
       "Coefficient:  factor(treatment)CD8b \n",
       "                            logFC   logCPM         F       PValue          FDR\n",
       "Cytotoxic.5            -2.3147865 16.88730 26.139093 2.994144e-06 1.681235e-05\n",
       "Cytotoxic.6             3.0920327 15.26191 25.447203 4.203088e-06 1.681235e-05\n",
       "T1T17.like.Cytotoxic.7 -1.7368286 16.33119 17.522676 8.674163e-05 2.313110e-04\n",
       "Cytotoxic.2             1.0628108 16.67812  8.841757 4.121850e-03 6.718644e-03\n",
       "Cytotoxic.3            -1.1668541 17.02351  8.803196 4.199153e-03 6.718644e-03\n",
       "T1T17.like.Cytotoxic.8  1.3063038 17.88463  7.235964 9.063379e-03 1.208450e-02\n",
       "Cytotoxic.1             1.1337924 17.41599  6.820173 1.117206e-02 1.276806e-02\n",
       "Cytotoxic.4             0.8539668 17.65244  5.308017 2.442076e-02 2.442076e-02"
      ]
     },
     "metadata": {},
     "output_type": "display_data"
    }
   ],
   "source": [
    "topTags(res)"
   ]
  },
  {
   "cell_type": "code",
   "execution_count": 49,
   "id": "cf35f1c9",
   "metadata": {},
   "outputs": [],
   "source": [
    "res <- glmQLFTest(fit.ab, contrast = c(0,0,0,0,1,-1))"
   ]
  },
  {
   "cell_type": "code",
   "execution_count": 50,
   "id": "7aecaba8",
   "metadata": {},
   "outputs": [
    {
     "data": {
      "text/plain": [
       "       1*factor(treatment)CD8b -1*factor(treatment)IgG\n",
       "Down                                                 2\n",
       "NotSig                                               4\n",
       "Up                                                   2"
      ]
     },
     "metadata": {},
     "output_type": "display_data"
    }
   ],
   "source": [
    "summary(decideTests(res)) # CD8b vs IgG"
   ]
  },
  {
   "cell_type": "code",
   "execution_count": 51,
   "id": "03b02b90",
   "metadata": {
    "scrolled": true
   },
   "outputs": [
    {
     "data": {
      "text/html": [
       "<dl>\n",
       "\t<dt>$table</dt>\n",
       "\t\t<dd><table class=\"dataframe\">\n",
       "<caption>A data.frame: 8 × 5</caption>\n",
       "<thead>\n",
       "\t<tr><th></th><th scope=col>logFC</th><th scope=col>logCPM</th><th scope=col>F</th><th scope=col>PValue</th><th scope=col>FDR</th></tr>\n",
       "\t<tr><th></th><th scope=col>&lt;dbl&gt;</th><th scope=col>&lt;dbl&gt;</th><th scope=col>&lt;dbl&gt;</th><th scope=col>&lt;dbl&gt;</th><th scope=col>&lt;dbl&gt;</th></tr>\n",
       "</thead>\n",
       "<tbody>\n",
       "\t<tr><th scope=row>Cytotoxic.3</th><td> 1.9608382</td><td>17.02351</td><td>18.3752971</td><td>6.106979e-05</td><td>0.0004885584</td></tr>\n",
       "\t<tr><th scope=row>Cytotoxic.1</th><td>-1.2846062</td><td>17.41599</td><td>10.3089624</td><td>2.055482e-03</td><td>0.0082219289</td></tr>\n",
       "\t<tr><th scope=row>Cytotoxic.6</th><td>-1.2132285</td><td>15.26191</td><td> 7.1855827</td><td>9.393567e-03</td><td>0.0192849376</td></tr>\n",
       "\t<tr><th scope=row>Cytotoxic.2</th><td> 0.9586146</td><td>16.67812</td><td> 7.1123757</td><td>9.642469e-03</td><td>0.0192849376</td></tr>\n",
       "\t<tr><th scope=row>T1T17.like.Cytotoxic.7</th><td> 1.0019112</td><td>16.33119</td><td> 4.4112490</td><td>3.957154e-02</td><td>0.0633144668</td></tr>\n",
       "\t<tr><th scope=row>Cytotoxic.5</th><td> 1.0323439</td><td>16.88730</td><td> 3.6487595</td><td>6.050687e-02</td><td>0.0806758242</td></tr>\n",
       "\t<tr><th scope=row>Cytotoxic.4</th><td> 0.3993626</td><td>17.65244</td><td> 1.2600919</td><td>2.657466e-01</td><td>0.3037103579</td></tr>\n",
       "\t<tr><th scope=row>T1T17.like.Cytotoxic.8</th><td>-0.1940356</td><td>17.88463</td><td> 0.1686903</td><td>6.826238e-01</td><td>0.6826238031</td></tr>\n",
       "</tbody>\n",
       "</table>\n",
       "</dd>\n",
       "\t<dt>$adjust.method</dt>\n",
       "\t\t<dd>'BH'</dd>\n",
       "\t<dt>$comparison</dt>\n",
       "\t\t<dd>'1*factor(treatment)CD8b -1*factor(treatment)IgG'</dd>\n",
       "\t<dt>$test</dt>\n",
       "\t\t<dd>'glm'</dd>\n",
       "</dl>\n"
      ],
      "text/latex": [
       "\\begin{description}\n",
       "\\item[\\$table] A data.frame: 8 × 5\n",
       "\\begin{tabular}{r|lllll}\n",
       "  & logFC & logCPM & F & PValue & FDR\\\\\n",
       "  & <dbl> & <dbl> & <dbl> & <dbl> & <dbl>\\\\\n",
       "\\hline\n",
       "\tCytotoxic.3 &  1.9608382 & 17.02351 & 18.3752971 & 6.106979e-05 & 0.0004885584\\\\\n",
       "\tCytotoxic.1 & -1.2846062 & 17.41599 & 10.3089624 & 2.055482e-03 & 0.0082219289\\\\\n",
       "\tCytotoxic.6 & -1.2132285 & 15.26191 &  7.1855827 & 9.393567e-03 & 0.0192849376\\\\\n",
       "\tCytotoxic.2 &  0.9586146 & 16.67812 &  7.1123757 & 9.642469e-03 & 0.0192849376\\\\\n",
       "\tT1T17.like.Cytotoxic.7 &  1.0019112 & 16.33119 &  4.4112490 & 3.957154e-02 & 0.0633144668\\\\\n",
       "\tCytotoxic.5 &  1.0323439 & 16.88730 &  3.6487595 & 6.050687e-02 & 0.0806758242\\\\\n",
       "\tCytotoxic.4 &  0.3993626 & 17.65244 &  1.2600919 & 2.657466e-01 & 0.3037103579\\\\\n",
       "\tT1T17.like.Cytotoxic.8 & -0.1940356 & 17.88463 &  0.1686903 & 6.826238e-01 & 0.6826238031\\\\\n",
       "\\end{tabular}\n",
       "\n",
       "\\item[\\$adjust.method] 'BH'\n",
       "\\item[\\$comparison] '1*factor(treatment)CD8b -1*factor(treatment)IgG'\n",
       "\\item[\\$test] 'glm'\n",
       "\\end{description}\n"
      ],
      "text/markdown": [
       "$table\n",
       ":   \n",
       "A data.frame: 8 × 5\n",
       "\n",
       "| <!--/--> | logFC &lt;dbl&gt; | logCPM &lt;dbl&gt; | F &lt;dbl&gt; | PValue &lt;dbl&gt; | FDR &lt;dbl&gt; |\n",
       "|---|---|---|---|---|---|\n",
       "| Cytotoxic.3 |  1.9608382 | 17.02351 | 18.3752971 | 6.106979e-05 | 0.0004885584 |\n",
       "| Cytotoxic.1 | -1.2846062 | 17.41599 | 10.3089624 | 2.055482e-03 | 0.0082219289 |\n",
       "| Cytotoxic.6 | -1.2132285 | 15.26191 |  7.1855827 | 9.393567e-03 | 0.0192849376 |\n",
       "| Cytotoxic.2 |  0.9586146 | 16.67812 |  7.1123757 | 9.642469e-03 | 0.0192849376 |\n",
       "| T1T17.like.Cytotoxic.7 |  1.0019112 | 16.33119 |  4.4112490 | 3.957154e-02 | 0.0633144668 |\n",
       "| Cytotoxic.5 |  1.0323439 | 16.88730 |  3.6487595 | 6.050687e-02 | 0.0806758242 |\n",
       "| Cytotoxic.4 |  0.3993626 | 17.65244 |  1.2600919 | 2.657466e-01 | 0.3037103579 |\n",
       "| T1T17.like.Cytotoxic.8 | -0.1940356 | 17.88463 |  0.1686903 | 6.826238e-01 | 0.6826238031 |\n",
       "\n",
       "\n",
       "$adjust.method\n",
       ":   'BH'\n",
       "$comparison\n",
       ":   '1*factor(treatment)CD8b -1*factor(treatment)IgG'\n",
       "$test\n",
       ":   'glm'\n",
       "\n",
       "\n"
      ],
      "text/plain": [
       "Coefficient:  1*factor(treatment)CD8b -1*factor(treatment)IgG \n",
       "                            logFC   logCPM          F       PValue          FDR\n",
       "Cytotoxic.3             1.9608382 17.02351 18.3752971 6.106979e-05 0.0004885584\n",
       "Cytotoxic.1            -1.2846062 17.41599 10.3089624 2.055482e-03 0.0082219289\n",
       "Cytotoxic.6            -1.2132285 15.26191  7.1855827 9.393567e-03 0.0192849376\n",
       "Cytotoxic.2             0.9586146 16.67812  7.1123757 9.642469e-03 0.0192849376\n",
       "T1T17.like.Cytotoxic.7  1.0019112 16.33119  4.4112490 3.957154e-02 0.0633144668\n",
       "Cytotoxic.5             1.0323439 16.88730  3.6487595 6.050687e-02 0.0806758242\n",
       "Cytotoxic.4             0.3993626 17.65244  1.2600919 2.657466e-01 0.3037103579\n",
       "T1T17.like.Cytotoxic.8 -0.1940356 17.88463  0.1686903 6.826238e-01 0.6826238031"
      ]
     },
     "metadata": {},
     "output_type": "display_data"
    }
   ],
   "source": [
    "topTags(res)"
   ]
  },
  {
   "cell_type": "code",
   "execution_count": null,
   "id": "195368d6",
   "metadata": {},
   "outputs": [],
   "source": []
  },
  {
   "cell_type": "code",
   "execution_count": null,
   "id": "d72f531b",
   "metadata": {},
   "outputs": [],
   "source": [
    "# T/NK including all subclusters"
   ]
  },
  {
   "cell_type": "code",
   "execution_count": null,
   "id": "53eee722",
   "metadata": {},
   "outputs": [],
   "source": []
  },
  {
   "cell_type": "code",
   "execution_count": 2,
   "id": "f477c586",
   "metadata": {},
   "outputs": [],
   "source": [
    "tnk_celltype_props <- read.csv(\"compositional_analysis/nkt_all_subcluster_counts_by_sample.csv\",row.names=1)\n",
    "metadata <- read.csv(\"compositional_analysis/metadata_by_sample.csv\", row.names=1)\n",
    "\n",
    "tnk_celltype_props <- na.omit(tnk_celltype_props)\n",
    "tnk_celltype_props <- t(tnk_celltype_props)\n",
    "metadata = metadata[colnames(tnk_celltype_props),]\n",
    "\n",
    "metadata$M.Number <- factor(metadata$M.Number)\n",
    "metadata$monkey_condition_categories <- factor(metadata$monkey_condition_categories)"
   ]
  },
  {
   "cell_type": "code",
   "execution_count": 3,
   "id": "0453c164",
   "metadata": {},
   "outputs": [],
   "source": [
    "y.ab <- DGEList(tnk_celltype_props, samples=metadata)\n",
    "\n"
   ]
  },
  {
   "cell_type": "code",
   "execution_count": null,
   "id": "5d883d4c",
   "metadata": {},
   "outputs": [],
   "source": []
  },
  {
   "cell_type": "code",
   "execution_count": 22,
   "id": "52421578",
   "metadata": {},
   "outputs": [],
   "source": [
    "#keep <- filterByExpr(y.ab, group=y.ab$samples$treatment)\n",
    "#y.ab <- y.ab[keep,]\n",
    "#summary(keep)"
   ]
  },
  {
   "cell_type": "code",
   "execution_count": 4,
   "id": "72e08c9c",
   "metadata": {},
   "outputs": [],
   "source": [
    "design <- model.matrix(~0+factor(monkey_condition_categories) + factor(treatment), y.ab$samples)"
   ]
  },
  {
   "cell_type": "code",
   "execution_count": 5,
   "id": "cd44e3c1",
   "metadata": {},
   "outputs": [
    {
     "data": {
      "text/plain": [
       "   Min. 1st Qu.  Median    Mean 3rd Qu.    Max. \n",
       " 0.3658  0.3658  0.3658  0.3658  0.3658  0.3658 "
      ]
     },
     "metadata": {},
     "output_type": "display_data"
    }
   ],
   "source": [
    "y.ab <- estimateDisp(y.ab, design, trend=\"none\")\n",
    "summary(y.ab$common.dispersion)"
   ]
  },
  {
   "cell_type": "code",
   "execution_count": 6,
   "id": "b1b6f7ed",
   "metadata": {},
   "outputs": [
    {
     "data": {
      "image/png": "[encoded data removed]",
      "text/plain": [
       "plot without title"
      ]
     },
     "metadata": {
      "image/png": {
       "height": 420,
       "width": 420
      }
     },
     "output_type": "display_data"
    }
   ],
   "source": [
    "plotBCV(y.ab, cex=1)"
   ]
  },
  {
   "cell_type": "code",
   "execution_count": null,
   "id": "798484de",
   "metadata": {},
   "outputs": [],
   "source": []
  },
  {
   "cell_type": "code",
   "execution_count": 7,
   "id": "b5d4abf1",
   "metadata": {},
   "outputs": [
    {
     "data": {
      "text/plain": [
       "   Min. 1st Qu.  Median    Mean 3rd Qu.    Max. \n",
       "  1.114   1.114   1.114   1.114   1.114   1.114 "
      ]
     },
     "metadata": {},
     "output_type": "display_data"
    }
   ],
   "source": [
    "fit.ab <- glmQLFit(y.ab, design, robust=TRUE, abundance.trend=FALSE)\n",
    "summary(fit.ab$var.prior)"
   ]
  },
  {
   "cell_type": "code",
   "execution_count": 8,
   "id": "a6991bf9",
   "metadata": {},
   "outputs": [
    {
     "data": {
      "image/png": "[encoded data removed]",
      "text/plain": [
       "plot without title"
      ]
     },
     "metadata": {
      "image/png": {
       "height": 420,
       "width": 420
      }
     },
     "output_type": "display_data"
    }
   ],
   "source": [
    "plotQLDisp(fit.ab, cex=1)"
   ]
  },
  {
   "cell_type": "code",
   "execution_count": 9,
   "id": "80f81b0d",
   "metadata": {},
   "outputs": [
    {
     "data": {
      "text/plain": [
       "       factor(treatment)IgG\n",
       "Down                      5\n",
       "NotSig                    6\n",
       "Up                        6"
      ]
     },
     "metadata": {},
     "output_type": "display_data"
    }
   ],
   "source": [
    "res <- glmQLFTest(fit.ab, coef=ncol(design))\n",
    "summary(decideTests(res))"
   ]
  },
  {
   "cell_type": "code",
   "execution_count": 10,
   "id": "adf48074",
   "metadata": {},
   "outputs": [
    {
     "data": {
      "text/html": [
       "<dl>\n",
       "\t<dt>$table</dt>\n",
       "\t\t<dd><table class=\"dataframe\">\n",
       "<caption>A data.frame: 12 × 5</caption>\n",
       "<thead>\n",
       "\t<tr><th></th><th scope=col>logFC</th><th scope=col>logCPM</th><th scope=col>F</th><th scope=col>PValue</th><th scope=col>FDR</th></tr>\n",
       "\t<tr><th></th><th scope=col>&lt;dbl&gt;</th><th scope=col>&lt;dbl&gt;</th><th scope=col>&lt;dbl&gt;</th><th scope=col>&lt;dbl&gt;</th><th scope=col>&lt;dbl&gt;</th></tr>\n",
       "</thead>\n",
       "<tbody>\n",
       "\t<tr><th scope=row>Cytotoxic.4</th><td>-3.2896990</td><td>15.50659</td><td>48.181986</td><td>1.451859e-09</td><td>2.468161e-08</td></tr>\n",
       "\t<tr><th scope=row>Cytotoxic.6</th><td>-3.6772674</td><td>15.50552</td><td>44.918205</td><td>5.311681e-09</td><td>3.723803e-08</td></tr>\n",
       "\t<tr><th scope=row>Non.cytotoxic.CD8</th><td> 3.6618264</td><td>14.66317</td><td>44.221802</td><td>6.571417e-09</td><td>3.723803e-08</td></tr>\n",
       "\t<tr><th scope=row>T1T17.like.Cytotoxic.8</th><td>-2.9119497</td><td>14.82152</td><td>39.566483</td><td>2.224792e-08</td><td>8.190698e-08</td></tr>\n",
       "\t<tr><th scope=row>Cytotoxic.5</th><td> 3.9512569</td><td>13.70959</td><td>39.745899</td><td>2.409029e-08</td><td>8.190698e-08</td></tr>\n",
       "\t<tr><th scope=row>Proliferating.Cytotoxic.4</th><td>-2.9107621</td><td>14.14890</td><td>25.867660</td><td>3.115877e-06</td><td>8.828318e-06</td></tr>\n",
       "\t<tr><th scope=row>Cytotoxic.1</th><td> 2.0904194</td><td>15.83731</td><td>17.972513</td><td>7.073392e-05</td><td>1.717824e-04</td></tr>\n",
       "\t<tr><th scope=row>Proliferating.Cytotoxic.8</th><td>-2.6529343</td><td>13.56750</td><td>15.511707</td><td>1.991185e-04</td><td>4.231268e-04</td></tr>\n",
       "\t<tr><th scope=row>Stem.like</th><td> 1.1475649</td><td>16.70585</td><td> 9.730983</td><td>2.610797e-03</td><td>4.931505e-03</td></tr>\n",
       "\t<tr><th scope=row>T1T17.like.Cytotoxic.7</th><td> 1.1750458</td><td>16.22639</td><td> 9.098640</td><td>3.539330e-03</td><td>6.016861e-03</td></tr>\n",
       "\t<tr><th scope=row>Interferon.responding</th><td> 1.7777839</td><td>14.04001</td><td> 8.170777</td><td>5.679823e-03</td><td>8.777909e-03</td></tr>\n",
       "\t<tr><th scope=row>Proliferating.Cytotoxic.1.2.5.6</th><td>-0.7874275</td><td>15.21678</td><td> 2.798329</td><td>9.906254e-02</td><td>1.403386e-01</td></tr>\n",
       "</tbody>\n",
       "</table>\n",
       "</dd>\n",
       "\t<dt>$adjust.method</dt>\n",
       "\t\t<dd>'BH'</dd>\n",
       "\t<dt>$comparison</dt>\n",
       "\t\t<dd>'factor(treatment)IgG'</dd>\n",
       "\t<dt>$test</dt>\n",
       "\t\t<dd>'glm'</dd>\n",
       "</dl>\n"
      ],
      "text/latex": [
       "\\begin{description}\n",
       "\\item[\\$table] A data.frame: 12 × 5\n",
       "\\begin{tabular}{r|lllll}\n",
       "  & logFC & logCPM & F & PValue & FDR\\\\\n",
       "  & <dbl> & <dbl> & <dbl> & <dbl> & <dbl>\\\\\n",
       "\\hline\n",
       "\tCytotoxic.4 & -3.2896990 & 15.50659 & 48.181986 & 1.451859e-09 & 2.468161e-08\\\\\n",
       "\tCytotoxic.6 & -3.6772674 & 15.50552 & 44.918205 & 5.311681e-09 & 3.723803e-08\\\\\n",
       "\tNon.cytotoxic.CD8 &  3.6618264 & 14.66317 & 44.221802 & 6.571417e-09 & 3.723803e-08\\\\\n",
       "\tT1T17.like.Cytotoxic.8 & -2.9119497 & 14.82152 & 39.566483 & 2.224792e-08 & 8.190698e-08\\\\\n",
       "\tCytotoxic.5 &  3.9512569 & 13.70959 & 39.745899 & 2.409029e-08 & 8.190698e-08\\\\\n",
       "\tProliferating.Cytotoxic.4 & -2.9107621 & 14.14890 & 25.867660 & 3.115877e-06 & 8.828318e-06\\\\\n",
       "\tCytotoxic.1 &  2.0904194 & 15.83731 & 17.972513 & 7.073392e-05 & 1.717824e-04\\\\\n",
       "\tProliferating.Cytotoxic.8 & -2.6529343 & 13.56750 & 15.511707 & 1.991185e-04 & 4.231268e-04\\\\\n",
       "\tStem.like &  1.1475649 & 16.70585 &  9.730983 & 2.610797e-03 & 4.931505e-03\\\\\n",
       "\tT1T17.like.Cytotoxic.7 &  1.1750458 & 16.22639 &  9.098640 & 3.539330e-03 & 6.016861e-03\\\\\n",
       "\tInterferon.responding &  1.7777839 & 14.04001 &  8.170777 & 5.679823e-03 & 8.777909e-03\\\\\n",
       "\tProliferating.Cytotoxic.1.2.5.6 & -0.7874275 & 15.21678 &  2.798329 & 9.906254e-02 & 1.403386e-01\\\\\n",
       "\\end{tabular}\n",
       "\n",
       "\\item[\\$adjust.method] 'BH'\n",
       "\\item[\\$comparison] 'factor(treatment)IgG'\n",
       "\\item[\\$test] 'glm'\n",
       "\\end{description}\n"
      ],
      "text/markdown": [
       "$table\n",
       ":   \n",
       "A data.frame: 12 × 5\n",
       "\n",
       "| <!--/--> | logFC &lt;dbl&gt; | logCPM &lt;dbl&gt; | F &lt;dbl&gt; | PValue &lt;dbl&gt; | FDR &lt;dbl&gt; |\n",
       "|---|---|---|---|---|---|\n",
       "| Cytotoxic.4 | -3.2896990 | 15.50659 | 48.181986 | 1.451859e-09 | 2.468161e-08 |\n",
       "| Cytotoxic.6 | -3.6772674 | 15.50552 | 44.918205 | 5.311681e-09 | 3.723803e-08 |\n",
       "| Non.cytotoxic.CD8 |  3.6618264 | 14.66317 | 44.221802 | 6.571417e-09 | 3.723803e-08 |\n",
       "| T1T17.like.Cytotoxic.8 | -2.9119497 | 14.82152 | 39.566483 | 2.224792e-08 | 8.190698e-08 |\n",
       "| Cytotoxic.5 |  3.9512569 | 13.70959 | 39.745899 | 2.409029e-08 | 8.190698e-08 |\n",
       "| Proliferating.Cytotoxic.4 | -2.9107621 | 14.14890 | 25.867660 | 3.115877e-06 | 8.828318e-06 |\n",
       "| Cytotoxic.1 |  2.0904194 | 15.83731 | 17.972513 | 7.073392e-05 | 1.717824e-04 |\n",
       "| Proliferating.Cytotoxic.8 | -2.6529343 | 13.56750 | 15.511707 | 1.991185e-04 | 4.231268e-04 |\n",
       "| Stem.like |  1.1475649 | 16.70585 |  9.730983 | 2.610797e-03 | 4.931505e-03 |\n",
       "| T1T17.like.Cytotoxic.7 |  1.1750458 | 16.22639 |  9.098640 | 3.539330e-03 | 6.016861e-03 |\n",
       "| Interferon.responding |  1.7777839 | 14.04001 |  8.170777 | 5.679823e-03 | 8.777909e-03 |\n",
       "| Proliferating.Cytotoxic.1.2.5.6 | -0.7874275 | 15.21678 |  2.798329 | 9.906254e-02 | 1.403386e-01 |\n",
       "\n",
       "\n",
       "$adjust.method\n",
       ":   'BH'\n",
       "$comparison\n",
       ":   'factor(treatment)IgG'\n",
       "$test\n",
       ":   'glm'\n",
       "\n",
       "\n"
      ],
      "text/plain": [
       "Coefficient:  factor(treatment)IgG \n",
       "                                     logFC   logCPM         F       PValue\n",
       "Cytotoxic.4                     -3.2896990 15.50659 48.181986 1.451859e-09\n",
       "Cytotoxic.6                     -3.6772674 15.50552 44.918205 5.311681e-09\n",
       "Non.cytotoxic.CD8                3.6618264 14.66317 44.221802 6.571417e-09\n",
       "T1T17.like.Cytotoxic.8          -2.9119497 14.82152 39.566483 2.224792e-08\n",
       "Cytotoxic.5                      3.9512569 13.70959 39.745899 2.409029e-08\n",
       "Proliferating.Cytotoxic.4       -2.9107621 14.14890 25.867660 3.115877e-06\n",
       "Cytotoxic.1                      2.0904194 15.83731 17.972513 7.073392e-05\n",
       "Proliferating.Cytotoxic.8       -2.6529343 13.56750 15.511707 1.991185e-04\n",
       "Stem.like                        1.1475649 16.70585  9.730983 2.610797e-03\n",
       "T1T17.like.Cytotoxic.7           1.1750458 16.22639  9.098640 3.539330e-03\n",
       "Interferon.responding            1.7777839 14.04001  8.170777 5.679823e-03\n",
       "Proliferating.Cytotoxic.1.2.5.6 -0.7874275 15.21678  2.798329 9.906254e-02\n",
       "                                         FDR\n",
       "Cytotoxic.4                     2.468161e-08\n",
       "Cytotoxic.6                     3.723803e-08\n",
       "Non.cytotoxic.CD8               3.723803e-08\n",
       "T1T17.like.Cytotoxic.8          8.190698e-08\n",
       "Cytotoxic.5                     8.190698e-08\n",
       "Proliferating.Cytotoxic.4       8.828318e-06\n",
       "Cytotoxic.1                     1.717824e-04\n",
       "Proliferating.Cytotoxic.8       4.231268e-04\n",
       "Stem.like                       4.931505e-03\n",
       "T1T17.like.Cytotoxic.7          6.016861e-03\n",
       "Interferon.responding           8.777909e-03\n",
       "Proliferating.Cytotoxic.1.2.5.6 1.403386e-01"
      ]
     },
     "metadata": {},
     "output_type": "display_data"
    }
   ],
   "source": [
    "topTags(res,12)"
   ]
  },
  {
   "cell_type": "code",
   "execution_count": null,
   "id": "5703d4cd",
   "metadata": {},
   "outputs": [],
   "source": []
  },
  {
   "cell_type": "code",
   "execution_count": 11,
   "id": "f5aa22f8",
   "metadata": {},
   "outputs": [],
   "source": [
    "res <- glmQLFTest(fit.ab, coef = 5)"
   ]
  },
  {
   "cell_type": "code",
   "execution_count": 12,
   "id": "b43ddddb",
   "metadata": {},
   "outputs": [
    {
     "data": {
      "text/plain": [
       "       factor(treatment)CD8b\n",
       "Down                       5\n",
       "NotSig                     9\n",
       "Up                         3"
      ]
     },
     "metadata": {},
     "output_type": "display_data"
    }
   ],
   "source": [
    "summary(decideTests(res)) # CD8b vs CD8a"
   ]
  },
  {
   "cell_type": "code",
   "execution_count": 13,
   "id": "fce959a5",
   "metadata": {},
   "outputs": [
    {
     "data": {
      "text/html": [
       "<dl>\n",
       "\t<dt>$table</dt>\n",
       "\t\t<dd><table class=\"dataframe\">\n",
       "<caption>A data.frame: 10 × 5</caption>\n",
       "<thead>\n",
       "\t<tr><th></th><th scope=col>logFC</th><th scope=col>logCPM</th><th scope=col>F</th><th scope=col>PValue</th><th scope=col>FDR</th></tr>\n",
       "\t<tr><th></th><th scope=col>&lt;dbl&gt;</th><th scope=col>&lt;dbl&gt;</th><th scope=col>&lt;dbl&gt;</th><th scope=col>&lt;dbl&gt;</th><th scope=col>&lt;dbl&gt;</th></tr>\n",
       "</thead>\n",
       "<tbody>\n",
       "\t<tr><th scope=row>Cytotoxic.6</th><td>-2.9446981</td><td>15.50552</td><td>32.492068</td><td>2.978975e-07</td><td>5.064257e-06</td></tr>\n",
       "\t<tr><th scope=row>T1T17.like.Cytotoxic.8</th><td>-2.1502001</td><td>14.82152</td><td>24.159735</td><td>5.439394e-06</td><td>4.623485e-05</td></tr>\n",
       "\t<tr><th scope=row>Proliferating.Cytotoxic.8</th><td>-3.4066080</td><td>13.56750</td><td>21.412043</td><td>1.766335e-05</td><td>1.000923e-04</td></tr>\n",
       "\t<tr><th scope=row>Cytotoxic.5</th><td> 2.5287815</td><td>13.70959</td><td>13.687874</td><td>4.313720e-04</td><td>1.637856e-03</td></tr>\n",
       "\t<tr><th scope=row>Cytotoxic.4</th><td>-1.5274822</td><td>15.50659</td><td>13.383283</td><td>4.817224e-04</td><td>1.637856e-03</td></tr>\n",
       "\t<tr><th scope=row>Treg</th><td> 1.3653825</td><td>15.35012</td><td>11.079716</td><td>1.381086e-03</td><td>3.913077e-03</td></tr>\n",
       "\t<tr><th scope=row>Proliferating.Cytotoxic.4</th><td>-1.6327084</td><td>14.14890</td><td> 9.588294</td><td>2.850570e-03</td><td>6.922812e-03</td></tr>\n",
       "\t<tr><th scope=row>Stem.like</th><td> 0.9854649</td><td>16.70585</td><td> 6.671570</td><td>1.183967e-02</td><td>2.515929e-02</td></tr>\n",
       "\t<tr><th scope=row>T1T17</th><td> 0.7570118</td><td>17.95351</td><td> 4.575965</td><td>3.583437e-02</td><td>6.768715e-02</td></tr>\n",
       "\t<tr><th scope=row>T1T17.like.Cytotoxic.7</th><td> 0.7807234</td><td>16.22639</td><td> 3.886960</td><td>5.252733e-02</td><td>8.363736e-02</td></tr>\n",
       "</tbody>\n",
       "</table>\n",
       "</dd>\n",
       "\t<dt>$adjust.method</dt>\n",
       "\t\t<dd>'BH'</dd>\n",
       "\t<dt>$comparison</dt>\n",
       "\t\t<dd>'factor(treatment)CD8b'</dd>\n",
       "\t<dt>$test</dt>\n",
       "\t\t<dd>'glm'</dd>\n",
       "</dl>\n"
      ],
      "text/latex": [
       "\\begin{description}\n",
       "\\item[\\$table] A data.frame: 10 × 5\n",
       "\\begin{tabular}{r|lllll}\n",
       "  & logFC & logCPM & F & PValue & FDR\\\\\n",
       "  & <dbl> & <dbl> & <dbl> & <dbl> & <dbl>\\\\\n",
       "\\hline\n",
       "\tCytotoxic.6 & -2.9446981 & 15.50552 & 32.492068 & 2.978975e-07 & 5.064257e-06\\\\\n",
       "\tT1T17.like.Cytotoxic.8 & -2.1502001 & 14.82152 & 24.159735 & 5.439394e-06 & 4.623485e-05\\\\\n",
       "\tProliferating.Cytotoxic.8 & -3.4066080 & 13.56750 & 21.412043 & 1.766335e-05 & 1.000923e-04\\\\\n",
       "\tCytotoxic.5 &  2.5287815 & 13.70959 & 13.687874 & 4.313720e-04 & 1.637856e-03\\\\\n",
       "\tCytotoxic.4 & -1.5274822 & 15.50659 & 13.383283 & 4.817224e-04 & 1.637856e-03\\\\\n",
       "\tTreg &  1.3653825 & 15.35012 & 11.079716 & 1.381086e-03 & 3.913077e-03\\\\\n",
       "\tProliferating.Cytotoxic.4 & -1.6327084 & 14.14890 &  9.588294 & 2.850570e-03 & 6.922812e-03\\\\\n",
       "\tStem.like &  0.9854649 & 16.70585 &  6.671570 & 1.183967e-02 & 2.515929e-02\\\\\n",
       "\tT1T17 &  0.7570118 & 17.95351 &  4.575965 & 3.583437e-02 & 6.768715e-02\\\\\n",
       "\tT1T17.like.Cytotoxic.7 &  0.7807234 & 16.22639 &  3.886960 & 5.252733e-02 & 8.363736e-02\\\\\n",
       "\\end{tabular}\n",
       "\n",
       "\\item[\\$adjust.method] 'BH'\n",
       "\\item[\\$comparison] 'factor(treatment)CD8b'\n",
       "\\item[\\$test] 'glm'\n",
       "\\end{description}\n"
      ],
      "text/markdown": [
       "$table\n",
       ":   \n",
       "A data.frame: 10 × 5\n",
       "\n",
       "| <!--/--> | logFC &lt;dbl&gt; | logCPM &lt;dbl&gt; | F &lt;dbl&gt; | PValue &lt;dbl&gt; | FDR &lt;dbl&gt; |\n",
       "|---|---|---|---|---|---|\n",
       "| Cytotoxic.6 | -2.9446981 | 15.50552 | 32.492068 | 2.978975e-07 | 5.064257e-06 |\n",
       "| T1T17.like.Cytotoxic.8 | -2.1502001 | 14.82152 | 24.159735 | 5.439394e-06 | 4.623485e-05 |\n",
       "| Proliferating.Cytotoxic.8 | -3.4066080 | 13.56750 | 21.412043 | 1.766335e-05 | 1.000923e-04 |\n",
       "| Cytotoxic.5 |  2.5287815 | 13.70959 | 13.687874 | 4.313720e-04 | 1.637856e-03 |\n",
       "| Cytotoxic.4 | -1.5274822 | 15.50659 | 13.383283 | 4.817224e-04 | 1.637856e-03 |\n",
       "| Treg |  1.3653825 | 15.35012 | 11.079716 | 1.381086e-03 | 3.913077e-03 |\n",
       "| Proliferating.Cytotoxic.4 | -1.6327084 | 14.14890 |  9.588294 | 2.850570e-03 | 6.922812e-03 |\n",
       "| Stem.like |  0.9854649 | 16.70585 |  6.671570 | 1.183967e-02 | 2.515929e-02 |\n",
       "| T1T17 |  0.7570118 | 17.95351 |  4.575965 | 3.583437e-02 | 6.768715e-02 |\n",
       "| T1T17.like.Cytotoxic.7 |  0.7807234 | 16.22639 |  3.886960 | 5.252733e-02 | 8.363736e-02 |\n",
       "\n",
       "\n",
       "$adjust.method\n",
       ":   'BH'\n",
       "$comparison\n",
       ":   'factor(treatment)CD8b'\n",
       "$test\n",
       ":   'glm'\n",
       "\n",
       "\n"
      ],
      "text/plain": [
       "Coefficient:  factor(treatment)CD8b \n",
       "                               logFC   logCPM         F       PValue\n",
       "Cytotoxic.6               -2.9446981 15.50552 32.492068 2.978975e-07\n",
       "T1T17.like.Cytotoxic.8    -2.1502001 14.82152 24.159735 5.439394e-06\n",
       "Proliferating.Cytotoxic.8 -3.4066080 13.56750 21.412043 1.766335e-05\n",
       "Cytotoxic.5                2.5287815 13.70959 13.687874 4.313720e-04\n",
       "Cytotoxic.4               -1.5274822 15.50659 13.383283 4.817224e-04\n",
       "Treg                       1.3653825 15.35012 11.079716 1.381086e-03\n",
       "Proliferating.Cytotoxic.4 -1.6327084 14.14890  9.588294 2.850570e-03\n",
       "Stem.like                  0.9854649 16.70585  6.671570 1.183967e-02\n",
       "T1T17                      0.7570118 17.95351  4.575965 3.583437e-02\n",
       "T1T17.like.Cytotoxic.7     0.7807234 16.22639  3.886960 5.252733e-02\n",
       "                                   FDR\n",
       "Cytotoxic.6               5.064257e-06\n",
       "T1T17.like.Cytotoxic.8    4.623485e-05\n",
       "Proliferating.Cytotoxic.8 1.000923e-04\n",
       "Cytotoxic.5               1.637856e-03\n",
       "Cytotoxic.4               1.637856e-03\n",
       "Treg                      3.913077e-03\n",
       "Proliferating.Cytotoxic.4 6.922812e-03\n",
       "Stem.like                 2.515929e-02\n",
       "T1T17                     6.768715e-02\n",
       "T1T17.like.Cytotoxic.7    8.363736e-02"
      ]
     },
     "metadata": {},
     "output_type": "display_data"
    }
   ],
   "source": [
    "topTags(res)"
   ]
  },
  {
   "cell_type": "code",
   "execution_count": 14,
   "id": "6f4f58b0",
   "metadata": {},
   "outputs": [],
   "source": [
    "res <- glmQLFTest(fit.ab, contrast = c(0,0,0,0,1,-1))"
   ]
  },
  {
   "cell_type": "code",
   "execution_count": 15,
   "id": "c595363f",
   "metadata": {},
   "outputs": [
    {
     "data": {
      "text/plain": [
       "       1*factor(treatment)CD8b -1*factor(treatment)IgG\n",
       "Down                                                 4\n",
       "NotSig                                              12\n",
       "Up                                                   1"
      ]
     },
     "metadata": {},
     "output_type": "display_data"
    }
   ],
   "source": [
    "summary(decideTests(res)) # CD8b vs IgG"
   ]
  },
  {
   "cell_type": "code",
   "execution_count": 16,
   "id": "ea2cbb50",
   "metadata": {
    "scrolled": true
   },
   "outputs": [
    {
     "data": {
      "text/html": [
       "<dl>\n",
       "\t<dt>$table</dt>\n",
       "\t\t<dd><table class=\"dataframe\">\n",
       "<caption>A data.frame: 10 × 5</caption>\n",
       "<thead>\n",
       "\t<tr><th></th><th scope=col>logFC</th><th scope=col>logCPM</th><th scope=col>F</th><th scope=col>PValue</th><th scope=col>FDR</th></tr>\n",
       "\t<tr><th></th><th scope=col>&lt;dbl&gt;</th><th scope=col>&lt;dbl&gt;</th><th scope=col>&lt;dbl&gt;</th><th scope=col>&lt;dbl&gt;</th><th scope=col>&lt;dbl&gt;</th></tr>\n",
       "</thead>\n",
       "<tbody>\n",
       "\t<tr><th scope=row>Non.cytotoxic.CD8</th><td>-2.7057989</td><td>14.66317</td><td>24.387111</td><td>5.591237e-06</td><td>9.505103e-05</td></tr>\n",
       "\t<tr><th scope=row>Cytotoxic.4</th><td> 1.7622168</td><td>15.50659</td><td>13.338236</td><td>4.915597e-04</td><td>4.178258e-03</td></tr>\n",
       "\t<tr><th scope=row>Cytotoxic.1</th><td>-1.4571888</td><td>15.83731</td><td> 9.810121</td><td>2.580384e-03</td><td>1.462218e-02</td></tr>\n",
       "\t<tr><th scope=row>Interferon.responding</th><td>-1.6973790</td><td>14.04001</td><td> 8.191798</td><td>5.621630e-03</td><td>1.959821e-02</td></tr>\n",
       "\t<tr><th scope=row>Cytotoxic.5</th><td>-1.4224754</td><td>13.70959</td><td> 8.123996</td><td>5.764181e-03</td><td>1.959821e-02</td></tr>\n",
       "\t<tr><th scope=row>Treg</th><td> 0.7746541</td><td>15.35012</td><td> 4.062167</td><td>4.760885e-02</td><td>1.176292e-01</td></tr>\n",
       "\t<tr><th scope=row>Proliferating.Cytotoxic.4</th><td> 1.2780537</td><td>14.14890</td><td> 4.039772</td><td>4.843555e-02</td><td>1.176292e-01</td></tr>\n",
       "\t<tr><th scope=row>Cytotoxic.2</th><td> 0.7119113</td><td>15.01169</td><td> 3.344416</td><td>7.159828e-02</td><td>1.521463e-01</td></tr>\n",
       "\t<tr><th scope=row>T1T17</th><td> 0.5588814</td><td>17.95351</td><td> 2.367628</td><td>1.282833e-01</td><td>2.199297e-01</td></tr>\n",
       "\t<tr><th scope=row>T1T17.like.Cytotoxic.8</th><td> 0.7617495</td><td>14.82152</td><td> 2.353988</td><td>1.293704e-01</td><td>2.199297e-01</td></tr>\n",
       "</tbody>\n",
       "</table>\n",
       "</dd>\n",
       "\t<dt>$adjust.method</dt>\n",
       "\t\t<dd>'BH'</dd>\n",
       "\t<dt>$comparison</dt>\n",
       "\t\t<dd>'1*factor(treatment)CD8b -1*factor(treatment)IgG'</dd>\n",
       "\t<dt>$test</dt>\n",
       "\t\t<dd>'glm'</dd>\n",
       "</dl>\n"
      ],
      "text/latex": [
       "\\begin{description}\n",
       "\\item[\\$table] A data.frame: 10 × 5\n",
       "\\begin{tabular}{r|lllll}\n",
       "  & logFC & logCPM & F & PValue & FDR\\\\\n",
       "  & <dbl> & <dbl> & <dbl> & <dbl> & <dbl>\\\\\n",
       "\\hline\n",
       "\tNon.cytotoxic.CD8 & -2.7057989 & 14.66317 & 24.387111 & 5.591237e-06 & 9.505103e-05\\\\\n",
       "\tCytotoxic.4 &  1.7622168 & 15.50659 & 13.338236 & 4.915597e-04 & 4.178258e-03\\\\\n",
       "\tCytotoxic.1 & -1.4571888 & 15.83731 &  9.810121 & 2.580384e-03 & 1.462218e-02\\\\\n",
       "\tInterferon.responding & -1.6973790 & 14.04001 &  8.191798 & 5.621630e-03 & 1.959821e-02\\\\\n",
       "\tCytotoxic.5 & -1.4224754 & 13.70959 &  8.123996 & 5.764181e-03 & 1.959821e-02\\\\\n",
       "\tTreg &  0.7746541 & 15.35012 &  4.062167 & 4.760885e-02 & 1.176292e-01\\\\\n",
       "\tProliferating.Cytotoxic.4 &  1.2780537 & 14.14890 &  4.039772 & 4.843555e-02 & 1.176292e-01\\\\\n",
       "\tCytotoxic.2 &  0.7119113 & 15.01169 &  3.344416 & 7.159828e-02 & 1.521463e-01\\\\\n",
       "\tT1T17 &  0.5588814 & 17.95351 &  2.367628 & 1.282833e-01 & 2.199297e-01\\\\\n",
       "\tT1T17.like.Cytotoxic.8 &  0.7617495 & 14.82152 &  2.353988 & 1.293704e-01 & 2.199297e-01\\\\\n",
       "\\end{tabular}\n",
       "\n",
       "\\item[\\$adjust.method] 'BH'\n",
       "\\item[\\$comparison] '1*factor(treatment)CD8b -1*factor(treatment)IgG'\n",
       "\\item[\\$test] 'glm'\n",
       "\\end{description}\n"
      ],
      "text/markdown": [
       "$table\n",
       ":   \n",
       "A data.frame: 10 × 5\n",
       "\n",
       "| <!--/--> | logFC &lt;dbl&gt; | logCPM &lt;dbl&gt; | F &lt;dbl&gt; | PValue &lt;dbl&gt; | FDR &lt;dbl&gt; |\n",
       "|---|---|---|---|---|---|\n",
       "| Non.cytotoxic.CD8 | -2.7057989 | 14.66317 | 24.387111 | 5.591237e-06 | 9.505103e-05 |\n",
       "| Cytotoxic.4 |  1.7622168 | 15.50659 | 13.338236 | 4.915597e-04 | 4.178258e-03 |\n",
       "| Cytotoxic.1 | -1.4571888 | 15.83731 |  9.810121 | 2.580384e-03 | 1.462218e-02 |\n",
       "| Interferon.responding | -1.6973790 | 14.04001 |  8.191798 | 5.621630e-03 | 1.959821e-02 |\n",
       "| Cytotoxic.5 | -1.4224754 | 13.70959 |  8.123996 | 5.764181e-03 | 1.959821e-02 |\n",
       "| Treg |  0.7746541 | 15.35012 |  4.062167 | 4.760885e-02 | 1.176292e-01 |\n",
       "| Proliferating.Cytotoxic.4 |  1.2780537 | 14.14890 |  4.039772 | 4.843555e-02 | 1.176292e-01 |\n",
       "| Cytotoxic.2 |  0.7119113 | 15.01169 |  3.344416 | 7.159828e-02 | 1.521463e-01 |\n",
       "| T1T17 |  0.5588814 | 17.95351 |  2.367628 | 1.282833e-01 | 2.199297e-01 |\n",
       "| T1T17.like.Cytotoxic.8 |  0.7617495 | 14.82152 |  2.353988 | 1.293704e-01 | 2.199297e-01 |\n",
       "\n",
       "\n",
       "$adjust.method\n",
       ":   'BH'\n",
       "$comparison\n",
       ":   '1*factor(treatment)CD8b -1*factor(treatment)IgG'\n",
       "$test\n",
       ":   'glm'\n",
       "\n",
       "\n"
      ],
      "text/plain": [
       "Coefficient:  1*factor(treatment)CD8b -1*factor(treatment)IgG \n",
       "                               logFC   logCPM         F       PValue\n",
       "Non.cytotoxic.CD8         -2.7057989 14.66317 24.387111 5.591237e-06\n",
       "Cytotoxic.4                1.7622168 15.50659 13.338236 4.915597e-04\n",
       "Cytotoxic.1               -1.4571888 15.83731  9.810121 2.580384e-03\n",
       "Interferon.responding     -1.6973790 14.04001  8.191798 5.621630e-03\n",
       "Cytotoxic.5               -1.4224754 13.70959  8.123996 5.764181e-03\n",
       "Treg                       0.7746541 15.35012  4.062167 4.760885e-02\n",
       "Proliferating.Cytotoxic.4  1.2780537 14.14890  4.039772 4.843555e-02\n",
       "Cytotoxic.2                0.7119113 15.01169  3.344416 7.159828e-02\n",
       "T1T17                      0.5588814 17.95351  2.367628 1.282833e-01\n",
       "T1T17.like.Cytotoxic.8     0.7617495 14.82152  2.353988 1.293704e-01\n",
       "                                   FDR\n",
       "Non.cytotoxic.CD8         9.505103e-05\n",
       "Cytotoxic.4               4.178258e-03\n",
       "Cytotoxic.1               1.462218e-02\n",
       "Interferon.responding     1.959821e-02\n",
       "Cytotoxic.5               1.959821e-02\n",
       "Treg                      1.176292e-01\n",
       "Proliferating.Cytotoxic.4 1.176292e-01\n",
       "Cytotoxic.2               1.521463e-01\n",
       "T1T17                     2.199297e-01\n",
       "T1T17.like.Cytotoxic.8    2.199297e-01"
      ]
     },
     "metadata": {},
     "output_type": "display_data"
    }
   ],
   "source": [
    "topTags(res)"
   ]
  },
  {
   "cell_type": "code",
   "execution_count": null,
   "id": "b5e9980f",
   "metadata": {},
   "outputs": [],
   "source": [
    "# just proliferating subsets"
   ]
  },
  {
   "cell_type": "code",
   "execution_count": null,
   "id": "bc80ce52",
   "metadata": {},
   "outputs": [],
   "source": []
  },
  {
   "cell_type": "code",
   "execution_count": 18,
   "id": "101eac37",
   "metadata": {},
   "outputs": [],
   "source": [
    "tnk_celltype_props <- read.csv(\"compositional_analysis/nkt_all_subcluster_counts_by_sample.csv\",row.names=1)\n",
    "metadata <- read.csv(\"compositional_analysis/metadata_by_sample.csv\", row.names=1)\n",
    "\n",
    "tnk_celltype_props <- na.omit(tnk_celltype_props)\n",
    "tnk_celltype_props <- t(tnk_celltype_props)[c(\"Proliferating.Cytotoxic.1.2.5.6\",\"Proliferating.Cytotoxic.4\",\"Proliferating.Cytotoxic.8\",\"Proliferating.T1T17\"),]\n",
    "metadata = metadata[colnames(tnk_celltype_props),]\n",
    "\n",
    "metadata$M.Number <- factor(metadata$M.Number)\n",
    "metadata$monkey_condition_categories <- factor(metadata$monkey_condition_categories)"
   ]
  },
  {
   "cell_type": "code",
   "execution_count": 20,
   "id": "dae4e0de",
   "metadata": {},
   "outputs": [],
   "source": [
    "y.ab <- DGEList(tnk_celltype_props, samples=metadata)\n",
    "\n"
   ]
  },
  {
   "cell_type": "code",
   "execution_count": null,
   "id": "6d196796",
   "metadata": {},
   "outputs": [],
   "source": []
  },
  {
   "cell_type": "code",
   "execution_count": 22,
   "id": "61710d07",
   "metadata": {},
   "outputs": [],
   "source": [
    "#keep <- filterByExpr(y.ab, group=y.ab$samples$treatment)\n",
    "#y.ab <- y.ab[keep,]\n",
    "#summary(keep)"
   ]
  },
  {
   "cell_type": "code",
   "execution_count": 21,
   "id": "2ad7564a",
   "metadata": {},
   "outputs": [],
   "source": [
    "design <- model.matrix(~0+factor(monkey_condition_categories) + factor(treatment), y.ab$samples)"
   ]
  },
  {
   "cell_type": "code",
   "execution_count": 22,
   "id": "23514542",
   "metadata": {},
   "outputs": [
    {
     "data": {
      "text/plain": [
       "     Min.   1st Qu.    Median      Mean   3rd Qu.      Max. \n",
       "9.766e-05 9.766e-05 9.766e-05 9.766e-05 9.766e-05 9.766e-05 "
      ]
     },
     "metadata": {},
     "output_type": "display_data"
    }
   ],
   "source": [
    "y.ab <- estimateDisp(y.ab, design, trend=\"none\")\n",
    "summary(y.ab$common.dispersion)"
   ]
  },
  {
   "cell_type": "code",
   "execution_count": 23,
   "id": "75d1134f",
   "metadata": {},
   "outputs": [
    {
     "data": {
      "image/png": "[encoded data removed]",
      "text/plain": [
       "plot without title"
      ]
     },
     "metadata": {
      "image/png": {
       "height": 420,
       "width": 420
      }
     },
     "output_type": "display_data"
    }
   ],
   "source": [
    "plotBCV(y.ab, cex=1)"
   ]
  },
  {
   "cell_type": "code",
   "execution_count": null,
   "id": "91b46636",
   "metadata": {},
   "outputs": [],
   "source": []
  },
  {
   "cell_type": "code",
   "execution_count": 24,
   "id": "da8dbbee",
   "metadata": {},
   "outputs": [
    {
     "data": {
      "text/plain": [
       "   Min. 1st Qu.  Median    Mean 3rd Qu.    Max. \n",
       "  1.313   1.313   1.313   1.313   1.313   1.313 "
      ]
     },
     "metadata": {},
     "output_type": "display_data"
    }
   ],
   "source": [
    "fit.ab <- glmQLFit(y.ab, design, robust=TRUE, abundance.trend=FALSE)\n",
    "summary(fit.ab$var.prior)"
   ]
  },
  {
   "cell_type": "code",
   "execution_count": 25,
   "id": "c9bd5b19",
   "metadata": {},
   "outputs": [
    {
     "data": {
      "image/png": "[encoded data removed]",
      "text/plain": [
       "plot without title"
      ]
     },
     "metadata": {
      "image/png": {
       "height": 420,
       "width": 420
      }
     },
     "output_type": "display_data"
    }
   ],
   "source": [
    "plotQLDisp(fit.ab, cex=1)"
   ]
  },
  {
   "cell_type": "code",
   "execution_count": 26,
   "id": "31f7d0d1",
   "metadata": {},
   "outputs": [
    {
     "data": {
      "text/plain": [
       "       factor(treatment)IgG\n",
       "Down                      2\n",
       "NotSig                    1\n",
       "Up                        1"
      ]
     },
     "metadata": {},
     "output_type": "display_data"
    }
   ],
   "source": [
    "res <- glmQLFTest(fit.ab, coef=ncol(design))\n",
    "summary(decideTests(res))"
   ]
  },
  {
   "cell_type": "code",
   "execution_count": 27,
   "id": "8d209c1f",
   "metadata": {},
   "outputs": [
    {
     "data": {
      "text/html": [
       "<dl>\n",
       "\t<dt>$table</dt>\n",
       "\t\t<dd><table class=\"dataframe\">\n",
       "<caption>A data.frame: 4 × 5</caption>\n",
       "<thead>\n",
       "\t<tr><th></th><th scope=col>logFC</th><th scope=col>logCPM</th><th scope=col>F</th><th scope=col>PValue</th><th scope=col>FDR</th></tr>\n",
       "\t<tr><th></th><th scope=col>&lt;dbl&gt;</th><th scope=col>&lt;dbl&gt;</th><th scope=col>&lt;dbl&gt;</th><th scope=col>&lt;dbl&gt;</th><th scope=col>&lt;dbl&gt;</th></tr>\n",
       "</thead>\n",
       "<tbody>\n",
       "\t<tr><th scope=row>Proliferating.Cytotoxic.4</th><td>-2.21694830</td><td>16.35294</td><td>24.008814840</td><td>1.227913e-05</td><td>4.911652e-05</td></tr>\n",
       "\t<tr><th scope=row>Proliferating.Cytotoxic.8</th><td>-1.99636101</td><td>15.92515</td><td>19.041003697</td><td>7.162790e-05</td><td>1.432558e-04</td></tr>\n",
       "\t<tr><th scope=row>Proliferating.T1T17</th><td> 0.23633326</td><td>19.53731</td><td> 9.626167676</td><td>4.440940e-03</td><td>5.921253e-03</td></tr>\n",
       "\t<tr><th scope=row>Proliferating.Cytotoxic.1.2.5.6</th><td> 0.01578089</td><td>17.22177</td><td> 0.003216155</td><td>9.550208e-01</td><td>9.550208e-01</td></tr>\n",
       "</tbody>\n",
       "</table>\n",
       "</dd>\n",
       "\t<dt>$adjust.method</dt>\n",
       "\t\t<dd>'BH'</dd>\n",
       "\t<dt>$comparison</dt>\n",
       "\t\t<dd>'factor(treatment)IgG'</dd>\n",
       "\t<dt>$test</dt>\n",
       "\t\t<dd>'glm'</dd>\n",
       "</dl>\n"
      ],
      "text/latex": [
       "\\begin{description}\n",
       "\\item[\\$table] A data.frame: 4 × 5\n",
       "\\begin{tabular}{r|lllll}\n",
       "  & logFC & logCPM & F & PValue & FDR\\\\\n",
       "  & <dbl> & <dbl> & <dbl> & <dbl> & <dbl>\\\\\n",
       "\\hline\n",
       "\tProliferating.Cytotoxic.4 & -2.21694830 & 16.35294 & 24.008814840 & 1.227913e-05 & 4.911652e-05\\\\\n",
       "\tProliferating.Cytotoxic.8 & -1.99636101 & 15.92515 & 19.041003697 & 7.162790e-05 & 1.432558e-04\\\\\n",
       "\tProliferating.T1T17 &  0.23633326 & 19.53731 &  9.626167676 & 4.440940e-03 & 5.921253e-03\\\\\n",
       "\tProliferating.Cytotoxic.1.2.5.6 &  0.01578089 & 17.22177 &  0.003216155 & 9.550208e-01 & 9.550208e-01\\\\\n",
       "\\end{tabular}\n",
       "\n",
       "\\item[\\$adjust.method] 'BH'\n",
       "\\item[\\$comparison] 'factor(treatment)IgG'\n",
       "\\item[\\$test] 'glm'\n",
       "\\end{description}\n"
      ],
      "text/markdown": [
       "$table\n",
       ":   \n",
       "A data.frame: 4 × 5\n",
       "\n",
       "| <!--/--> | logFC &lt;dbl&gt; | logCPM &lt;dbl&gt; | F &lt;dbl&gt; | PValue &lt;dbl&gt; | FDR &lt;dbl&gt; |\n",
       "|---|---|---|---|---|---|\n",
       "| Proliferating.Cytotoxic.4 | -2.21694830 | 16.35294 | 24.008814840 | 1.227913e-05 | 4.911652e-05 |\n",
       "| Proliferating.Cytotoxic.8 | -1.99636101 | 15.92515 | 19.041003697 | 7.162790e-05 | 1.432558e-04 |\n",
       "| Proliferating.T1T17 |  0.23633326 | 19.53731 |  9.626167676 | 4.440940e-03 | 5.921253e-03 |\n",
       "| Proliferating.Cytotoxic.1.2.5.6 |  0.01578089 | 17.22177 |  0.003216155 | 9.550208e-01 | 9.550208e-01 |\n",
       "\n",
       "\n",
       "$adjust.method\n",
       ":   'BH'\n",
       "$comparison\n",
       ":   'factor(treatment)IgG'\n",
       "$test\n",
       ":   'glm'\n",
       "\n",
       "\n"
      ],
      "text/plain": [
       "Coefficient:  factor(treatment)IgG \n",
       "                                      logFC   logCPM            F       PValue\n",
       "Proliferating.Cytotoxic.4       -2.21694830 16.35294 24.008814840 1.227913e-05\n",
       "Proliferating.Cytotoxic.8       -1.99636101 15.92515 19.041003697 7.162790e-05\n",
       "Proliferating.T1T17              0.23633326 19.53731  9.626167676 4.440940e-03\n",
       "Proliferating.Cytotoxic.1.2.5.6  0.01578089 17.22177  0.003216155 9.550208e-01\n",
       "                                         FDR\n",
       "Proliferating.Cytotoxic.4       4.911652e-05\n",
       "Proliferating.Cytotoxic.8       1.432558e-04\n",
       "Proliferating.T1T17             5.921253e-03\n",
       "Proliferating.Cytotoxic.1.2.5.6 9.550208e-01"
      ]
     },
     "metadata": {},
     "output_type": "display_data"
    }
   ],
   "source": [
    "topTags(res,12)"
   ]
  },
  {
   "cell_type": "code",
   "execution_count": null,
   "id": "f1efbb6c",
   "metadata": {},
   "outputs": [],
   "source": []
  },
  {
   "cell_type": "code",
   "execution_count": 28,
   "id": "a1450a3b",
   "metadata": {},
   "outputs": [],
   "source": [
    "res <- glmQLFTest(fit.ab, coef = 5)"
   ]
  },
  {
   "cell_type": "code",
   "execution_count": 29,
   "id": "02428dbf",
   "metadata": {},
   "outputs": [
    {
     "data": {
      "text/plain": [
       "       factor(treatment)CD8b\n",
       "Down                       2\n",
       "NotSig                     1\n",
       "Up                         1"
      ]
     },
     "metadata": {},
     "output_type": "display_data"
    }
   ],
   "source": [
    "summary(decideTests(res)) # CD8b vs CD8a"
   ]
  },
  {
   "cell_type": "code",
   "execution_count": 30,
   "id": "d8f303d7",
   "metadata": {},
   "outputs": [
    {
     "data": {
      "text/html": [
       "<dl>\n",
       "\t<dt>$table</dt>\n",
       "\t\t<dd><table class=\"dataframe\">\n",
       "<caption>A data.frame: 4 × 5</caption>\n",
       "<thead>\n",
       "\t<tr><th></th><th scope=col>logFC</th><th scope=col>logCPM</th><th scope=col>F</th><th scope=col>PValue</th><th scope=col>FDR</th></tr>\n",
       "\t<tr><th></th><th scope=col>&lt;dbl&gt;</th><th scope=col>&lt;dbl&gt;</th><th scope=col>&lt;dbl&gt;</th><th scope=col>&lt;dbl&gt;</th><th scope=col>&lt;dbl&gt;</th></tr>\n",
       "</thead>\n",
       "<tbody>\n",
       "\t<tr><th scope=row>Proliferating.Cytotoxic.8</th><td>-2.4879325</td><td>15.92515</td><td>19.768350</td><td>0.0000548172</td><td>0.0002192688</td></tr>\n",
       "\t<tr><th scope=row>Proliferating.Cytotoxic.4</th><td>-1.3089309</td><td>16.35294</td><td>13.670519</td><td>0.0005787110</td><td>0.0011574220</td></tr>\n",
       "\t<tr><th scope=row>Proliferating.T1T17</th><td> 0.2668697</td><td>19.53731</td><td>12.060622</td><td>0.0014404001</td><td>0.0019205335</td></tr>\n",
       "\t<tr><th scope=row>Proliferating.Cytotoxic.1.2.5.6</th><td>-0.3215005</td><td>17.22177</td><td> 1.245766</td><td>0.2701563937</td><td>0.2701563937</td></tr>\n",
       "</tbody>\n",
       "</table>\n",
       "</dd>\n",
       "\t<dt>$adjust.method</dt>\n",
       "\t\t<dd>'BH'</dd>\n",
       "\t<dt>$comparison</dt>\n",
       "\t\t<dd>'factor(treatment)CD8b'</dd>\n",
       "\t<dt>$test</dt>\n",
       "\t\t<dd>'glm'</dd>\n",
       "</dl>\n"
      ],
      "text/latex": [
       "\\begin{description}\n",
       "\\item[\\$table] A data.frame: 4 × 5\n",
       "\\begin{tabular}{r|lllll}\n",
       "  & logFC & logCPM & F & PValue & FDR\\\\\n",
       "  & <dbl> & <dbl> & <dbl> & <dbl> & <dbl>\\\\\n",
       "\\hline\n",
       "\tProliferating.Cytotoxic.8 & -2.4879325 & 15.92515 & 19.768350 & 0.0000548172 & 0.0002192688\\\\\n",
       "\tProliferating.Cytotoxic.4 & -1.3089309 & 16.35294 & 13.670519 & 0.0005787110 & 0.0011574220\\\\\n",
       "\tProliferating.T1T17 &  0.2668697 & 19.53731 & 12.060622 & 0.0014404001 & 0.0019205335\\\\\n",
       "\tProliferating.Cytotoxic.1.2.5.6 & -0.3215005 & 17.22177 &  1.245766 & 0.2701563937 & 0.2701563937\\\\\n",
       "\\end{tabular}\n",
       "\n",
       "\\item[\\$adjust.method] 'BH'\n",
       "\\item[\\$comparison] 'factor(treatment)CD8b'\n",
       "\\item[\\$test] 'glm'\n",
       "\\end{description}\n"
      ],
      "text/markdown": [
       "$table\n",
       ":   \n",
       "A data.frame: 4 × 5\n",
       "\n",
       "| <!--/--> | logFC &lt;dbl&gt; | logCPM &lt;dbl&gt; | F &lt;dbl&gt; | PValue &lt;dbl&gt; | FDR &lt;dbl&gt; |\n",
       "|---|---|---|---|---|---|\n",
       "| Proliferating.Cytotoxic.8 | -2.4879325 | 15.92515 | 19.768350 | 0.0000548172 | 0.0002192688 |\n",
       "| Proliferating.Cytotoxic.4 | -1.3089309 | 16.35294 | 13.670519 | 0.0005787110 | 0.0011574220 |\n",
       "| Proliferating.T1T17 |  0.2668697 | 19.53731 | 12.060622 | 0.0014404001 | 0.0019205335 |\n",
       "| Proliferating.Cytotoxic.1.2.5.6 | -0.3215005 | 17.22177 |  1.245766 | 0.2701563937 | 0.2701563937 |\n",
       "\n",
       "\n",
       "$adjust.method\n",
       ":   'BH'\n",
       "$comparison\n",
       ":   'factor(treatment)CD8b'\n",
       "$test\n",
       ":   'glm'\n",
       "\n",
       "\n"
      ],
      "text/plain": [
       "Coefficient:  factor(treatment)CD8b \n",
       "                                     logFC   logCPM         F       PValue\n",
       "Proliferating.Cytotoxic.8       -2.4879325 15.92515 19.768350 0.0000548172\n",
       "Proliferating.Cytotoxic.4       -1.3089309 16.35294 13.670519 0.0005787110\n",
       "Proliferating.T1T17              0.2668697 19.53731 12.060622 0.0014404001\n",
       "Proliferating.Cytotoxic.1.2.5.6 -0.3215005 17.22177  1.245766 0.2701563937\n",
       "                                         FDR\n",
       "Proliferating.Cytotoxic.8       0.0002192688\n",
       "Proliferating.Cytotoxic.4       0.0011574220\n",
       "Proliferating.T1T17             0.0019205335\n",
       "Proliferating.Cytotoxic.1.2.5.6 0.2701563937"
      ]
     },
     "metadata": {},
     "output_type": "display_data"
    }
   ],
   "source": [
    "topTags(res)"
   ]
  },
  {
   "cell_type": "code",
   "execution_count": 31,
   "id": "48d7348d",
   "metadata": {},
   "outputs": [],
   "source": [
    "res <- glmQLFTest(fit.ab, contrast = c(0,0,0,0,1,-1))"
   ]
  },
  {
   "cell_type": "code",
   "execution_count": 32,
   "id": "c64bf10c",
   "metadata": {},
   "outputs": [
    {
     "data": {
      "text/plain": [
       "       1*factor(treatment)CD8b -1*factor(treatment)IgG\n",
       "Down                                                 0\n",
       "NotSig                                               4\n",
       "Up                                                   0"
      ]
     },
     "metadata": {},
     "output_type": "display_data"
    }
   ],
   "source": [
    "summary(decideTests(res)) # CD8b vs IgG"
   ]
  },
  {
   "cell_type": "code",
   "execution_count": 33,
   "id": "be0cc9a3",
   "metadata": {
    "scrolled": true
   },
   "outputs": [
    {
     "data": {
      "text/html": [
       "<dl>\n",
       "\t<dt>$table</dt>\n",
       "\t\t<dd><table class=\"dataframe\">\n",
       "<caption>A data.frame: 4 × 5</caption>\n",
       "<thead>\n",
       "\t<tr><th></th><th scope=col>logFC</th><th scope=col>logCPM</th><th scope=col>F</th><th scope=col>PValue</th><th scope=col>FDR</th></tr>\n",
       "\t<tr><th></th><th scope=col>&lt;dbl&gt;</th><th scope=col>&lt;dbl&gt;</th><th scope=col>&lt;dbl&gt;</th><th scope=col>&lt;dbl&gt;</th><th scope=col>&lt;dbl&gt;</th></tr>\n",
       "</thead>\n",
       "<tbody>\n",
       "\t<tr><th scope=row>Proliferating.Cytotoxic.4</th><td> 0.9080174</td><td>16.35294</td><td>2.5017422</td><td>0.1205693</td><td>0.4822773</td></tr>\n",
       "\t<tr><th scope=row>Proliferating.Cytotoxic.1.2.5.6</th><td>-0.3372814</td><td>17.22177</td><td>1.0635147</td><td>0.3078042</td><td>0.6156084</td></tr>\n",
       "\t<tr><th scope=row>Proliferating.Cytotoxic.8</th><td>-0.4915715</td><td>15.92515</td><td>0.4732605</td><td>0.4949439</td><td>0.6599252</td></tr>\n",
       "\t<tr><th scope=row>Proliferating.T1T17</th><td> 0.0305364</td><td>19.53731</td><td>0.1325201</td><td>0.7372464</td><td>0.7372464</td></tr>\n",
       "</tbody>\n",
       "</table>\n",
       "</dd>\n",
       "\t<dt>$adjust.method</dt>\n",
       "\t\t<dd>'BH'</dd>\n",
       "\t<dt>$comparison</dt>\n",
       "\t\t<dd>'1*factor(treatment)CD8b -1*factor(treatment)IgG'</dd>\n",
       "\t<dt>$test</dt>\n",
       "\t\t<dd>'glm'</dd>\n",
       "</dl>\n"
      ],
      "text/latex": [
       "\\begin{description}\n",
       "\\item[\\$table] A data.frame: 4 × 5\n",
       "\\begin{tabular}{r|lllll}\n",
       "  & logFC & logCPM & F & PValue & FDR\\\\\n",
       "  & <dbl> & <dbl> & <dbl> & <dbl> & <dbl>\\\\\n",
       "\\hline\n",
       "\tProliferating.Cytotoxic.4 &  0.9080174 & 16.35294 & 2.5017422 & 0.1205693 & 0.4822773\\\\\n",
       "\tProliferating.Cytotoxic.1.2.5.6 & -0.3372814 & 17.22177 & 1.0635147 & 0.3078042 & 0.6156084\\\\\n",
       "\tProliferating.Cytotoxic.8 & -0.4915715 & 15.92515 & 0.4732605 & 0.4949439 & 0.6599252\\\\\n",
       "\tProliferating.T1T17 &  0.0305364 & 19.53731 & 0.1325201 & 0.7372464 & 0.7372464\\\\\n",
       "\\end{tabular}\n",
       "\n",
       "\\item[\\$adjust.method] 'BH'\n",
       "\\item[\\$comparison] '1*factor(treatment)CD8b -1*factor(treatment)IgG'\n",
       "\\item[\\$test] 'glm'\n",
       "\\end{description}\n"
      ],
      "text/markdown": [
       "$table\n",
       ":   \n",
       "A data.frame: 4 × 5\n",
       "\n",
       "| <!--/--> | logFC &lt;dbl&gt; | logCPM &lt;dbl&gt; | F &lt;dbl&gt; | PValue &lt;dbl&gt; | FDR &lt;dbl&gt; |\n",
       "|---|---|---|---|---|---|\n",
       "| Proliferating.Cytotoxic.4 |  0.9080174 | 16.35294 | 2.5017422 | 0.1205693 | 0.4822773 |\n",
       "| Proliferating.Cytotoxic.1.2.5.6 | -0.3372814 | 17.22177 | 1.0635147 | 0.3078042 | 0.6156084 |\n",
       "| Proliferating.Cytotoxic.8 | -0.4915715 | 15.92515 | 0.4732605 | 0.4949439 | 0.6599252 |\n",
       "| Proliferating.T1T17 |  0.0305364 | 19.53731 | 0.1325201 | 0.7372464 | 0.7372464 |\n",
       "\n",
       "\n",
       "$adjust.method\n",
       ":   'BH'\n",
       "$comparison\n",
       ":   '1*factor(treatment)CD8b -1*factor(treatment)IgG'\n",
       "$test\n",
       ":   'glm'\n",
       "\n",
       "\n"
      ],
      "text/plain": [
       "Coefficient:  1*factor(treatment)CD8b -1*factor(treatment)IgG \n",
       "                                     logFC   logCPM         F    PValue\n",
       "Proliferating.Cytotoxic.4        0.9080174 16.35294 2.5017422 0.1205693\n",
       "Proliferating.Cytotoxic.1.2.5.6 -0.3372814 17.22177 1.0635147 0.3078042\n",
       "Proliferating.Cytotoxic.8       -0.4915715 15.92515 0.4732605 0.4949439\n",
       "Proliferating.T1T17              0.0305364 19.53731 0.1325201 0.7372464\n",
       "                                      FDR\n",
       "Proliferating.Cytotoxic.4       0.4822773\n",
       "Proliferating.Cytotoxic.1.2.5.6 0.6156084\n",
       "Proliferating.Cytotoxic.8       0.6599252\n",
       "Proliferating.T1T17             0.7372464"
      ]
     },
     "metadata": {},
     "output_type": "display_data"
    }
   ],
   "source": [
    "topTags(res)"
   ]
  },
  {
   "cell_type": "code",
   "execution_count": null,
   "id": "caa61c7b",
   "metadata": {},
   "outputs": [],
   "source": [
    "# MACROPHAGE CLUSTERS"
   ]
  },
  {
   "cell_type": "code",
   "execution_count": 52,
   "id": "00c3016e",
   "metadata": {},
   "outputs": [],
   "source": [
    "major_celltype_props <- read.csv(\"compositional_analysis/mac_subcluster_counts.csv\",row.names=1)\n",
    "metadata_2 <- read.csv(\"compositional_analysis/metadata_by_sample.csv\", row.names=1)\n",
    "metadata_2$M.Number <- factor(metadata_2$M.Number)\n",
    "metadata_2$monkey_condition_categories <- factor(metadata_2$monkey_condition_categories)\n",
    "major_celltype_props <- na.omit(major_celltype_props)\n",
    "major_celltype_props <- t(major_celltype_props)\n",
    "\n",
    "metadata_2$M.Number <- factor(metadata_2$M.Number)\n",
    "metadata_2$monkey_condition_categories <- factor(metadata_2$monkey_condition_categories)\n",
    "metadata_2 <-metadata_2[colnames(major_celltype_props),]"
   ]
  },
  {
   "cell_type": "code",
   "execution_count": 53,
   "id": "139e9498",
   "metadata": {},
   "outputs": [
    {
     "data": {
      "text/html": [
       "<table class=\"dataframe\">\n",
       "<caption>A matrix: 4 × 40 of type dbl</caption>\n",
       "<thead>\n",
       "\t<tr><th></th><th scope=col>Array1_28918</th><th scope=col>Array1_29218</th><th scope=col>Array1_29318</th><th scope=col>Array1_29818</th><th scope=col>Array1_30518</th><th scope=col>Array2_28918</th><th scope=col>Array2_29218</th><th scope=col>Array2_29318</th><th scope=col>Array2_29818</th><th scope=col>Array2_30518</th><th scope=col>⋯</th><th scope=col>Array8_28818</th><th scope=col>Array8_29118</th><th scope=col>Array8_29618</th><th scope=col>Array8_30218</th><th scope=col>Array8_30418</th><th scope=col>Array9_28818</th><th scope=col>Array9_29118</th><th scope=col>Array9_29618</th><th scope=col>Array9_30218</th><th scope=col>Array9_30418</th></tr>\n",
       "</thead>\n",
       "<tbody>\n",
       "\t<tr><th scope=row>Alv.Mac</th><td> 46</td><td> 92</td><td> 16</td><td> 87</td><td>18</td><td> 90</td><td>60</td><td>149</td><td> 5</td><td> 97</td><td>⋯</td><td> 69</td><td> 74</td><td> 6</td><td> 1</td><td> 25</td><td> 71</td><td> 24</td><td> 16</td><td>24</td><td> 34</td></tr>\n",
       "\t<tr><th scope=row>Inflam.Mac</th><td>  1</td><td> 53</td><td>127</td><td>163</td><td>47</td><td> 20</td><td>27</td><td>148</td><td>95</td><td> 68</td><td>⋯</td><td> 49</td><td>306</td><td>33</td><td>65</td><td> 45</td><td>141</td><td>154</td><td> 75</td><td>67</td><td> 88</td></tr>\n",
       "\t<tr><th scope=row>Mac</th><td> 19</td><td>112</td><td>144</td><td>435</td><td>74</td><td>171</td><td>89</td><td>573</td><td>85</td><td>371</td><td>⋯</td><td>278</td><td>416</td><td>32</td><td>28</td><td>221</td><td>459</td><td>323</td><td>222</td><td>29</td><td>149</td></tr>\n",
       "\t<tr><th scope=row>Monocyte</th><td>115</td><td>141</td><td>153</td><td> 69</td><td>26</td><td> 39</td><td>83</td><td> 71</td><td>74</td><td> 32</td><td>⋯</td><td> 37</td><td>116</td><td>25</td><td>41</td><td> 38</td><td> 20</td><td> 54</td><td> 57</td><td>21</td><td> 26</td></tr>\n",
       "</tbody>\n",
       "</table>\n"
      ],
      "text/latex": [
       "A matrix: 4 × 40 of type dbl\n",
       "\\begin{tabular}{r|lllllllllllllllllllll}\n",
       "  & Array1\\_28918 & Array1\\_29218 & Array1\\_29318 & Array1\\_29818 & Array1\\_30518 & Array2\\_28918 & Array2\\_29218 & Array2\\_29318 & Array2\\_29818 & Array2\\_30518 & ⋯ & Array8\\_28818 & Array8\\_29118 & Array8\\_29618 & Array8\\_30218 & Array8\\_30418 & Array9\\_28818 & Array9\\_29118 & Array9\\_29618 & Array9\\_30218 & Array9\\_30418\\\\\n",
       "\\hline\n",
       "\tAlv.Mac &  46 &  92 &  16 &  87 & 18 &  90 & 60 & 149 &  5 &  97 & ⋯ &  69 &  74 &  6 &  1 &  25 &  71 &  24 &  16 & 24 &  34\\\\\n",
       "\tInflam.Mac &   1 &  53 & 127 & 163 & 47 &  20 & 27 & 148 & 95 &  68 & ⋯ &  49 & 306 & 33 & 65 &  45 & 141 & 154 &  75 & 67 &  88\\\\\n",
       "\tMac &  19 & 112 & 144 & 435 & 74 & 171 & 89 & 573 & 85 & 371 & ⋯ & 278 & 416 & 32 & 28 & 221 & 459 & 323 & 222 & 29 & 149\\\\\n",
       "\tMonocyte & 115 & 141 & 153 &  69 & 26 &  39 & 83 &  71 & 74 &  32 & ⋯ &  37 & 116 & 25 & 41 &  38 &  20 &  54 &  57 & 21 &  26\\\\\n",
       "\\end{tabular}\n"
      ],
      "text/markdown": [
       "\n",
       "A matrix: 4 × 40 of type dbl\n",
       "\n",
       "| <!--/--> | Array1_28918 | Array1_29218 | Array1_29318 | Array1_29818 | Array1_30518 | Array2_28918 | Array2_29218 | Array2_29318 | Array2_29818 | Array2_30518 | ⋯ | Array8_28818 | Array8_29118 | Array8_29618 | Array8_30218 | Array8_30418 | Array9_28818 | Array9_29118 | Array9_29618 | Array9_30218 | Array9_30418 |\n",
       "|---|---|---|---|---|---|---|---|---|---|---|---|---|---|---|---|---|---|---|---|---|---|\n",
       "| Alv.Mac |  46 |  92 |  16 |  87 | 18 |  90 | 60 | 149 |  5 |  97 | ⋯ |  69 |  74 |  6 |  1 |  25 |  71 |  24 |  16 | 24 |  34 |\n",
       "| Inflam.Mac |   1 |  53 | 127 | 163 | 47 |  20 | 27 | 148 | 95 |  68 | ⋯ |  49 | 306 | 33 | 65 |  45 | 141 | 154 |  75 | 67 |  88 |\n",
       "| Mac |  19 | 112 | 144 | 435 | 74 | 171 | 89 | 573 | 85 | 371 | ⋯ | 278 | 416 | 32 | 28 | 221 | 459 | 323 | 222 | 29 | 149 |\n",
       "| Monocyte | 115 | 141 | 153 |  69 | 26 |  39 | 83 |  71 | 74 |  32 | ⋯ |  37 | 116 | 25 | 41 |  38 |  20 |  54 |  57 | 21 |  26 |\n",
       "\n"
      ],
      "text/plain": [
       "           Array1_28918 Array1_29218 Array1_29318 Array1_29818 Array1_30518\n",
       "Alv.Mac     46           92           16           87          18          \n",
       "Inflam.Mac   1           53          127          163          47          \n",
       "Mac         19          112          144          435          74          \n",
       "Monocyte   115          141          153           69          26          \n",
       "           Array2_28918 Array2_29218 Array2_29318 Array2_29818 Array2_30518 ⋯\n",
       "Alv.Mac     90          60           149           5            97          ⋯\n",
       "Inflam.Mac  20          27           148          95            68          ⋯\n",
       "Mac        171          89           573          85           371          ⋯\n",
       "Monocyte    39          83            71          74            32          ⋯\n",
       "           Array8_28818 Array8_29118 Array8_29618 Array8_30218 Array8_30418\n",
       "Alv.Mac     69           74           6            1            25         \n",
       "Inflam.Mac  49          306          33           65            45         \n",
       "Mac        278          416          32           28           221         \n",
       "Monocyte    37          116          25           41            38         \n",
       "           Array9_28818 Array9_29118 Array9_29618 Array9_30218 Array9_30418\n",
       "Alv.Mac     71           24           16          24            34         \n",
       "Inflam.Mac 141          154           75          67            88         \n",
       "Mac        459          323          222          29           149         \n",
       "Monocyte    20           54           57          21            26         "
      ]
     },
     "metadata": {},
     "output_type": "display_data"
    }
   ],
   "source": [
    "major_celltype_props"
   ]
  },
  {
   "cell_type": "code",
   "execution_count": 54,
   "id": "2a6bdfae",
   "metadata": {},
   "outputs": [
    {
     "data": {
      "text/html": [
       "<style>\n",
       ".list-inline {list-style: none; margin:0; padding: 0}\n",
       ".list-inline>li {display: inline-block}\n",
       ".list-inline>li:not(:last-child)::after {content: \"\\00b7\"; padding: 0 .5ex}\n",
       "</style>\n",
       "<ol class=list-inline><li>'Alv.Mac'</li><li>'Inflam.Mac'</li><li>'Mac'</li><li>'Monocyte'</li></ol>\n"
      ],
      "text/latex": [
       "\\begin{enumerate*}\n",
       "\\item 'Alv.Mac'\n",
       "\\item 'Inflam.Mac'\n",
       "\\item 'Mac'\n",
       "\\item 'Monocyte'\n",
       "\\end{enumerate*}\n"
      ],
      "text/markdown": [
       "1. 'Alv.Mac'\n",
       "2. 'Inflam.Mac'\n",
       "3. 'Mac'\n",
       "4. 'Monocyte'\n",
       "\n",
       "\n"
      ],
      "text/plain": [
       "[1] \"Alv.Mac\"    \"Inflam.Mac\" \"Mac\"        \"Monocyte\"  "
      ]
     },
     "metadata": {},
     "output_type": "display_data"
    }
   ],
   "source": [
    "rownames(major_celltype_props)"
   ]
  },
  {
   "cell_type": "code",
   "execution_count": 55,
   "id": "25965277",
   "metadata": {},
   "outputs": [],
   "source": [
    "\n",
    "y.ab <- DGEList(major_celltype_props, samples=metadata_2)\n"
   ]
  },
  {
   "cell_type": "code",
   "execution_count": 56,
   "id": "2dfa34a2",
   "metadata": {},
   "outputs": [
    {
     "data": {
      "text/html": [
       "<dl>\n",
       "\t<dt>$counts</dt>\n",
       "\t\t<dd><table class=\"dataframe\">\n",
       "<caption>A matrix: 4 × 40 of type dbl</caption>\n",
       "<thead>\n",
       "\t<tr><th></th><th scope=col>Array1_28918</th><th scope=col>Array1_29218</th><th scope=col>Array1_29318</th><th scope=col>Array1_29818</th><th scope=col>Array1_30518</th><th scope=col>Array2_28918</th><th scope=col>Array2_29218</th><th scope=col>Array2_29318</th><th scope=col>Array2_29818</th><th scope=col>Array2_30518</th><th scope=col>⋯</th><th scope=col>Array8_28818</th><th scope=col>Array8_29118</th><th scope=col>Array8_29618</th><th scope=col>Array8_30218</th><th scope=col>Array8_30418</th><th scope=col>Array9_28818</th><th scope=col>Array9_29118</th><th scope=col>Array9_29618</th><th scope=col>Array9_30218</th><th scope=col>Array9_30418</th></tr>\n",
       "</thead>\n",
       "<tbody>\n",
       "\t<tr><th scope=row>Alv.Mac</th><td> 46</td><td> 92</td><td> 16</td><td> 87</td><td>18</td><td> 90</td><td>60</td><td>149</td><td> 5</td><td> 97</td><td>⋯</td><td> 69</td><td> 74</td><td> 6</td><td> 1</td><td> 25</td><td> 71</td><td> 24</td><td> 16</td><td>24</td><td> 34</td></tr>\n",
       "\t<tr><th scope=row>Inflam.Mac</th><td>  1</td><td> 53</td><td>127</td><td>163</td><td>47</td><td> 20</td><td>27</td><td>148</td><td>95</td><td> 68</td><td>⋯</td><td> 49</td><td>306</td><td>33</td><td>65</td><td> 45</td><td>141</td><td>154</td><td> 75</td><td>67</td><td> 88</td></tr>\n",
       "\t<tr><th scope=row>Mac</th><td> 19</td><td>112</td><td>144</td><td>435</td><td>74</td><td>171</td><td>89</td><td>573</td><td>85</td><td>371</td><td>⋯</td><td>278</td><td>416</td><td>32</td><td>28</td><td>221</td><td>459</td><td>323</td><td>222</td><td>29</td><td>149</td></tr>\n",
       "\t<tr><th scope=row>Monocyte</th><td>115</td><td>141</td><td>153</td><td> 69</td><td>26</td><td> 39</td><td>83</td><td> 71</td><td>74</td><td> 32</td><td>⋯</td><td> 37</td><td>116</td><td>25</td><td>41</td><td> 38</td><td> 20</td><td> 54</td><td> 57</td><td>21</td><td> 26</td></tr>\n",
       "</tbody>\n",
       "</table>\n",
       "</dd>\n",
       "\t<dt>$samples</dt>\n",
       "\t\t<dd><table class=\"dataframe\">\n",
       "<caption>A data.frame: 40 × 15</caption>\n",
       "<thead>\n",
       "\t<tr><th></th><th scope=col>group</th><th scope=col>lib.size</th><th scope=col>norm.factors</th><th scope=col>M.Number</th><th scope=col>treatment</th><th scope=col>infection.dose</th><th scope=col>Tissue.name</th><th scope=col>CFU.granuloma</th><th scope=col>total.thoracic.CFU</th><th scope=col>Array</th><th scope=col>lung.region</th><th scope=col>Gran.State</th><th scope=col>total_cells_elbow</th><th scope=col>monkey_condition_categories</th><th scope=col>tcell.count</th></tr>\n",
       "\t<tr><th></th><th scope=col>&lt;fct&gt;</th><th scope=col>&lt;dbl&gt;</th><th scope=col>&lt;dbl&gt;</th><th scope=col>&lt;fct&gt;</th><th scope=col>&lt;chr&gt;</th><th scope=col>&lt;int&gt;</th><th scope=col>&lt;chr&gt;</th><th scope=col>&lt;int&gt;</th><th scope=col>&lt;int&gt;</th><th scope=col>&lt;int&gt;</th><th scope=col>&lt;chr&gt;</th><th scope=col>&lt;chr&gt;</th><th scope=col>&lt;int&gt;</th><th scope=col>&lt;fct&gt;</th><th scope=col>&lt;int&gt;</th></tr>\n",
       "</thead>\n",
       "<tbody>\n",
       "\t<tr><th scope=row>Array1_28918</th><td>1</td><td>181</td><td>1</td><td>28918</td><td>CD8a</td><td>19</td><td>RLL Gr 2      </td><td>    260</td><td> 5301080</td><td>1</td><td>RLL</td><td>New</td><td>1154</td><td>1</td><td>606</td></tr>\n",
       "\t<tr><th scope=row>Array1_29218</th><td>1</td><td>398</td><td>1</td><td>29218</td><td>CD8a</td><td>23</td><td>LLL gr 3      </td><td>    390</td><td> 2960670</td><td>1</td><td>LLL</td><td>New</td><td>1219</td><td>2</td><td>611</td></tr>\n",
       "\t<tr><th scope=row>Array1_29318</th><td>1</td><td>440</td><td>1</td><td>29318</td><td>CD8a</td><td>18</td><td>RUL C         </td><td>  59000</td><td>19228424</td><td>1</td><td>RUL</td><td>New</td><td>1390</td><td>3</td><td>550</td></tr>\n",
       "\t<tr><th scope=row>Array1_29818</th><td>1</td><td>754</td><td>1</td><td>29818</td><td>IgG </td><td>23</td><td>ACC GR 1      </td><td> 610000</td><td> 4066743</td><td>1</td><td>ACC</td><td>Old</td><td>1583</td><td>1</td><td> 77</td></tr>\n",
       "\t<tr><th scope=row>Array1_30518</th><td>1</td><td>165</td><td>1</td><td>30518</td><td>CD8b</td><td>18</td><td>RUL Gr 14     </td><td>   2025</td><td> 3895065</td><td>1</td><td>RUL</td><td>New</td><td>1284</td><td>1</td><td>705</td></tr>\n",
       "\t<tr><th scope=row>Array2_28918</th><td>1</td><td>320</td><td>1</td><td>28918</td><td>CD8a</td><td>19</td><td>Acc Gr 1      </td><td>    580</td><td> 5301080</td><td>2</td><td>ACC</td><td>New</td><td>1073</td><td>1</td><td>506</td></tr>\n",
       "\t<tr><th scope=row>Array2_29218</th><td>1</td><td>259</td><td>1</td><td>29218</td><td>CD8a</td><td>23</td><td>ACC gr 3      </td><td>    570</td><td> 2960670</td><td>2</td><td>ACC</td><td>New</td><td>1252</td><td>2</td><td>693</td></tr>\n",
       "\t<tr><th scope=row>Array2_29318</th><td>1</td><td>941</td><td>1</td><td>29318</td><td>CD8a</td><td>18</td><td>LLL 5         </td><td>  65200</td><td>19228424</td><td>2</td><td>LLL</td><td>New</td><td>1503</td><td>3</td><td> 63</td></tr>\n",
       "\t<tr><th scope=row>Array2_29818</th><td>1</td><td>259</td><td>1</td><td>29818</td><td>IgG </td><td>23</td><td>ACC GR 2      </td><td> 224000</td><td> 4066743</td><td>2</td><td>ACC</td><td>Old</td><td>1542</td><td>1</td><td>124</td></tr>\n",
       "\t<tr><th scope=row>Array2_30518</th><td>1</td><td>568</td><td>1</td><td>30518</td><td>CD8b</td><td>18</td><td>RLL Gr 44     </td><td>  34800</td><td> 3895065</td><td>2</td><td>RLL</td><td>New</td><td>1212</td><td>1</td><td>323</td></tr>\n",
       "\t<tr><th scope=row>Array3_28918</th><td>1</td><td>712</td><td>1</td><td>28918</td><td>CD8a</td><td>19</td><td>LUL GR 1      </td><td> 108000</td><td> 5301080</td><td>3</td><td>LUL</td><td>Old</td><td>1262</td><td>1</td><td> 87</td></tr>\n",
       "\t<tr><th scope=row>Array3_29218</th><td>1</td><td>465</td><td>1</td><td>29218</td><td>CD8a</td><td>23</td><td>RLL 7 Cluster </td><td> 414000</td><td> 2960670</td><td>3</td><td>RLL</td><td>Old</td><td>1219</td><td>2</td><td>245</td></tr>\n",
       "\t<tr><th scope=row>Array3_29318</th><td>1</td><td>695</td><td>1</td><td>29318</td><td>CD8a</td><td>18</td><td>LML B         </td><td>   4400</td><td>19228424</td><td>3</td><td>LML</td><td>New</td><td>1251</td><td>3</td><td>275</td></tr>\n",
       "\t<tr><th scope=row>Array3_29818</th><td>1</td><td>158</td><td>1</td><td>29818</td><td>IgG </td><td>23</td><td>ACC GR 15     </td><td>   5680</td><td> 4066743</td><td>3</td><td>ACC</td><td>New</td><td>1136</td><td>1</td><td>358</td></tr>\n",
       "\t<tr><th scope=row>Array3_30518</th><td>1</td><td>620</td><td>1</td><td>30518</td><td>CD8b</td><td>18</td><td>RLL Gr 38     </td><td> 151800</td><td> 3895065</td><td>3</td><td>RLL</td><td>New</td><td>1284</td><td>1</td><td>259</td></tr>\n",
       "\t<tr><th scope=row>Array4_28918</th><td>1</td><td>617</td><td>1</td><td>28918</td><td>CD8a</td><td>19</td><td>LUL Gr 4      </td><td>  84000</td><td> 5301080</td><td>4</td><td>LUL</td><td>Old</td><td>1136</td><td>1</td><td>168</td></tr>\n",
       "\t<tr><th scope=row>Array4_29218</th><td>1</td><td>320</td><td>1</td><td>29218</td><td>CD8a</td><td>23</td><td>RLL gr 17     </td><td>   1470</td><td> 2960670</td><td>4</td><td>RLL</td><td>Old</td><td>1184</td><td>2</td><td>425</td></tr>\n",
       "\t<tr><th scope=row>Array4_29318</th><td>1</td><td>375</td><td>1</td><td>29318</td><td>CD8a</td><td>18</td><td>LLL 13        </td><td> 149600</td><td>19228424</td><td>4</td><td>LLL</td><td>New</td><td>1211</td><td>3</td><td>559</td></tr>\n",
       "\t<tr><th scope=row>Array4_29818</th><td>1</td><td> 21</td><td>1</td><td>29818</td><td>IgG </td><td>23</td><td>ACC GR 11     </td><td> 224000</td><td> 4066743</td><td>4</td><td>RLL</td><td>Old</td><td> 572</td><td>1</td><td> 63</td></tr>\n",
       "\t<tr><th scope=row>Array4_30518</th><td>1</td><td>533</td><td>1</td><td>30518</td><td>CD8b</td><td>18</td><td>RLL Gr 35     </td><td> 106800</td><td> 3895065</td><td>4</td><td>RLL</td><td>Old</td><td>1320</td><td>1</td><td>451</td></tr>\n",
       "\t<tr><th scope=row>Array5_28918</th><td>1</td><td>806</td><td>1</td><td>28918</td><td>CD8a</td><td>19</td><td>LLL Gr 20     </td><td>  17800</td><td> 5301080</td><td>5</td><td>LLL</td><td>New</td><td>1371</td><td>1</td><td> 36</td></tr>\n",
       "\t<tr><th scope=row>Array6_28818</th><td>1</td><td>602</td><td>1</td><td>28818</td><td>CD8b</td><td>19</td><td>RUL Gr 3      </td><td>  37200</td><td>10562333</td><td>6</td><td>RUL</td><td>New</td><td>1463</td><td>2</td><td> 75</td></tr>\n",
       "\t<tr><th scope=row>Array6_29118</th><td>1</td><td>748</td><td>1</td><td>29118</td><td>CD8a</td><td>23</td><td>LLL GR 12     </td><td> 184000</td><td> 6466750</td><td>6</td><td>LLL</td><td>Old</td><td>1537</td><td>4</td><td> 79</td></tr>\n",
       "\t<tr><th scope=row>Array6_30218</th><td>1</td><td>318</td><td>1</td><td>30218</td><td>CD8b</td><td>23</td><td>RLL 25        </td><td>   6200</td><td> 1670412</td><td>6</td><td>RLL</td><td>New</td><td>1449</td><td>3</td><td>510</td></tr>\n",
       "\t<tr><th scope=row>Array6_30418</th><td>1</td><td>417</td><td>1</td><td>30418</td><td>IgG </td><td>18</td><td>RLL Gr 13     </td><td>  34500</td><td>  633245</td><td>6</td><td>RLL</td><td>Old</td><td>1248</td><td>3</td><td>424</td></tr>\n",
       "\t<tr><th scope=row>Array7_28818</th><td>1</td><td>158</td><td>1</td><td>28818</td><td>CD8b</td><td>19</td><td>RUL Gr 5      </td><td> 765000</td><td>10562333</td><td>7</td><td>RUL</td><td>Old</td><td> 665</td><td>2</td><td>218</td></tr>\n",
       "\t<tr><th scope=row>Array7_29118</th><td>1</td><td>756</td><td>1</td><td>29118</td><td>CD8a</td><td>23</td><td>LLL GR 39     </td><td>  10500</td><td> 6466750</td><td>7</td><td>LLL</td><td>New</td><td>1532</td><td>4</td><td>175</td></tr>\n",
       "\t<tr><th scope=row>Array7_29618</th><td>1</td><td>226</td><td>1</td><td>29618</td><td>IgG </td><td>23</td><td>LLL gr 4      </td><td>2340000</td><td> 4976735</td><td>7</td><td>LLL</td><td>Old</td><td>1210</td><td>2</td><td>391</td></tr>\n",
       "\t<tr><th scope=row>Array7_30218</th><td>1</td><td>211</td><td>1</td><td>30218</td><td>CD8b</td><td>23</td><td>RLL 15        </td><td>  11200</td><td> 1670412</td><td>7</td><td>RLL</td><td>New</td><td>1499</td><td>3</td><td>742</td></tr>\n",
       "\t<tr><th scope=row>Array7_30418</th><td>1</td><td>400</td><td>1</td><td>30418</td><td>IgG </td><td>18</td><td>RLL Gr 15     </td><td> 204000</td><td>  633245</td><td>7</td><td>RLL</td><td>Old</td><td>1155</td><td>3</td><td>362</td></tr>\n",
       "\t<tr><th scope=row>Array8_28818</th><td>1</td><td>433</td><td>1</td><td>28818</td><td>CD8b</td><td>19</td><td>RLL Gr 3      </td><td>  62400</td><td>10562333</td><td>8</td><td>RLL</td><td>Old</td><td>1178</td><td>2</td><td>223</td></tr>\n",
       "\t<tr><th scope=row>Array8_29118</th><td>1</td><td>912</td><td>1</td><td>29118</td><td>CD8a</td><td>23</td><td>LLL GR 41     </td><td>  56400</td><td> 6466750</td><td>8</td><td>LLL</td><td>Old</td><td>1573</td><td>4</td><td>110</td></tr>\n",
       "\t<tr><th scope=row>Array8_29618</th><td>1</td><td> 96</td><td>1</td><td>29618</td><td>IgG </td><td>23</td><td>LLL gr 9      </td><td> 216000</td><td> 4976735</td><td>8</td><td>LLL</td><td>Old</td><td>1214</td><td>2</td><td>748</td></tr>\n",
       "\t<tr><th scope=row>Array8_30218</th><td>1</td><td>135</td><td>1</td><td>30218</td><td>CD8b</td><td>23</td><td>RLL 10        </td><td>  75600</td><td> 1670412</td><td>8</td><td>RLL</td><td>Old</td><td>1528</td><td>3</td><td>536</td></tr>\n",
       "\t<tr><th scope=row>Array8_30418</th><td>1</td><td>329</td><td>1</td><td>30418</td><td>IgG </td><td>18</td><td>RLL Gr 7      </td><td>  17600</td><td>  633245</td><td>8</td><td>RLL</td><td>Old</td><td>1315</td><td>3</td><td>599</td></tr>\n",
       "\t<tr><th scope=row>Array9_28818</th><td>1</td><td>691</td><td>1</td><td>28818</td><td>CD8b</td><td>19</td><td>RLL Gr 7      </td><td> 535000</td><td>10562333</td><td>9</td><td>RLL</td><td>Old</td><td>1275</td><td>2</td><td> 13</td></tr>\n",
       "\t<tr><th scope=row>Array9_29118</th><td>1</td><td>555</td><td>1</td><td>29118</td><td>CD8a</td><td>23</td><td>LLL GR 48     </td><td> 588000</td><td> 6466750</td><td>9</td><td>LLL</td><td>Old</td><td>1324</td><td>4</td><td> 76</td></tr>\n",
       "\t<tr><th scope=row>Array9_29618</th><td>1</td><td>370</td><td>1</td><td>29618</td><td>IgG </td><td>23</td><td>LLL gr 12     </td><td> 618000</td><td> 4976735</td><td>9</td><td>LLL</td><td>Old</td><td>1242</td><td>2</td><td>494</td></tr>\n",
       "\t<tr><th scope=row>Array9_30218</th><td>1</td><td>141</td><td>1</td><td>30218</td><td>CD8b</td><td>23</td><td>RLL 18        </td><td>   5640</td><td> 1670412</td><td>9</td><td>RLL</td><td>New</td><td>1328</td><td>3</td><td>788</td></tr>\n",
       "\t<tr><th scope=row>Array9_30418</th><td>1</td><td>297</td><td>1</td><td>30418</td><td>IgG </td><td>18</td><td>RLL Gr 6      </td><td>  11400</td><td>  633245</td><td>9</td><td>RLL</td><td>New</td><td>1291</td><td>3</td><td>406</td></tr>\n",
       "</tbody>\n",
       "</table>\n",
       "</dd>\n",
       "</dl>\n"
      ],
      "text/latex": [
       "\\begin{description}\n",
       "\\item[\\$counts] A matrix: 4 × 40 of type dbl\n",
       "\\begin{tabular}{r|lllllllllllllllllllll}\n",
       "  & Array1\\_28918 & Array1\\_29218 & Array1\\_29318 & Array1\\_29818 & Array1\\_30518 & Array2\\_28918 & Array2\\_29218 & Array2\\_29318 & Array2\\_29818 & Array2\\_30518 & ⋯ & Array8\\_28818 & Array8\\_29118 & Array8\\_29618 & Array8\\_30218 & Array8\\_30418 & Array9\\_28818 & Array9\\_29118 & Array9\\_29618 & Array9\\_30218 & Array9\\_30418\\\\\n",
       "\\hline\n",
       "\tAlv.Mac &  46 &  92 &  16 &  87 & 18 &  90 & 60 & 149 &  5 &  97 & ⋯ &  69 &  74 &  6 &  1 &  25 &  71 &  24 &  16 & 24 &  34\\\\\n",
       "\tInflam.Mac &   1 &  53 & 127 & 163 & 47 &  20 & 27 & 148 & 95 &  68 & ⋯ &  49 & 306 & 33 & 65 &  45 & 141 & 154 &  75 & 67 &  88\\\\\n",
       "\tMac &  19 & 112 & 144 & 435 & 74 & 171 & 89 & 573 & 85 & 371 & ⋯ & 278 & 416 & 32 & 28 & 221 & 459 & 323 & 222 & 29 & 149\\\\\n",
       "\tMonocyte & 115 & 141 & 153 &  69 & 26 &  39 & 83 &  71 & 74 &  32 & ⋯ &  37 & 116 & 25 & 41 &  38 &  20 &  54 &  57 & 21 &  26\\\\\n",
       "\\end{tabular}\n",
       "\n",
       "\\item[\\$samples] A data.frame: 40 × 15\n",
       "\\begin{tabular}{r|lllllllllllllll}\n",
       "  & group & lib.size & norm.factors & M.Number & treatment & infection.dose & Tissue.name & CFU.granuloma & total.thoracic.CFU & Array & lung.region & Gran.State & total\\_cells\\_elbow & monkey\\_condition\\_categories & tcell.count\\\\\n",
       "  & <fct> & <dbl> & <dbl> & <fct> & <chr> & <int> & <chr> & <int> & <int> & <int> & <chr> & <chr> & <int> & <fct> & <int>\\\\\n",
       "\\hline\n",
       "\tArray1\\_28918 & 1 & 181 & 1 & 28918 & CD8a & 19 & RLL Gr 2       &     260 &  5301080 & 1 & RLL & New & 1154 & 1 & 606\\\\\n",
       "\tArray1\\_29218 & 1 & 398 & 1 & 29218 & CD8a & 23 & LLL gr 3       &     390 &  2960670 & 1 & LLL & New & 1219 & 2 & 611\\\\\n",
       "\tArray1\\_29318 & 1 & 440 & 1 & 29318 & CD8a & 18 & RUL C          &   59000 & 19228424 & 1 & RUL & New & 1390 & 3 & 550\\\\\n",
       "\tArray1\\_29818 & 1 & 754 & 1 & 29818 & IgG  & 23 & ACC GR 1       &  610000 &  4066743 & 1 & ACC & Old & 1583 & 1 &  77\\\\\n",
       "\tArray1\\_30518 & 1 & 165 & 1 & 30518 & CD8b & 18 & RUL Gr 14      &    2025 &  3895065 & 1 & RUL & New & 1284 & 1 & 705\\\\\n",
       "\tArray2\\_28918 & 1 & 320 & 1 & 28918 & CD8a & 19 & Acc Gr 1       &     580 &  5301080 & 2 & ACC & New & 1073 & 1 & 506\\\\\n",
       "\tArray2\\_29218 & 1 & 259 & 1 & 29218 & CD8a & 23 & ACC gr 3       &     570 &  2960670 & 2 & ACC & New & 1252 & 2 & 693\\\\\n",
       "\tArray2\\_29318 & 1 & 941 & 1 & 29318 & CD8a & 18 & LLL 5          &   65200 & 19228424 & 2 & LLL & New & 1503 & 3 &  63\\\\\n",
       "\tArray2\\_29818 & 1 & 259 & 1 & 29818 & IgG  & 23 & ACC GR 2       &  224000 &  4066743 & 2 & ACC & Old & 1542 & 1 & 124\\\\\n",
       "\tArray2\\_30518 & 1 & 568 & 1 & 30518 & CD8b & 18 & RLL Gr 44      &   34800 &  3895065 & 2 & RLL & New & 1212 & 1 & 323\\\\\n",
       "\tArray3\\_28918 & 1 & 712 & 1 & 28918 & CD8a & 19 & LUL GR 1       &  108000 &  5301080 & 3 & LUL & Old & 1262 & 1 &  87\\\\\n",
       "\tArray3\\_29218 & 1 & 465 & 1 & 29218 & CD8a & 23 & RLL 7 Cluster  &  414000 &  2960670 & 3 & RLL & Old & 1219 & 2 & 245\\\\\n",
       "\tArray3\\_29318 & 1 & 695 & 1 & 29318 & CD8a & 18 & LML B          &    4400 & 19228424 & 3 & LML & New & 1251 & 3 & 275\\\\\n",
       "\tArray3\\_29818 & 1 & 158 & 1 & 29818 & IgG  & 23 & ACC GR 15      &    5680 &  4066743 & 3 & ACC & New & 1136 & 1 & 358\\\\\n",
       "\tArray3\\_30518 & 1 & 620 & 1 & 30518 & CD8b & 18 & RLL Gr 38      &  151800 &  3895065 & 3 & RLL & New & 1284 & 1 & 259\\\\\n",
       "\tArray4\\_28918 & 1 & 617 & 1 & 28918 & CD8a & 19 & LUL Gr 4       &   84000 &  5301080 & 4 & LUL & Old & 1136 & 1 & 168\\\\\n",
       "\tArray4\\_29218 & 1 & 320 & 1 & 29218 & CD8a & 23 & RLL gr 17      &    1470 &  2960670 & 4 & RLL & Old & 1184 & 2 & 425\\\\\n",
       "\tArray4\\_29318 & 1 & 375 & 1 & 29318 & CD8a & 18 & LLL 13         &  149600 & 19228424 & 4 & LLL & New & 1211 & 3 & 559\\\\\n",
       "\tArray4\\_29818 & 1 &  21 & 1 & 29818 & IgG  & 23 & ACC GR 11      &  224000 &  4066743 & 4 & RLL & Old &  572 & 1 &  63\\\\\n",
       "\tArray4\\_30518 & 1 & 533 & 1 & 30518 & CD8b & 18 & RLL Gr 35      &  106800 &  3895065 & 4 & RLL & Old & 1320 & 1 & 451\\\\\n",
       "\tArray5\\_28918 & 1 & 806 & 1 & 28918 & CD8a & 19 & LLL Gr 20      &   17800 &  5301080 & 5 & LLL & New & 1371 & 1 &  36\\\\\n",
       "\tArray6\\_28818 & 1 & 602 & 1 & 28818 & CD8b & 19 & RUL Gr 3       &   37200 & 10562333 & 6 & RUL & New & 1463 & 2 &  75\\\\\n",
       "\tArray6\\_29118 & 1 & 748 & 1 & 29118 & CD8a & 23 & LLL GR 12      &  184000 &  6466750 & 6 & LLL & Old & 1537 & 4 &  79\\\\\n",
       "\tArray6\\_30218 & 1 & 318 & 1 & 30218 & CD8b & 23 & RLL 25         &    6200 &  1670412 & 6 & RLL & New & 1449 & 3 & 510\\\\\n",
       "\tArray6\\_30418 & 1 & 417 & 1 & 30418 & IgG  & 18 & RLL Gr 13      &   34500 &   633245 & 6 & RLL & Old & 1248 & 3 & 424\\\\\n",
       "\tArray7\\_28818 & 1 & 158 & 1 & 28818 & CD8b & 19 & RUL Gr 5       &  765000 & 10562333 & 7 & RUL & Old &  665 & 2 & 218\\\\\n",
       "\tArray7\\_29118 & 1 & 756 & 1 & 29118 & CD8a & 23 & LLL GR 39      &   10500 &  6466750 & 7 & LLL & New & 1532 & 4 & 175\\\\\n",
       "\tArray7\\_29618 & 1 & 226 & 1 & 29618 & IgG  & 23 & LLL gr 4       & 2340000 &  4976735 & 7 & LLL & Old & 1210 & 2 & 391\\\\\n",
       "\tArray7\\_30218 & 1 & 211 & 1 & 30218 & CD8b & 23 & RLL 15         &   11200 &  1670412 & 7 & RLL & New & 1499 & 3 & 742\\\\\n",
       "\tArray7\\_30418 & 1 & 400 & 1 & 30418 & IgG  & 18 & RLL Gr 15      &  204000 &   633245 & 7 & RLL & Old & 1155 & 3 & 362\\\\\n",
       "\tArray8\\_28818 & 1 & 433 & 1 & 28818 & CD8b & 19 & RLL Gr 3       &   62400 & 10562333 & 8 & RLL & Old & 1178 & 2 & 223\\\\\n",
       "\tArray8\\_29118 & 1 & 912 & 1 & 29118 & CD8a & 23 & LLL GR 41      &   56400 &  6466750 & 8 & LLL & Old & 1573 & 4 & 110\\\\\n",
       "\tArray8\\_29618 & 1 &  96 & 1 & 29618 & IgG  & 23 & LLL gr 9       &  216000 &  4976735 & 8 & LLL & Old & 1214 & 2 & 748\\\\\n",
       "\tArray8\\_30218 & 1 & 135 & 1 & 30218 & CD8b & 23 & RLL 10         &   75600 &  1670412 & 8 & RLL & Old & 1528 & 3 & 536\\\\\n",
       "\tArray8\\_30418 & 1 & 329 & 1 & 30418 & IgG  & 18 & RLL Gr 7       &   17600 &   633245 & 8 & RLL & Old & 1315 & 3 & 599\\\\\n",
       "\tArray9\\_28818 & 1 & 691 & 1 & 28818 & CD8b & 19 & RLL Gr 7       &  535000 & 10562333 & 9 & RLL & Old & 1275 & 2 &  13\\\\\n",
       "\tArray9\\_29118 & 1 & 555 & 1 & 29118 & CD8a & 23 & LLL GR 48      &  588000 &  6466750 & 9 & LLL & Old & 1324 & 4 &  76\\\\\n",
       "\tArray9\\_29618 & 1 & 370 & 1 & 29618 & IgG  & 23 & LLL gr 12      &  618000 &  4976735 & 9 & LLL & Old & 1242 & 2 & 494\\\\\n",
       "\tArray9\\_30218 & 1 & 141 & 1 & 30218 & CD8b & 23 & RLL 18         &    5640 &  1670412 & 9 & RLL & New & 1328 & 3 & 788\\\\\n",
       "\tArray9\\_30418 & 1 & 297 & 1 & 30418 & IgG  & 18 & RLL Gr 6       &   11400 &   633245 & 9 & RLL & New & 1291 & 3 & 406\\\\\n",
       "\\end{tabular}\n",
       "\n",
       "\\end{description}\n"
      ],
      "text/markdown": [
       "$counts\n",
       ":   \n",
       "A matrix: 4 × 40 of type dbl\n",
       "\n",
       "| <!--/--> | Array1_28918 | Array1_29218 | Array1_29318 | Array1_29818 | Array1_30518 | Array2_28918 | Array2_29218 | Array2_29318 | Array2_29818 | Array2_30518 | ⋯ | Array8_28818 | Array8_29118 | Array8_29618 | Array8_30218 | Array8_30418 | Array9_28818 | Array9_29118 | Array9_29618 | Array9_30218 | Array9_30418 |\n",
       "|---|---|---|---|---|---|---|---|---|---|---|---|---|---|---|---|---|---|---|---|---|---|\n",
       "| Alv.Mac |  46 |  92 |  16 |  87 | 18 |  90 | 60 | 149 |  5 |  97 | ⋯ |  69 |  74 |  6 |  1 |  25 |  71 |  24 |  16 | 24 |  34 |\n",
       "| Inflam.Mac |   1 |  53 | 127 | 163 | 47 |  20 | 27 | 148 | 95 |  68 | ⋯ |  49 | 306 | 33 | 65 |  45 | 141 | 154 |  75 | 67 |  88 |\n",
       "| Mac |  19 | 112 | 144 | 435 | 74 | 171 | 89 | 573 | 85 | 371 | ⋯ | 278 | 416 | 32 | 28 | 221 | 459 | 323 | 222 | 29 | 149 |\n",
       "| Monocyte | 115 | 141 | 153 |  69 | 26 |  39 | 83 |  71 | 74 |  32 | ⋯ |  37 | 116 | 25 | 41 |  38 |  20 |  54 |  57 | 21 |  26 |\n",
       "\n",
       "\n",
       "$samples\n",
       ":   \n",
       "A data.frame: 40 × 15\n",
       "\n",
       "| <!--/--> | group &lt;fct&gt; | lib.size &lt;dbl&gt; | norm.factors &lt;dbl&gt; | M.Number &lt;fct&gt; | treatment &lt;chr&gt; | infection.dose &lt;int&gt; | Tissue.name &lt;chr&gt; | CFU.granuloma &lt;int&gt; | total.thoracic.CFU &lt;int&gt; | Array &lt;int&gt; | lung.region &lt;chr&gt; | Gran.State &lt;chr&gt; | total_cells_elbow &lt;int&gt; | monkey_condition_categories &lt;fct&gt; | tcell.count &lt;int&gt; |\n",
       "|---|---|---|---|---|---|---|---|---|---|---|---|---|---|---|---|\n",
       "| Array1_28918 | 1 | 181 | 1 | 28918 | CD8a | 19 | RLL Gr 2       |     260 |  5301080 | 1 | RLL | New | 1154 | 1 | 606 |\n",
       "| Array1_29218 | 1 | 398 | 1 | 29218 | CD8a | 23 | LLL gr 3       |     390 |  2960670 | 1 | LLL | New | 1219 | 2 | 611 |\n",
       "| Array1_29318 | 1 | 440 | 1 | 29318 | CD8a | 18 | RUL C          |   59000 | 19228424 | 1 | RUL | New | 1390 | 3 | 550 |\n",
       "| Array1_29818 | 1 | 754 | 1 | 29818 | IgG  | 23 | ACC GR 1       |  610000 |  4066743 | 1 | ACC | Old | 1583 | 1 |  77 |\n",
       "| Array1_30518 | 1 | 165 | 1 | 30518 | CD8b | 18 | RUL Gr 14      |    2025 |  3895065 | 1 | RUL | New | 1284 | 1 | 705 |\n",
       "| Array2_28918 | 1 | 320 | 1 | 28918 | CD8a | 19 | Acc Gr 1       |     580 |  5301080 | 2 | ACC | New | 1073 | 1 | 506 |\n",
       "| Array2_29218 | 1 | 259 | 1 | 29218 | CD8a | 23 | ACC gr 3       |     570 |  2960670 | 2 | ACC | New | 1252 | 2 | 693 |\n",
       "| Array2_29318 | 1 | 941 | 1 | 29318 | CD8a | 18 | LLL 5          |   65200 | 19228424 | 2 | LLL | New | 1503 | 3 |  63 |\n",
       "| Array2_29818 | 1 | 259 | 1 | 29818 | IgG  | 23 | ACC GR 2       |  224000 |  4066743 | 2 | ACC | Old | 1542 | 1 | 124 |\n",
       "| Array2_30518 | 1 | 568 | 1 | 30518 | CD8b | 18 | RLL Gr 44      |   34800 |  3895065 | 2 | RLL | New | 1212 | 1 | 323 |\n",
       "| Array3_28918 | 1 | 712 | 1 | 28918 | CD8a | 19 | LUL GR 1       |  108000 |  5301080 | 3 | LUL | Old | 1262 | 1 |  87 |\n",
       "| Array3_29218 | 1 | 465 | 1 | 29218 | CD8a | 23 | RLL 7 Cluster  |  414000 |  2960670 | 3 | RLL | Old | 1219 | 2 | 245 |\n",
       "| Array3_29318 | 1 | 695 | 1 | 29318 | CD8a | 18 | LML B          |    4400 | 19228424 | 3 | LML | New | 1251 | 3 | 275 |\n",
       "| Array3_29818 | 1 | 158 | 1 | 29818 | IgG  | 23 | ACC GR 15      |    5680 |  4066743 | 3 | ACC | New | 1136 | 1 | 358 |\n",
       "| Array3_30518 | 1 | 620 | 1 | 30518 | CD8b | 18 | RLL Gr 38      |  151800 |  3895065 | 3 | RLL | New | 1284 | 1 | 259 |\n",
       "| Array4_28918 | 1 | 617 | 1 | 28918 | CD8a | 19 | LUL Gr 4       |   84000 |  5301080 | 4 | LUL | Old | 1136 | 1 | 168 |\n",
       "| Array4_29218 | 1 | 320 | 1 | 29218 | CD8a | 23 | RLL gr 17      |    1470 |  2960670 | 4 | RLL | Old | 1184 | 2 | 425 |\n",
       "| Array4_29318 | 1 | 375 | 1 | 29318 | CD8a | 18 | LLL 13         |  149600 | 19228424 | 4 | LLL | New | 1211 | 3 | 559 |\n",
       "| Array4_29818 | 1 |  21 | 1 | 29818 | IgG  | 23 | ACC GR 11      |  224000 |  4066743 | 4 | RLL | Old |  572 | 1 |  63 |\n",
       "| Array4_30518 | 1 | 533 | 1 | 30518 | CD8b | 18 | RLL Gr 35      |  106800 |  3895065 | 4 | RLL | Old | 1320 | 1 | 451 |\n",
       "| Array5_28918 | 1 | 806 | 1 | 28918 | CD8a | 19 | LLL Gr 20      |   17800 |  5301080 | 5 | LLL | New | 1371 | 1 |  36 |\n",
       "| Array6_28818 | 1 | 602 | 1 | 28818 | CD8b | 19 | RUL Gr 3       |   37200 | 10562333 | 6 | RUL | New | 1463 | 2 |  75 |\n",
       "| Array6_29118 | 1 | 748 | 1 | 29118 | CD8a | 23 | LLL GR 12      |  184000 |  6466750 | 6 | LLL | Old | 1537 | 4 |  79 |\n",
       "| Array6_30218 | 1 | 318 | 1 | 30218 | CD8b | 23 | RLL 25         |    6200 |  1670412 | 6 | RLL | New | 1449 | 3 | 510 |\n",
       "| Array6_30418 | 1 | 417 | 1 | 30418 | IgG  | 18 | RLL Gr 13      |   34500 |   633245 | 6 | RLL | Old | 1248 | 3 | 424 |\n",
       "| Array7_28818 | 1 | 158 | 1 | 28818 | CD8b | 19 | RUL Gr 5       |  765000 | 10562333 | 7 | RUL | Old |  665 | 2 | 218 |\n",
       "| Array7_29118 | 1 | 756 | 1 | 29118 | CD8a | 23 | LLL GR 39      |   10500 |  6466750 | 7 | LLL | New | 1532 | 4 | 175 |\n",
       "| Array7_29618 | 1 | 226 | 1 | 29618 | IgG  | 23 | LLL gr 4       | 2340000 |  4976735 | 7 | LLL | Old | 1210 | 2 | 391 |\n",
       "| Array7_30218 | 1 | 211 | 1 | 30218 | CD8b | 23 | RLL 15         |   11200 |  1670412 | 7 | RLL | New | 1499 | 3 | 742 |\n",
       "| Array7_30418 | 1 | 400 | 1 | 30418 | IgG  | 18 | RLL Gr 15      |  204000 |   633245 | 7 | RLL | Old | 1155 | 3 | 362 |\n",
       "| Array8_28818 | 1 | 433 | 1 | 28818 | CD8b | 19 | RLL Gr 3       |   62400 | 10562333 | 8 | RLL | Old | 1178 | 2 | 223 |\n",
       "| Array8_29118 | 1 | 912 | 1 | 29118 | CD8a | 23 | LLL GR 41      |   56400 |  6466750 | 8 | LLL | Old | 1573 | 4 | 110 |\n",
       "| Array8_29618 | 1 |  96 | 1 | 29618 | IgG  | 23 | LLL gr 9       |  216000 |  4976735 | 8 | LLL | Old | 1214 | 2 | 748 |\n",
       "| Array8_30218 | 1 | 135 | 1 | 30218 | CD8b | 23 | RLL 10         |   75600 |  1670412 | 8 | RLL | Old | 1528 | 3 | 536 |\n",
       "| Array8_30418 | 1 | 329 | 1 | 30418 | IgG  | 18 | RLL Gr 7       |   17600 |   633245 | 8 | RLL | Old | 1315 | 3 | 599 |\n",
       "| Array9_28818 | 1 | 691 | 1 | 28818 | CD8b | 19 | RLL Gr 7       |  535000 | 10562333 | 9 | RLL | Old | 1275 | 2 |  13 |\n",
       "| Array9_29118 | 1 | 555 | 1 | 29118 | CD8a | 23 | LLL GR 48      |  588000 |  6466750 | 9 | LLL | Old | 1324 | 4 |  76 |\n",
       "| Array9_29618 | 1 | 370 | 1 | 29618 | IgG  | 23 | LLL gr 12      |  618000 |  4976735 | 9 | LLL | Old | 1242 | 2 | 494 |\n",
       "| Array9_30218 | 1 | 141 | 1 | 30218 | CD8b | 23 | RLL 18         |    5640 |  1670412 | 9 | RLL | New | 1328 | 3 | 788 |\n",
       "| Array9_30418 | 1 | 297 | 1 | 30418 | IgG  | 18 | RLL Gr 6       |   11400 |   633245 | 9 | RLL | New | 1291 | 3 | 406 |\n",
       "\n",
       "\n",
       "\n",
       "\n"
      ],
      "text/plain": [
       "An object of class \"DGEList\"\n",
       "$counts\n",
       "           Array1_28918 Array1_29218 Array1_29318 Array1_29818 Array1_30518\n",
       "Alv.Mac              46           92           16           87           18\n",
       "Inflam.Mac            1           53          127          163           47\n",
       "Mac                  19          112          144          435           74\n",
       "Monocyte            115          141          153           69           26\n",
       "           Array2_28918 Array2_29218 Array2_29318 Array2_29818 Array2_30518\n",
       "Alv.Mac              90           60          149            5           97\n",
       "Inflam.Mac           20           27          148           95           68\n",
       "Mac                 171           89          573           85          371\n",
       "Monocyte             39           83           71           74           32\n",
       "           Array3_28918 Array3_29218 Array3_29318 Array3_29818 Array3_30518\n",
       "Alv.Mac              74           25           84           12           32\n",
       "Inflam.Mac          294          175          150           33          161\n",
       "Mac                 248          120          165           90          358\n",
       "Monocyte             96          145          296           23           69\n",
       "           Array4_28918 Array4_29218 Array4_29318 Array4_29818 Array4_30518\n",
       "Alv.Mac              57           77           23            1           19\n",
       "Inflam.Mac           95           59          103            7          196\n",
       "Mac                 405           77          152           11          248\n",
       "Monocyte             60          107           97            2           70\n",
       "           Array5_28918 Array6_28818 Array6_29118 Array6_30218 Array6_30418\n",
       "Alv.Mac              58           20           21            7            6\n",
       "Inflam.Mac           75          117          272          144          179\n",
       "Mac                 636          339          321           80          197\n",
       "Monocyte             37          126          134           87           35\n",
       "           Array7_28818 Array7_29118 Array7_29618 Array7_30218 Array7_30418\n",
       "Alv.Mac              20           28            7           20           28\n",
       "Inflam.Mac           35          328          147           56           71\n",
       "Mac                  72          268           52           83          275\n",
       "Monocyte             31          132           20           52           26\n",
       "           Array8_28818 Array8_29118 Array8_29618 Array8_30218 Array8_30418\n",
       "Alv.Mac              69           74            6            1           25\n",
       "Inflam.Mac           49          306           33           65           45\n",
       "Mac                 278          416           32           28          221\n",
       "Monocyte             37          116           25           41           38\n",
       "           Array9_28818 Array9_29118 Array9_29618 Array9_30218 Array9_30418\n",
       "Alv.Mac              71           24           16           24           34\n",
       "Inflam.Mac          141          154           75           67           88\n",
       "Mac                 459          323          222           29          149\n",
       "Monocyte             20           54           57           21           26\n",
       "\n",
       "$samples\n",
       "             group lib.size norm.factors M.Number treatment infection.dose\n",
       "Array1_28918     1      181            1    28918      CD8a             19\n",
       "Array1_29218     1      398            1    29218      CD8a             23\n",
       "Array1_29318     1      440            1    29318      CD8a             18\n",
       "Array1_29818     1      754            1    29818       IgG             23\n",
       "Array1_30518     1      165            1    30518      CD8b             18\n",
       "             Tissue.name CFU.granuloma total.thoracic.CFU Array lung.region\n",
       "Array1_28918    RLL Gr 2           260            5301080     1         RLL\n",
       "Array1_29218    LLL gr 3           390            2960670     1         LLL\n",
       "Array1_29318       RUL C         59000           19228424     1         RUL\n",
       "Array1_29818    ACC GR 1        610000            4066743     1         ACC\n",
       "Array1_30518   RUL Gr 14          2025            3895065     1         RUL\n",
       "             Gran.State total_cells_elbow monkey_condition_categories\n",
       "Array1_28918        New              1154                           1\n",
       "Array1_29218        New              1219                           2\n",
       "Array1_29318        New              1390                           3\n",
       "Array1_29818        Old              1583                           1\n",
       "Array1_30518        New              1284                           1\n",
       "             tcell.count\n",
       "Array1_28918         606\n",
       "Array1_29218         611\n",
       "Array1_29318         550\n",
       "Array1_29818          77\n",
       "Array1_30518         705\n",
       "35 more rows ...\n"
      ]
     },
     "metadata": {},
     "output_type": "display_data"
    }
   ],
   "source": [
    "y.ab"
   ]
  },
  {
   "cell_type": "code",
   "execution_count": 57,
   "id": "5edffa77",
   "metadata": {},
   "outputs": [],
   "source": [
    "#keep <- filterByExpr(y.ab, group=y.ab$samples$treatment)\n",
    "#y.ab <- y.ab[keep,]\n",
    "#summary(keep)"
   ]
  },
  {
   "cell_type": "code",
   "execution_count": 58,
   "id": "eeea3499",
   "metadata": {},
   "outputs": [],
   "source": [
    "#design <- model.matrix(~factor(monkey_condition_categories) + factor(treatment), y.ab$samples)"
   ]
  },
  {
   "cell_type": "code",
   "execution_count": 68,
   "id": "1910bc64",
   "metadata": {},
   "outputs": [],
   "source": [
    "design <- model.matrix(~0 + factor(treatment), y.ab$samples)"
   ]
  },
  {
   "cell_type": "code",
   "execution_count": 69,
   "id": "84e8763b",
   "metadata": {},
   "outputs": [
    {
     "data": {
      "text/plain": [
       "   Min. 1st Qu.  Median    Mean 3rd Qu.    Max. \n",
       " 0.3131  0.3131  0.3131  0.3131  0.3131  0.3131 "
      ]
     },
     "metadata": {},
     "output_type": "display_data"
    }
   ],
   "source": [
    "y.ab <- estimateDisp(y.ab, design, trend=\"none\")\n",
    "summary(y.ab$common.dispersion)"
   ]
  },
  {
   "cell_type": "code",
   "execution_count": 70,
   "id": "8c6a99f5",
   "metadata": {},
   "outputs": [
    {
     "data": {
      "image/png": "[encoded data removed]",
      "text/plain": [
       "plot without title"
      ]
     },
     "metadata": {
      "image/png": {
       "height": 420,
       "width": 420
      }
     },
     "output_type": "display_data"
    }
   ],
   "source": [
    "plotBCV(y.ab, cex=1)"
   ]
  },
  {
   "cell_type": "code",
   "execution_count": null,
   "id": "df9252fc",
   "metadata": {},
   "outputs": [],
   "source": []
  },
  {
   "cell_type": "code",
   "execution_count": 71,
   "id": "687964ef",
   "metadata": {},
   "outputs": [
    {
     "data": {
      "text/plain": [
       "   Min. 1st Qu.  Median    Mean 3rd Qu.    Max. \n",
       " 0.9531  0.9531  0.9531  0.9531  0.9531  0.9531 "
      ]
     },
     "metadata": {},
     "output_type": "display_data"
    }
   ],
   "source": [
    "fit.ab <- glmQLFit(y.ab, design, robust=TRUE, abundance.trend=FALSE)\n",
    "summary(fit.ab$var.prior)"
   ]
  },
  {
   "cell_type": "code",
   "execution_count": 72,
   "id": "7ab24630",
   "metadata": {},
   "outputs": [
    {
     "data": {
      "image/png": "[encoded data removed]",
      "text/plain": [
       "plot without title"
      ]
     },
     "metadata": {
      "image/png": {
       "height": 420,
       "width": 420
      }
     },
     "output_type": "display_data"
    }
   ],
   "source": [
    "plotQLDisp(fit.ab, cex=1)"
   ]
  },
  {
   "cell_type": "code",
   "execution_count": 76,
   "id": "f74c3eaa",
   "metadata": {},
   "outputs": [
    {
     "data": {
      "text/plain": [
       "       1*factor(treatment)CD8a -1*factor(treatment)CD8b\n",
       "Down                                                  0\n",
       "NotSig                                                4\n",
       "Up                                                    0"
      ]
     },
     "metadata": {},
     "output_type": "display_data"
    }
   ],
   "source": [
    "res <- glmQLFTest(fit.ab, contrast=c(1,-1,0))\n",
    "summary(decideTests(res))"
   ]
  },
  {
   "cell_type": "code",
   "execution_count": 82,
   "id": "a1474cb3",
   "metadata": {},
   "outputs": [
    {
     "data": {
      "text/html": [
       "<dl>\n",
       "\t<dt>$table</dt>\n",
       "\t\t<dd><table class=\"dataframe\">\n",
       "<caption>A data.frame: 4 × 5</caption>\n",
       "<thead>\n",
       "\t<tr><th></th><th scope=col>logFC</th><th scope=col>logCPM</th><th scope=col>F</th><th scope=col>PValue</th><th scope=col>FDR</th></tr>\n",
       "\t<tr><th></th><th scope=col>&lt;dbl&gt;</th><th scope=col>&lt;dbl&gt;</th><th scope=col>&lt;dbl&gt;</th><th scope=col>&lt;dbl&gt;</th><th scope=col>&lt;dbl&gt;</th></tr>\n",
       "</thead>\n",
       "<tbody>\n",
       "\t<tr><th scope=row>Alv.Mac</th><td> 0.53130277</td><td>16.62451</td><td>1.53464615</td><td>0.2210600</td><td>0.7927024</td></tr>\n",
       "\t<tr><th scope=row>Monocyte</th><td> 0.26444240</td><td>17.52957</td><td>0.50099837</td><td>0.4822683</td><td>0.7927024</td></tr>\n",
       "\t<tr><th scope=row>Mac</th><td>-0.11266772</td><td>18.78120</td><td>0.16896286</td><td>0.6827489</td><td>0.7927024</td></tr>\n",
       "\t<tr><th scope=row>Inflam.Mac</th><td>-0.09406411</td><td>18.03095</td><td>0.06978987</td><td>0.7927024</td><td>0.7927024</td></tr>\n",
       "</tbody>\n",
       "</table>\n",
       "</dd>\n",
       "\t<dt>$adjust.method</dt>\n",
       "\t\t<dd>'BH'</dd>\n",
       "\t<dt>$comparison</dt>\n",
       "\t\t<dd>'1*factor(treatment)CD8b -1*factor(treatment)IgG'</dd>\n",
       "\t<dt>$test</dt>\n",
       "\t\t<dd>'glm'</dd>\n",
       "</dl>\n"
      ],
      "text/latex": [
       "\\begin{description}\n",
       "\\item[\\$table] A data.frame: 4 × 5\n",
       "\\begin{tabular}{r|lllll}\n",
       "  & logFC & logCPM & F & PValue & FDR\\\\\n",
       "  & <dbl> & <dbl> & <dbl> & <dbl> & <dbl>\\\\\n",
       "\\hline\n",
       "\tAlv.Mac &  0.53130277 & 16.62451 & 1.53464615 & 0.2210600 & 0.7927024\\\\\n",
       "\tMonocyte &  0.26444240 & 17.52957 & 0.50099837 & 0.4822683 & 0.7927024\\\\\n",
       "\tMac & -0.11266772 & 18.78120 & 0.16896286 & 0.6827489 & 0.7927024\\\\\n",
       "\tInflam.Mac & -0.09406411 & 18.03095 & 0.06978987 & 0.7927024 & 0.7927024\\\\\n",
       "\\end{tabular}\n",
       "\n",
       "\\item[\\$adjust.method] 'BH'\n",
       "\\item[\\$comparison] '1*factor(treatment)CD8b -1*factor(treatment)IgG'\n",
       "\\item[\\$test] 'glm'\n",
       "\\end{description}\n"
      ],
      "text/markdown": [
       "$table\n",
       ":   \n",
       "A data.frame: 4 × 5\n",
       "\n",
       "| <!--/--> | logFC &lt;dbl&gt; | logCPM &lt;dbl&gt; | F &lt;dbl&gt; | PValue &lt;dbl&gt; | FDR &lt;dbl&gt; |\n",
       "|---|---|---|---|---|---|\n",
       "| Alv.Mac |  0.53130277 | 16.62451 | 1.53464615 | 0.2210600 | 0.7927024 |\n",
       "| Monocyte |  0.26444240 | 17.52957 | 0.50099837 | 0.4822683 | 0.7927024 |\n",
       "| Mac | -0.11266772 | 18.78120 | 0.16896286 | 0.6827489 | 0.7927024 |\n",
       "| Inflam.Mac | -0.09406411 | 18.03095 | 0.06978987 | 0.7927024 | 0.7927024 |\n",
       "\n",
       "\n",
       "$adjust.method\n",
       ":   'BH'\n",
       "$comparison\n",
       ":   '1*factor(treatment)CD8b -1*factor(treatment)IgG'\n",
       "$test\n",
       ":   'glm'\n",
       "\n",
       "\n"
      ],
      "text/plain": [
       "Coefficient:  1*factor(treatment)CD8b -1*factor(treatment)IgG \n",
       "                 logFC   logCPM          F    PValue       FDR\n",
       "Alv.Mac     0.53130277 16.62451 1.53464615 0.2210600 0.7927024\n",
       "Monocyte    0.26444240 17.52957 0.50099837 0.4822683 0.7927024\n",
       "Mac        -0.11266772 18.78120 0.16896286 0.6827489 0.7927024\n",
       "Inflam.Mac -0.09406411 18.03095 0.06978987 0.7927024 0.7927024"
      ]
     },
     "metadata": {},
     "output_type": "display_data"
    }
   ],
   "source": [
    "topTags(res)"
   ]
  },
  {
   "cell_type": "code",
   "execution_count": 77,
   "id": "e7b3683b",
   "metadata": {},
   "outputs": [],
   "source": [
    "res <- glmQLFTest(fit.ab, contrast=c(1,0,-1))"
   ]
  },
  {
   "cell_type": "code",
   "execution_count": 78,
   "id": "726c90a0",
   "metadata": {},
   "outputs": [
    {
     "data": {
      "text/plain": [
       "       1*factor(treatment)CD8a -1*factor(treatment)IgG\n",
       "Down                                                 0\n",
       "NotSig                                               2\n",
       "Up                                                   2"
      ]
     },
     "metadata": {},
     "output_type": "display_data"
    }
   ],
   "source": [
    "summary(decideTests(res)) # CD8b vs CD8a"
   ]
  },
  {
   "cell_type": "code",
   "execution_count": 79,
   "id": "eda6751d",
   "metadata": {},
   "outputs": [
    {
     "data": {
      "text/html": [
       "<dl>\n",
       "\t<dt>$table</dt>\n",
       "\t\t<dd><table class=\"dataframe\">\n",
       "<caption>A data.frame: 4 × 5</caption>\n",
       "<thead>\n",
       "\t<tr><th></th><th scope=col>logFC</th><th scope=col>logCPM</th><th scope=col>F</th><th scope=col>PValue</th><th scope=col>FDR</th></tr>\n",
       "\t<tr><th></th><th scope=col>&lt;dbl&gt;</th><th scope=col>&lt;dbl&gt;</th><th scope=col>&lt;dbl&gt;</th><th scope=col>&lt;dbl&gt;</th><th scope=col>&lt;dbl&gt;</th></tr>\n",
       "</thead>\n",
       "<tbody>\n",
       "\t<tr><th scope=row>Alv.Mac</th><td> 0.9891293</td><td>16.62451</td><td>6.010348</td><td>0.01766959</td><td>0.04686297</td></tr>\n",
       "\t<tr><th scope=row>Monocyte</th><td> 0.8207279</td><td>17.52957</td><td>5.457611</td><td>0.02343148</td><td>0.04686297</td></tr>\n",
       "\t<tr><th scope=row>Inflam.Mac</th><td>-0.4093752</td><td>18.03095</td><td>1.571147</td><td>0.21572831</td><td>0.26271509</td></tr>\n",
       "\t<tr><th scope=row>Mac</th><td>-0.2860261</td><td>18.78120</td><td>1.282445</td><td>0.26271509</td><td>0.26271509</td></tr>\n",
       "</tbody>\n",
       "</table>\n",
       "</dd>\n",
       "\t<dt>$adjust.method</dt>\n",
       "\t\t<dd>'BH'</dd>\n",
       "\t<dt>$comparison</dt>\n",
       "\t\t<dd>'1*factor(treatment)CD8a -1*factor(treatment)IgG'</dd>\n",
       "\t<dt>$test</dt>\n",
       "\t\t<dd>'glm'</dd>\n",
       "</dl>\n"
      ],
      "text/latex": [
       "\\begin{description}\n",
       "\\item[\\$table] A data.frame: 4 × 5\n",
       "\\begin{tabular}{r|lllll}\n",
       "  & logFC & logCPM & F & PValue & FDR\\\\\n",
       "  & <dbl> & <dbl> & <dbl> & <dbl> & <dbl>\\\\\n",
       "\\hline\n",
       "\tAlv.Mac &  0.9891293 & 16.62451 & 6.010348 & 0.01766959 & 0.04686297\\\\\n",
       "\tMonocyte &  0.8207279 & 17.52957 & 5.457611 & 0.02343148 & 0.04686297\\\\\n",
       "\tInflam.Mac & -0.4093752 & 18.03095 & 1.571147 & 0.21572831 & 0.26271509\\\\\n",
       "\tMac & -0.2860261 & 18.78120 & 1.282445 & 0.26271509 & 0.26271509\\\\\n",
       "\\end{tabular}\n",
       "\n",
       "\\item[\\$adjust.method] 'BH'\n",
       "\\item[\\$comparison] '1*factor(treatment)CD8a -1*factor(treatment)IgG'\n",
       "\\item[\\$test] 'glm'\n",
       "\\end{description}\n"
      ],
      "text/markdown": [
       "$table\n",
       ":   \n",
       "A data.frame: 4 × 5\n",
       "\n",
       "| <!--/--> | logFC &lt;dbl&gt; | logCPM &lt;dbl&gt; | F &lt;dbl&gt; | PValue &lt;dbl&gt; | FDR &lt;dbl&gt; |\n",
       "|---|---|---|---|---|---|\n",
       "| Alv.Mac |  0.9891293 | 16.62451 | 6.010348 | 0.01766959 | 0.04686297 |\n",
       "| Monocyte |  0.8207279 | 17.52957 | 5.457611 | 0.02343148 | 0.04686297 |\n",
       "| Inflam.Mac | -0.4093752 | 18.03095 | 1.571147 | 0.21572831 | 0.26271509 |\n",
       "| Mac | -0.2860261 | 18.78120 | 1.282445 | 0.26271509 | 0.26271509 |\n",
       "\n",
       "\n",
       "$adjust.method\n",
       ":   'BH'\n",
       "$comparison\n",
       ":   '1*factor(treatment)CD8a -1*factor(treatment)IgG'\n",
       "$test\n",
       ":   'glm'\n",
       "\n",
       "\n"
      ],
      "text/plain": [
       "Coefficient:  1*factor(treatment)CD8a -1*factor(treatment)IgG \n",
       "                logFC   logCPM        F     PValue        FDR\n",
       "Alv.Mac     0.9891293 16.62451 6.010348 0.01766959 0.04686297\n",
       "Monocyte    0.8207279 17.52957 5.457611 0.02343148 0.04686297\n",
       "Inflam.Mac -0.4093752 18.03095 1.571147 0.21572831 0.26271509\n",
       "Mac        -0.2860261 18.78120 1.282445 0.26271509 0.26271509"
      ]
     },
     "metadata": {},
     "output_type": "display_data"
    }
   ],
   "source": [
    "topTags(res)"
   ]
  },
  {
   "cell_type": "code",
   "execution_count": 80,
   "id": "5a8cb7ba",
   "metadata": {},
   "outputs": [],
   "source": [
    "res <- glmQLFTest(fit.ab, contrast=c(0,1,-1))"
   ]
  },
  {
   "cell_type": "code",
   "execution_count": 81,
   "id": "d0eeafbe",
   "metadata": {},
   "outputs": [
    {
     "data": {
      "text/plain": [
       "       1*factor(treatment)CD8b -1*factor(treatment)IgG\n",
       "Down                                                 0\n",
       "NotSig                                               4\n",
       "Up                                                   0"
      ]
     },
     "metadata": {},
     "output_type": "display_data"
    }
   ],
   "source": [
    "summary(decideTests(res)) # CD8b vs IgG"
   ]
  },
  {
   "cell_type": "code",
   "execution_count": 49,
   "id": "547b3da3",
   "metadata": {},
   "outputs": [],
   "source": [
    "res <- glmQLFTest(fit.ab,  coef = 6)"
   ]
  },
  {
   "cell_type": "code",
   "execution_count": 50,
   "id": "b955139b",
   "metadata": {},
   "outputs": [
    {
     "data": {
      "text/plain": [
       "       factor(treatment)IgG\n",
       "Down                      3\n",
       "NotSig                    1\n",
       "Up                        1"
      ]
     },
     "metadata": {},
     "output_type": "display_data"
    }
   ],
   "source": [
    "summary(decideTests(res)) #IgG vs CD8a"
   ]
  },
  {
   "cell_type": "code",
   "execution_count": 51,
   "id": "ed4bc001",
   "metadata": {
    "scrolled": true
   },
   "outputs": [
    {
     "data": {
      "text/html": [
       "<dl>\n",
       "\t<dt>$table</dt>\n",
       "\t\t<dd><table class=\"dataframe\">\n",
       "<caption>A data.frame: 5 × 5</caption>\n",
       "<thead>\n",
       "\t<tr><th></th><th scope=col>logFC</th><th scope=col>logCPM</th><th scope=col>F</th><th scope=col>PValue</th><th scope=col>FDR</th></tr>\n",
       "\t<tr><th></th><th scope=col>&lt;dbl&gt;</th><th scope=col>&lt;dbl&gt;</th><th scope=col>&lt;dbl&gt;</th><th scope=col>&lt;dbl&gt;</th><th scope=col>&lt;dbl&gt;</th></tr>\n",
       "</thead>\n",
       "<tbody>\n",
       "\t<tr><th scope=row>Inf.Mac</th><td> 1.1503792</td><td>18.33521</td><td>12.648417</td><td>0.0009804507</td><td>0.004902254</td></tr>\n",
       "\t<tr><th scope=row>CD16.MO</th><td>-1.6764240</td><td>16.01412</td><td>10.683568</td><td>0.0022187967</td><td>0.005546992</td></tr>\n",
       "\t<tr><th scope=row>CD14..MO</th><td>-1.4184716</td><td>16.34509</td><td> 7.486028</td><td>0.0092118407</td><td>0.015353068</td></tr>\n",
       "\t<tr><th scope=row>Alv.Mac</th><td>-1.0972233</td><td>17.60552</td><td> 6.064766</td><td>0.0181709296</td><td>0.022713662</td></tr>\n",
       "\t<tr><th scope=row>Mac</th><td> 0.4437221</td><td>18.34385</td><td> 2.250149</td><td>0.1414162029</td><td>0.141416203</td></tr>\n",
       "</tbody>\n",
       "</table>\n",
       "</dd>\n",
       "\t<dt>$adjust.method</dt>\n",
       "\t\t<dd>'BH'</dd>\n",
       "\t<dt>$comparison</dt>\n",
       "\t\t<dd>'factor(treatment)IgG'</dd>\n",
       "\t<dt>$test</dt>\n",
       "\t\t<dd>'glm'</dd>\n",
       "</dl>\n"
      ],
      "text/latex": [
       "\\begin{description}\n",
       "\\item[\\$table] A data.frame: 5 × 5\n",
       "\\begin{tabular}{r|lllll}\n",
       "  & logFC & logCPM & F & PValue & FDR\\\\\n",
       "  & <dbl> & <dbl> & <dbl> & <dbl> & <dbl>\\\\\n",
       "\\hline\n",
       "\tInf.Mac &  1.1503792 & 18.33521 & 12.648417 & 0.0009804507 & 0.004902254\\\\\n",
       "\tCD16.MO & -1.6764240 & 16.01412 & 10.683568 & 0.0022187967 & 0.005546992\\\\\n",
       "\tCD14..MO & -1.4184716 & 16.34509 &  7.486028 & 0.0092118407 & 0.015353068\\\\\n",
       "\tAlv.Mac & -1.0972233 & 17.60552 &  6.064766 & 0.0181709296 & 0.022713662\\\\\n",
       "\tMac &  0.4437221 & 18.34385 &  2.250149 & 0.1414162029 & 0.141416203\\\\\n",
       "\\end{tabular}\n",
       "\n",
       "\\item[\\$adjust.method] 'BH'\n",
       "\\item[\\$comparison] 'factor(treatment)IgG'\n",
       "\\item[\\$test] 'glm'\n",
       "\\end{description}\n"
      ],
      "text/markdown": [
       "$table\n",
       ":   \n",
       "A data.frame: 5 × 5\n",
       "\n",
       "| <!--/--> | logFC &lt;dbl&gt; | logCPM &lt;dbl&gt; | F &lt;dbl&gt; | PValue &lt;dbl&gt; | FDR &lt;dbl&gt; |\n",
       "|---|---|---|---|---|---|\n",
       "| Inf.Mac |  1.1503792 | 18.33521 | 12.648417 | 0.0009804507 | 0.004902254 |\n",
       "| CD16.MO | -1.6764240 | 16.01412 | 10.683568 | 0.0022187967 | 0.005546992 |\n",
       "| CD14..MO | -1.4184716 | 16.34509 |  7.486028 | 0.0092118407 | 0.015353068 |\n",
       "| Alv.Mac | -1.0972233 | 17.60552 |  6.064766 | 0.0181709296 | 0.022713662 |\n",
       "| Mac |  0.4437221 | 18.34385 |  2.250149 | 0.1414162029 | 0.141416203 |\n",
       "\n",
       "\n",
       "$adjust.method\n",
       ":   'BH'\n",
       "$comparison\n",
       ":   'factor(treatment)IgG'\n",
       "$test\n",
       ":   'glm'\n",
       "\n",
       "\n"
      ],
      "text/plain": [
       "Coefficient:  factor(treatment)IgG \n",
       "              logFC   logCPM         F       PValue         FDR\n",
       "Inf.Mac   1.1503792 18.33521 12.648417 0.0009804507 0.004902254\n",
       "CD16.MO  -1.6764240 16.01412 10.683568 0.0022187967 0.005546992\n",
       "CD14..MO -1.4184716 16.34509  7.486028 0.0092118407 0.015353068\n",
       "Alv.Mac  -1.0972233 17.60552  6.064766 0.0181709296 0.022713662\n",
       "Mac       0.4437221 18.34385  2.250149 0.1414162029 0.141416203"
      ]
     },
     "metadata": {},
     "output_type": "display_data"
    }
   ],
   "source": [
    "topTags(res)"
   ]
  },
  {
   "cell_type": "code",
   "execution_count": null,
   "id": "1428258c",
   "metadata": {},
   "outputs": [],
   "source": []
  }
 ],
 "metadata": {
  "kernelspec": {
   "display_name": "R",
   "language": "R",
   "name": "ir"
  },
  "language_info": {
   "codemirror_mode": "r",
   "file_extension": ".r",
   "mimetype": "text/x-r-source",
   "name": "R",
   "pygments_lexer": "r",
   "version": "4.2.1"
  }
 },
 "nbformat": 4,
 "nbformat_minor": 5
}
